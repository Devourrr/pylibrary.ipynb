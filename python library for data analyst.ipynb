{
 "cells": [
  {
   "cell_type": "markdown",
   "metadata": {},
   "source": [
    "## 파이썬 라이브러리를 활용한 데이터 분석 2판\n",
    "https://github.com/wesm/pydata-book"
   ]
  },
  {
   "cell_type": "markdown",
   "metadata": {},
   "source": [
    "### Chapter 6. 데이터 로딩과 저장, 파일 형식 p237"
   ]
  },
  {
   "cell_type": "markdown",
   "metadata": {},
   "source": [
    "- 텍스트 파일에서 데이터를 읽고 쓰는법\n",
    "|함수|설명|\n",
    "|----|----|\n",
    "|read_csv|파일, URL 또는 파일과 유사한 객체로부터 구분된 데이터를 읽어온다. 데이터 구분자는 쉼표(,)를 기본으로 한다.|\n",
    "|read_table|파일, URL 또는 파일과 유사한 객체로부터 구분된 데이터를 읽어온다. 데이터 구분자는 탭('\\t')을 기본으로 한다.|\n",
    "|read_fwf|고정폭 칼럼 형식에서 데이터를 읽어온다(구분자가 없는 데이터).|\n",
    "|read_clipboard|클립보드에 있는 데이터를 읽어오는 read_table 함수. 웹페이지에서 표를 읽어올 때 유용하다.|\n",
    "|read_excel|엑셀 파일(XLS, XLSX)에서 표 형식의 데이터를 읽어온다.|\n",
    "|read_hdf|pandas에서 저장한 HDFS 파일에서 데이터를 읽어온다.|\n",
    "|read_html|HTML 문서 내의 모든 테이블의 데이터를 읽어온다.|\n",
    "|read_json|JSON 문자열에서 데이터를 읽어온다.|\n",
    "|read_msgpack| 메시지팩 바이너리 포맷으로 인코딩된 pandas 데이터를 읽어온다.|\n",
    "|read_pickle|파이썬 피클 포맷으로 저장된 객체를 읽어온다.|\n",
    "|read_sas|SAS 시스템의 사용자 정의 저장 포맷으로 저장된 데이터를 읽어온다.|\n",
    "|read_sql|SQL 쿼리 결과를 pandas의 DataFrame 형식으로 읽어온다.|\n",
    "|read_stata|Stata 파일에서 데이터를 읽어온다.|\n",
    "|read_feather|Feather 바이너리 파일 포맷으로부터 데이터를 읽어온다.|"
   ]
  },
  {
   "cell_type": "code",
   "execution_count": 9,
   "metadata": {},
   "outputs": [
    {
     "data": {
      "text/plain": [
       "[    순위  순위.1             음식명          단위          칼로리\n",
       " 0    1   NaN              쌀밥   1공기(210g)     310 kcal\n",
       " 1    2   NaN           삶은 달걀     1개(50g)      68 kcal\n",
       " 2    3   NaN             바나나    1개(100g)      93 kcal\n",
       " 3    4   NaN           방울토마토     1개(13g)       2 kcal\n",
       " 4    5   NaN           계란프라이     1개(46g)      89 kcal\n",
       " 5    6   NaN              사과    1회(100g)      57 kcal\n",
       " 6    7   NaN            배추김치  1소접시(100g)      25 kcal\n",
       " 7    8   NaN      토마토 (중간크기)    1개(100g)      14 kcal\n",
       " 8    9   NaN              참외    1개(200g)      62 kcal\n",
       " 9   10   NaN             아몬드      1개(1g)       7 kcal\n",
       " 10  11   NaN             잡곡밥   1공기(210g)     340 kcal\n",
       " 11  12   NaN             현미밥   1공기(210g)     321 kcal\n",
       " 12  13   NaN              상추   1회분(100g)      18 kcal\n",
       " 13  14   NaN              수박    1회(100g)      36 kcal\n",
       " 14  15   NaN           아메리카노   1잔(240ml)       4 kcal\n",
       " 15  16   NaN            찐고구마    1회(100g)     130 kcal\n",
       " 16  17   NaN              오이    1개(210g)      19 kcal\n",
       " 17  18   NaN   돼지고기 삼겹살(구운것)   1인분(100g)     460 kcal\n",
       " 18  19   NaN             오렌지    1개(200g)      88 kcal\n",
       " 19  20   NaN              우유   1컵(100ml)      65 kcal\n",
       " 20  21   NaN            군고구마    1회(100g)     124 kcal\n",
       " 21  22   NaN              두부    1회(100g)      88 kcal\n",
       " 22  23   NaN         대추방울토마토     1개(15g)       2 kcal\n",
       " 23  24   NaN              김밥    1줄(200g)     318 kcal\n",
       " 24  25   NaN             양상추   1인분(100g)      11 kcal\n",
       " 25  26   NaN  야채샐러드 (드레싱 포함)   1인분(150g)     100 kcal\n",
       " 26  27   NaN             떡볶이   1인분(200g)  303.53 kcal\n",
       " 27  28   NaN              딸기    1회(100g)      27 kcal\n",
       " 28  29   NaN             양배추    1회(100g)      24 kcal\n",
       " 29  30   NaN              양파   1인분(100g)      20 kcal]"
      ]
     },
     "execution_count": 9,
     "metadata": {},
     "output_type": "execute_result"
    }
   ],
   "source": [
    "import pandas as pd\n",
    "\n",
    "df = pd.read_html('https://dietshin.com/calorie/calorie_main.asp',encoding = 'utf-8')\n",
    "df"
   ]
  },
  {
   "cell_type": "code",
   "execution_count": 101,
   "metadata": {},
   "outputs": [
    {
     "data": {
      "text/plain": [
       "[    순위  순위.1             음식명          단위          칼로리\n",
       " 0    1   NaN              쌀밥   1공기(210g)     310 kcal\n",
       " 1    2   NaN           삶은 달걀     1개(50g)      68 kcal\n",
       " 2    3   NaN             바나나    1개(100g)      93 kcal\n",
       " 3    4   NaN           방울토마토     1개(13g)       2 kcal\n",
       " 4    5   NaN           계란프라이     1개(46g)      89 kcal\n",
       " 5    6   NaN              사과    1회(100g)      57 kcal\n",
       " 6    7   NaN            배추김치  1소접시(100g)      25 kcal\n",
       " 7    8   NaN      토마토 (중간크기)    1개(100g)      14 kcal\n",
       " 8    9   NaN              참외    1개(200g)      62 kcal\n",
       " 9   10   NaN             아몬드      1개(1g)       7 kcal\n",
       " 10  11   NaN             잡곡밥   1공기(210g)     340 kcal\n",
       " 11  12   NaN             현미밥   1공기(210g)     321 kcal\n",
       " 12  13   NaN              상추   1회분(100g)      18 kcal\n",
       " 13  14   NaN              수박    1회(100g)      36 kcal\n",
       " 14  15   NaN           아메리카노   1잔(240ml)       4 kcal\n",
       " 15  16   NaN            찐고구마    1회(100g)     130 kcal\n",
       " 16  17   NaN              오이    1개(210g)      19 kcal\n",
       " 17  18   NaN   돼지고기 삼겹살(구운것)   1인분(100g)     460 kcal\n",
       " 18  19   NaN             오렌지    1개(200g)      88 kcal\n",
       " 19  20   NaN              우유   1컵(100ml)      65 kcal\n",
       " 20  21   NaN            군고구마    1회(100g)     124 kcal\n",
       " 21  22   NaN              두부    1회(100g)      88 kcal\n",
       " 22  23   NaN         대추방울토마토     1개(15g)       2 kcal\n",
       " 23  24   NaN              김밥    1줄(200g)     318 kcal\n",
       " 24  25   NaN             양상추   1인분(100g)      11 kcal\n",
       " 25  26   NaN  야채샐러드 (드레싱 포함)   1인분(150g)     100 kcal\n",
       " 26  27   NaN             떡볶이   1인분(200g)  303.53 kcal\n",
       " 27  28   NaN              딸기    1회(100g)      27 kcal\n",
       " 28  29   NaN             양배추    1회(100g)      24 kcal\n",
       " 29  30   NaN              양파   1인분(100g)      20 kcal]"
      ]
     },
     "execution_count": 101,
     "metadata": {},
     "output_type": "execute_result"
    }
   ],
   "source": [
    "import pandas as pd\n",
    "\n",
    "df = pd.read_html('https://dietshin.com/calorie/calorie_main.asp', encoding='utf-8')\n",
    "df"
   ]
  },
  {
   "cell_type": "code",
   "execution_count": 103,
   "metadata": {},
   "outputs": [
    {
     "data": {
      "text/html": [
       "<div>\n",
       "<style scoped>\n",
       "    .dataframe tbody tr th:only-of-type {\n",
       "        vertical-align: middle;\n",
       "    }\n",
       "\n",
       "    .dataframe tbody tr th {\n",
       "        vertical-align: top;\n",
       "    }\n",
       "\n",
       "    .dataframe thead th {\n",
       "        text-align: right;\n",
       "    }\n",
       "</style>\n",
       "<table border=\"1\" class=\"dataframe\">\n",
       "  <thead>\n",
       "    <tr style=\"text-align: right;\">\n",
       "      <th></th>\n",
       "      <th>1</th>\n",
       "      <th>동등</th>\n",
       "      <th>쌀밥</th>\n",
       "      <th>1공기(210g)</th>\n",
       "      <th>310 kcal</th>\n",
       "    </tr>\n",
       "  </thead>\n",
       "  <tbody>\n",
       "    <tr>\n",
       "      <th>0</th>\n",
       "      <td>2</td>\n",
       "      <td>동등</td>\n",
       "      <td>삶은 달걀</td>\n",
       "      <td>1개(50g)</td>\n",
       "      <td>68 kcal</td>\n",
       "    </tr>\n",
       "    <tr>\n",
       "      <th>1</th>\n",
       "      <td>3</td>\n",
       "      <td>동등</td>\n",
       "      <td>바나나</td>\n",
       "      <td>1개(100g)</td>\n",
       "      <td>93 kcal</td>\n",
       "    </tr>\n",
       "    <tr>\n",
       "      <th>2</th>\n",
       "      <td>4</td>\n",
       "      <td>상승</td>\n",
       "      <td>방울토마토</td>\n",
       "      <td>1개(13g)</td>\n",
       "      <td>2 kcal</td>\n",
       "    </tr>\n",
       "    <tr>\n",
       "      <th>3</th>\n",
       "      <td>5</td>\n",
       "      <td>동등</td>\n",
       "      <td>계란프라이</td>\n",
       "      <td>1개(46g)</td>\n",
       "      <td>89 kcal</td>\n",
       "    </tr>\n",
       "    <tr>\n",
       "      <th>4</th>\n",
       "      <td>6</td>\n",
       "      <td>하락</td>\n",
       "      <td>사과</td>\n",
       "      <td>1회(100g)</td>\n",
       "      <td>57 kcal</td>\n",
       "    </tr>\n",
       "    <tr>\n",
       "      <th>5</th>\n",
       "      <td>7</td>\n",
       "      <td>하락</td>\n",
       "      <td>배추김치</td>\n",
       "      <td>1소접시(100g)</td>\n",
       "      <td>25 kcal</td>\n",
       "    </tr>\n",
       "    <tr>\n",
       "      <th>6</th>\n",
       "      <td>8</td>\n",
       "      <td>상승</td>\n",
       "      <td>토마토 (중간크기)</td>\n",
       "      <td>1개(100g)</td>\n",
       "      <td>14 kcal</td>\n",
       "    </tr>\n",
       "    <tr>\n",
       "      <th>7</th>\n",
       "      <td>9</td>\n",
       "      <td>하락</td>\n",
       "      <td>참외</td>\n",
       "      <td>1개(200g)</td>\n",
       "      <td>62 kcal</td>\n",
       "    </tr>\n",
       "  </tbody>\n",
       "</table>\n",
       "</div>"
      ],
      "text/plain": [
       "   1  동등          쌀밥   1공기(210g) 310 kcal\n",
       "0  2  동등       삶은 달걀     1개(50g)  68 kcal\n",
       "1  3  동등         바나나    1개(100g)  93 kcal\n",
       "2  4  상승       방울토마토     1개(13g)   2 kcal\n",
       "3  5  동등       계란프라이     1개(46g)  89 kcal\n",
       "4  6  하락          사과    1회(100g)  57 kcal\n",
       "5  7  하락        배추김치  1소접시(100g)  25 kcal\n",
       "6  8  상승  토마토 (중간크기)    1개(100g)  14 kcal\n",
       "7  9  하락          참외    1개(200g)  62 kcal"
      ]
     },
     "execution_count": 103,
     "metadata": {},
     "output_type": "execute_result"
    }
   ],
   "source": [
    "df = pd.read_clipboard()\n",
    "df"
   ]
  },
  {
   "cell_type": "code",
   "execution_count": 1,
   "metadata": {},
   "outputs": [
    {
     "name": "stderr",
     "output_type": "stream",
     "text": [
      "'head'은(는) 내부 또는 외부 명령, 실행할 수 있는 프로그램, 또는\n",
      "배치 파일이 아닙니다.\n"
     ]
    }
   ],
   "source": [
    "# p.239\n",
    "'''\n",
    "헤더가 있는 데이터\n",
    "\n",
    "a,b,c,d,message\n",
    "1,2,3,4,hello\n",
    "5,6,7,8,world\n",
    "9,10,11,12,foo\n",
    "'''\n",
    "!head \"emxaples/ex.csv\""
   ]
  },
  {
   "cell_type": "code",
   "execution_count": 25,
   "metadata": {},
   "outputs": [
    {
     "data": {
      "text/html": [
       "<div>\n",
       "<style scoped>\n",
       "    .dataframe tbody tr th:only-of-type {\n",
       "        vertical-align: middle;\n",
       "    }\n",
       "\n",
       "    .dataframe tbody tr th {\n",
       "        vertical-align: top;\n",
       "    }\n",
       "\n",
       "    .dataframe thead th {\n",
       "        text-align: right;\n",
       "    }\n",
       "</style>\n",
       "<table border=\"1\" class=\"dataframe\">\n",
       "  <thead>\n",
       "    <tr style=\"text-align: right;\">\n",
       "      <th></th>\n",
       "      <th>a</th>\n",
       "      <th>b</th>\n",
       "      <th>c</th>\n",
       "      <th>d</th>\n",
       "      <th>message</th>\n",
       "    </tr>\n",
       "  </thead>\n",
       "  <tbody>\n",
       "    <tr>\n",
       "      <th>0</th>\n",
       "      <td>1</td>\n",
       "      <td>2</td>\n",
       "      <td>3</td>\n",
       "      <td>4</td>\n",
       "      <td>hello</td>\n",
       "    </tr>\n",
       "    <tr>\n",
       "      <th>1</th>\n",
       "      <td>5</td>\n",
       "      <td>6</td>\n",
       "      <td>7</td>\n",
       "      <td>8</td>\n",
       "      <td>world</td>\n",
       "    </tr>\n",
       "    <tr>\n",
       "      <th>2</th>\n",
       "      <td>9</td>\n",
       "      <td>10</td>\n",
       "      <td>11</td>\n",
       "      <td>12</td>\n",
       "      <td>foo</td>\n",
       "    </tr>\n",
       "  </tbody>\n",
       "</table>\n",
       "</div>"
      ],
      "text/plain": [
       "   a   b   c   d message\n",
       "0  1   2   3   4   hello\n",
       "1  5   6   7   8   world\n",
       "2  9  10  11  12     foo"
      ]
     },
     "execution_count": 25,
     "metadata": {},
     "output_type": "execute_result"
    }
   ],
   "source": [
    "import pandas as pd\n",
    "df = pd.read_csv('examples/ex1.csv')\n",
    "df"
   ]
  },
  {
   "cell_type": "code",
   "execution_count": 26,
   "metadata": {},
   "outputs": [
    {
     "data": {
      "text/html": [
       "<div>\n",
       "<style scoped>\n",
       "    .dataframe tbody tr th:only-of-type {\n",
       "        vertical-align: middle;\n",
       "    }\n",
       "\n",
       "    .dataframe tbody tr th {\n",
       "        vertical-align: top;\n",
       "    }\n",
       "\n",
       "    .dataframe thead th {\n",
       "        text-align: right;\n",
       "    }\n",
       "</style>\n",
       "<table border=\"1\" class=\"dataframe\">\n",
       "  <thead>\n",
       "    <tr style=\"text-align: right;\">\n",
       "      <th></th>\n",
       "      <th>a,b,c,d,message</th>\n",
       "    </tr>\n",
       "  </thead>\n",
       "  <tbody>\n",
       "    <tr>\n",
       "      <th>0</th>\n",
       "      <td>1,2,3,4,hello</td>\n",
       "    </tr>\n",
       "    <tr>\n",
       "      <th>1</th>\n",
       "      <td>5,6,7,8,world</td>\n",
       "    </tr>\n",
       "    <tr>\n",
       "      <th>2</th>\n",
       "      <td>9,10,11,12,foo</td>\n",
       "    </tr>\n",
       "  </tbody>\n",
       "</table>\n",
       "</div>"
      ],
      "text/plain": [
       "  a,b,c,d,message\n",
       "0   1,2,3,4,hello\n",
       "1   5,6,7,8,world\n",
       "2  9,10,11,12,foo"
      ]
     },
     "execution_count": 26,
     "metadata": {},
     "output_type": "execute_result"
    }
   ],
   "source": [
    "pd.read_table('examples/ex1.csv',sep='.') # read_table()은 구분자를 따로 지정할 때 사용하는 함수"
   ]
  },
  {
   "cell_type": "code",
   "execution_count": null,
   "metadata": {},
   "outputs": [],
   "source": [
    "# p.240\n",
    "'''\n",
    "헤더가 없는 데이터\n",
    "ex2.csv\n",
    "\n",
    "1,2,3,4,hello\n",
    "5,6,7,8,world\n",
    "9,10,11,12,foo\n",
    "'''"
   ]
  },
  {
   "cell_type": "code",
   "execution_count": 52,
   "metadata": {},
   "outputs": [
    {
     "name": "stdout",
     "output_type": "stream",
     "text": [
      "   0   1   2   3      4\n",
      "0  1   2   3   4  hello\n",
      "1  5   6   7   8  world\n",
      "2  9  10  11  12    foo\n",
      "\n",
      "   1   2   3   4  hello\n",
      "0  5   6   7   8  world\n",
      "1  9  10  11  12    foo\n",
      "\n",
      "   5   6   7   8 world\n",
      "0  9  10  11  12   foo\n",
      "   a   b   c   d message\n",
      "0  1   2   3   4   hello\n",
      "1  5   6   7   8   world\n",
      "2  9  10  11  12     foo\n"
     ]
    }
   ],
   "source": [
    "import pandas as pd\n",
    "# 헤더가 되는 행 번호(헤더가 없으면 None)\n",
    "print(pd.read_csv('examples/ex2.csv', header=None))\n",
    "print()\n",
    "print(pd.read_csv('examples/ex2.csv', header=0)) #0번재 행을 헤더로 지정\n",
    "print()\n",
    "# # 데이터는 헤더행 이후부터\n",
    "print(pd.read_csv('examples/ex2.csv',header=1)) #1번째 행을 헤더로 지정, 위쪽 데이터는 제거됨\n",
    "\n",
    "\n",
    "# # 칼럼 이름 지정\n",
    "print(pd.read_csv('examples/ex2.csv', names = ['a','b','c','d','message']))"
   ]
  },
  {
   "cell_type": "code",
   "execution_count": 32,
   "metadata": {},
   "outputs": [
    {
     "data": {
      "text/html": [
       "<div>\n",
       "<style scoped>\n",
       "    .dataframe tbody tr th:only-of-type {\n",
       "        vertical-align: middle;\n",
       "    }\n",
       "\n",
       "    .dataframe tbody tr th {\n",
       "        vertical-align: top;\n",
       "    }\n",
       "\n",
       "    .dataframe thead th {\n",
       "        text-align: right;\n",
       "    }\n",
       "</style>\n",
       "<table border=\"1\" class=\"dataframe\">\n",
       "  <thead>\n",
       "    <tr style=\"text-align: right;\">\n",
       "      <th></th>\n",
       "      <th>a</th>\n",
       "      <th>b</th>\n",
       "      <th>c</th>\n",
       "      <th>d</th>\n",
       "    </tr>\n",
       "    <tr>\n",
       "      <th>message</th>\n",
       "      <th></th>\n",
       "      <th></th>\n",
       "      <th></th>\n",
       "      <th></th>\n",
       "    </tr>\n",
       "  </thead>\n",
       "  <tbody>\n",
       "    <tr>\n",
       "      <th>hello</th>\n",
       "      <td>1</td>\n",
       "      <td>2</td>\n",
       "      <td>3</td>\n",
       "      <td>4</td>\n",
       "    </tr>\n",
       "    <tr>\n",
       "      <th>world</th>\n",
       "      <td>5</td>\n",
       "      <td>6</td>\n",
       "      <td>7</td>\n",
       "      <td>8</td>\n",
       "    </tr>\n",
       "    <tr>\n",
       "      <th>foo</th>\n",
       "      <td>9</td>\n",
       "      <td>10</td>\n",
       "      <td>11</td>\n",
       "      <td>12</td>\n",
       "    </tr>\n",
       "  </tbody>\n",
       "</table>\n",
       "</div>"
      ],
      "text/plain": [
       "         a   b   c   d\n",
       "message               \n",
       "hello    1   2   3   4\n",
       "world    5   6   7   8\n",
       "foo      9  10  11  12"
      ]
     },
     "execution_count": 32,
     "metadata": {},
     "output_type": "execute_result"
    }
   ],
   "source": [
    "'''\n",
    "칼럼 이름을 직접 지정 및 인덱스 열 지정\n",
    "'''\n",
    "\n",
    "names = ['a','b','c','d','message']\n",
    "pd.read_csv('examples/ex2.csv',names=names, index_col='message')"
   ]
  },
  {
   "cell_type": "code",
   "execution_count": 54,
   "metadata": {},
   "outputs": [
    {
     "data": {
      "text/html": [
       "<div>\n",
       "<style scoped>\n",
       "    .dataframe tbody tr th:only-of-type {\n",
       "        vertical-align: middle;\n",
       "    }\n",
       "\n",
       "    .dataframe tbody tr th {\n",
       "        vertical-align: top;\n",
       "    }\n",
       "\n",
       "    .dataframe thead th {\n",
       "        text-align: right;\n",
       "    }\n",
       "</style>\n",
       "<table border=\"1\" class=\"dataframe\">\n",
       "  <thead>\n",
       "    <tr style=\"text-align: right;\">\n",
       "      <th></th>\n",
       "      <th></th>\n",
       "      <th>value1</th>\n",
       "      <th>value2</th>\n",
       "    </tr>\n",
       "    <tr>\n",
       "      <th>key1</th>\n",
       "      <th>key2</th>\n",
       "      <th></th>\n",
       "      <th></th>\n",
       "    </tr>\n",
       "  </thead>\n",
       "  <tbody>\n",
       "    <tr>\n",
       "      <th rowspan=\"4\" valign=\"top\">one</th>\n",
       "      <th>a</th>\n",
       "      <td>1</td>\n",
       "      <td>2</td>\n",
       "    </tr>\n",
       "    <tr>\n",
       "      <th>b</th>\n",
       "      <td>3</td>\n",
       "      <td>4</td>\n",
       "    </tr>\n",
       "    <tr>\n",
       "      <th>c</th>\n",
       "      <td>5</td>\n",
       "      <td>6</td>\n",
       "    </tr>\n",
       "    <tr>\n",
       "      <th>d</th>\n",
       "      <td>7</td>\n",
       "      <td>8</td>\n",
       "    </tr>\n",
       "    <tr>\n",
       "      <th rowspan=\"4\" valign=\"top\">two</th>\n",
       "      <th>a</th>\n",
       "      <td>9</td>\n",
       "      <td>10</td>\n",
       "    </tr>\n",
       "    <tr>\n",
       "      <th>b</th>\n",
       "      <td>11</td>\n",
       "      <td>12</td>\n",
       "    </tr>\n",
       "    <tr>\n",
       "      <th>c</th>\n",
       "      <td>13</td>\n",
       "      <td>14</td>\n",
       "    </tr>\n",
       "    <tr>\n",
       "      <th>d</th>\n",
       "      <td>15</td>\n",
       "      <td>16</td>\n",
       "    </tr>\n",
       "  </tbody>\n",
       "</table>\n",
       "</div>"
      ],
      "text/plain": [
       "           value1  value2\n",
       "key1 key2                \n",
       "one  a          1       2\n",
       "     b          3       4\n",
       "     c          5       6\n",
       "     d          7       8\n",
       "two  a          9      10\n",
       "     b         11      12\n",
       "     c         13      14\n",
       "     d         15      16"
      ]
     },
     "execution_count": 54,
     "metadata": {},
     "output_type": "execute_result"
    }
   ],
   "source": [
    "'''\n",
    "계층적(다중) 색인 지정\n",
    "\n",
    "key1, key2, value1, value2\n",
    "one, a, 1, 2\n",
    "one, b, 3, 4\n",
    "````\n",
    "two.c, 13, 14\n",
    "two.d, 15, 16\n",
    "'''\n",
    "parsed = pd.read_csv('examples/csv_mindex.csv', \n",
    "                     index_col=['key1','key2'])\n",
    "parsed"
   ]
  },
  {
   "cell_type": "code",
   "execution_count": 55,
   "metadata": {},
   "outputs": [
    {
     "data": {
      "text/plain": [
       "['            A         B         C\\n',\n",
       " 'aaa -0.264438 -1.026059 -0.619500\\n',\n",
       " 'bbb  0.927272  0.302904 -0.032399\\n',\n",
       " 'ccc -0.264273 -0.386314 -0.217601\\n',\n",
       " 'ddd -0.871858 -0.348382  1.100491\\n']"
      ]
     },
     "execution_count": 55,
     "metadata": {},
     "output_type": "execute_result"
    }
   ],
   "source": [
    "# p.241\n",
    "'''\n",
    "고정된 구분자 없이 공백이나 다른 패턴으로 필드를 구분해놓은 경우\n",
    "'''\n",
    "list(open('examples/ex3.txt'))"
   ]
  },
  {
   "cell_type": "code",
   "execution_count": 56,
   "metadata": {},
   "outputs": [
    {
     "data": {
      "text/html": [
       "<div>\n",
       "<style scoped>\n",
       "    .dataframe tbody tr th:only-of-type {\n",
       "        vertical-align: middle;\n",
       "    }\n",
       "\n",
       "    .dataframe tbody tr th {\n",
       "        vertical-align: top;\n",
       "    }\n",
       "\n",
       "    .dataframe thead th {\n",
       "        text-align: right;\n",
       "    }\n",
       "</style>\n",
       "<table border=\"1\" class=\"dataframe\">\n",
       "  <thead>\n",
       "    <tr style=\"text-align: right;\">\n",
       "      <th></th>\n",
       "      <th>A</th>\n",
       "      <th>B</th>\n",
       "      <th>C</th>\n",
       "    </tr>\n",
       "  </thead>\n",
       "  <tbody>\n",
       "    <tr>\n",
       "      <th>aaa</th>\n",
       "      <td>-0.264438</td>\n",
       "      <td>-1.026059</td>\n",
       "      <td>-0.619500</td>\n",
       "    </tr>\n",
       "    <tr>\n",
       "      <th>bbb</th>\n",
       "      <td>0.927272</td>\n",
       "      <td>0.302904</td>\n",
       "      <td>-0.032399</td>\n",
       "    </tr>\n",
       "    <tr>\n",
       "      <th>ccc</th>\n",
       "      <td>-0.264273</td>\n",
       "      <td>-0.386314</td>\n",
       "      <td>-0.217601</td>\n",
       "    </tr>\n",
       "    <tr>\n",
       "      <th>ddd</th>\n",
       "      <td>-0.871858</td>\n",
       "      <td>-0.348382</td>\n",
       "      <td>1.100491</td>\n",
       "    </tr>\n",
       "  </tbody>\n",
       "</table>\n",
       "</div>"
      ],
      "text/plain": [
       "            A         B         C\n",
       "aaa -0.264438 -1.026059 -0.619500\n",
       "bbb  0.927272  0.302904 -0.032399\n",
       "ccc -0.264273 -0.386314 -0.217601\n",
       "ddd -0.871858 -0.348382  1.100491"
      ]
     },
     "execution_count": 56,
     "metadata": {},
     "output_type": "execute_result"
    }
   ],
   "source": [
    "# p.241\n",
    "'''\n",
    "정규 표현식\n",
    "https://wikidocs.net/4308\n",
    "https://regexr.com\n",
    "'''\n",
    "# 정규 표현식 사용(공백 한개 이상)\n",
    "result = pd.read_table('examples/ex3.txt',sep='\\s+')\n",
    "result"
   ]
  },
  {
   "cell_type": "code",
   "execution_count": 57,
   "metadata": {},
   "outputs": [
    {
     "data": {
      "text/html": [
       "<div>\n",
       "<style scoped>\n",
       "    .dataframe tbody tr th:only-of-type {\n",
       "        vertical-align: middle;\n",
       "    }\n",
       "\n",
       "    .dataframe tbody tr th {\n",
       "        vertical-align: top;\n",
       "    }\n",
       "\n",
       "    .dataframe thead th {\n",
       "        text-align: right;\n",
       "    }\n",
       "</style>\n",
       "<table border=\"1\" class=\"dataframe\">\n",
       "  <thead>\n",
       "    <tr style=\"text-align: right;\">\n",
       "      <th></th>\n",
       "      <th>a</th>\n",
       "      <th>b</th>\n",
       "      <th>c</th>\n",
       "      <th>d</th>\n",
       "      <th>message</th>\n",
       "    </tr>\n",
       "  </thead>\n",
       "  <tbody>\n",
       "    <tr>\n",
       "      <th>0</th>\n",
       "      <td>1</td>\n",
       "      <td>2</td>\n",
       "      <td>3</td>\n",
       "      <td>4</td>\n",
       "      <td>hello</td>\n",
       "    </tr>\n",
       "    <tr>\n",
       "      <th>1</th>\n",
       "      <td>5</td>\n",
       "      <td>6</td>\n",
       "      <td>7</td>\n",
       "      <td>8</td>\n",
       "      <td>world</td>\n",
       "    </tr>\n",
       "    <tr>\n",
       "      <th>2</th>\n",
       "      <td>9</td>\n",
       "      <td>10</td>\n",
       "      <td>11</td>\n",
       "      <td>12</td>\n",
       "      <td>foo</td>\n",
       "    </tr>\n",
       "  </tbody>\n",
       "</table>\n",
       "</div>"
      ],
      "text/plain": [
       "   a   b   c   d message\n",
       "0  1   2   3   4   hello\n",
       "1  5   6   7   8   world\n",
       "2  9  10  11  12     foo"
      ]
     },
     "execution_count": 57,
     "metadata": {},
     "output_type": "execute_result"
    }
   ],
   "source": [
    "# p.242\n",
    "'''\n",
    "examples/ex4.csv\n",
    "\n",
    "# hey!\n",
    "a,b,c,d,message\n",
    "# just wanted to make things more difficult for you\n",
    "# who read CSV files with computers, anyway?\n",
    ". . .\n",
    "5,6,7,8,world\n",
    "9,10,11,12,foo\n",
    "'''\n",
    "pd.read_csv('examples/ex4.csv', skiprows=[0,2,3])"
   ]
  },
  {
   "cell_type": "code",
   "execution_count": 99,
   "metadata": {},
   "outputs": [
    {
     "name": "stdout",
     "output_type": "stream",
     "text": [
      "\n",
      "  something  a   b     c   d message\n",
      "0       one  1   2   3.0   4     NaN\n",
      "1       two  5   6   NaN   8   world\n",
      "2     three  9  10  11.0  12     foo\n",
      "\n",
      "   something      a      b      c      d  message\n",
      "0      False  False  False  False  False     True\n",
      "1      False  False  False   True  False    False\n",
      "2      False  False  False  False  False    False\n"
     ]
    }
   ],
   "source": [
    "# p.242\n",
    "'''\n",
    "examples/ex5.csv\n",
    "\n",
    "pandas 는 NA 나 NULL 처럼 통용되는 문자를 비어 있는 값으로 사용함.\n",
    "\n",
    "something,a,b,c,d,message\n",
    "one,1,2,3,4,NA\n",
    "two,5,6,,8,world\n",
    "three,9,10,11,12,foo\n",
    "'''\n",
    "print()\n",
    "result = pd.read_csv('examples/ex5.csv')\n",
    "print(result)\n",
    "print()\n",
    "print(pd.isnull(result))"
   ]
  },
  {
   "cell_type": "code",
   "execution_count": 66,
   "metadata": {},
   "outputs": [
    {
     "data": {
      "text/html": [
       "<div>\n",
       "<style scoped>\n",
       "    .dataframe tbody tr th:only-of-type {\n",
       "        vertical-align: middle;\n",
       "    }\n",
       "\n",
       "    .dataframe tbody tr th {\n",
       "        vertical-align: top;\n",
       "    }\n",
       "\n",
       "    .dataframe thead th {\n",
       "        text-align: right;\n",
       "    }\n",
       "</style>\n",
       "<table border=\"1\" class=\"dataframe\">\n",
       "  <thead>\n",
       "    <tr style=\"text-align: right;\">\n",
       "      <th></th>\n",
       "      <th>something</th>\n",
       "      <th>a</th>\n",
       "      <th>b</th>\n",
       "      <th>c</th>\n",
       "      <th>d</th>\n",
       "      <th>message</th>\n",
       "    </tr>\n",
       "  </thead>\n",
       "  <tbody>\n",
       "    <tr>\n",
       "      <th>0</th>\n",
       "      <td>one</td>\n",
       "      <td>1</td>\n",
       "      <td>2</td>\n",
       "      <td>3.0</td>\n",
       "      <td>4</td>\n",
       "      <td>NaN</td>\n",
       "    </tr>\n",
       "    <tr>\n",
       "      <th>1</th>\n",
       "      <td>two</td>\n",
       "      <td>5</td>\n",
       "      <td>6</td>\n",
       "      <td>NaN</td>\n",
       "      <td>8</td>\n",
       "      <td>world</td>\n",
       "    </tr>\n",
       "    <tr>\n",
       "      <th>2</th>\n",
       "      <td>three</td>\n",
       "      <td>9</td>\n",
       "      <td>10</td>\n",
       "      <td>11.0</td>\n",
       "      <td>12</td>\n",
       "      <td>NaN</td>\n",
       "    </tr>\n",
       "  </tbody>\n",
       "</table>\n",
       "</div>"
      ],
      "text/plain": [
       "  something  a   b     c   d message\n",
       "0       one  1   2   3.0   4     NaN\n",
       "1       two  5   6   NaN   8   world\n",
       "2     three  9  10  11.0  12     NaN"
      ]
     },
     "execution_count": 66,
     "metadata": {},
     "output_type": "execute_result"
    }
   ],
   "source": [
    "# p.243\n",
    "'''\n",
    "na_values 는 리스트나 문자열을 받아 누락된 값을 처리함.\n",
    "\n",
    "something,a,b,c,d,message\n",
    "one,1,2,3,4,NA\n",
    "two,5,6,,8,world\n",
    "three,9,10,11,12,foo\n",
    "'''\n",
    "result = pd.read_csv('examples/ex5.csv', na_values=['null','na','foo'])\n",
    "result"
   ]
  },
  {
   "cell_type": "code",
   "execution_count": 68,
   "metadata": {},
   "outputs": [],
   "source": [
    "# p.247\n",
    "'''\n",
    "데이터를 csv 파일로 저장하기\n",
    "'''\n",
    "data = pd.read_csv('examples/ex5.csv')\n",
    "data\n",
    "\n",
    "data.to_csv('examples/out.csv')\n",
    "'''\n",
    ",something,a,b,c,d,message\n",
    "0,one,1,2,3.0,4\n",
    "1,two,5,6,,8,world\n",
    "2,three,9,10,11.0,12,foo\n",
    "'''"
   ]
  },
  {
   "cell_type": "markdown",
   "metadata": {},
   "source": [
    "#### JSON 데이터 p251\n",
    "```\n",
    "웹브라우저와 다른 애플리케이션이 HTTP 요청으로 데이터를 주고 받을 때 널리 사용하는 표준 파일 형식 중 하나\n",
    " \n",
    "JSON(JavaScript Object Notation)은 CSV 같은 표 형식의 텍스트보다 좀 더 유연한 데이터 형식\n",
    " \n",
    "몇 가지 미묘한 차이를 제외하면 파이썬 딕셔너리와 거의 유사함\n",
    "    - 리스트의 마지막에 쉼표가 있으면 안 됨\n",
    "    - 객체의 키는 반드시 문자열이어야 함\n",
    "    - ...\n",
    "```"
   ]
  },
  {
   "cell_type": "code",
   "execution_count": 78,
   "metadata": {},
   "outputs": [],
   "source": [
    "obj =\"\"\"\n",
    "{\"name\":\"Wes\",\n",
    "\"places_lived\":[\"United States\", \"Spain\", \"Germany\"],\n",
    "\"pet\":null,\n",
    "\"siblings\":[{\"name\":\"Scott\", \"age\":30, \"pets\":[\"Zeus\",\"Zuko\"]},\n",
    "            {\"name\":\"Katie\",\"age\":38,\n",
    "            \"pets\":[\"Sixes\",\"Stache\",\"Cisco\"]}]\n",
    "\n",
    "}\n",
    "\"\"\""
   ]
  },
  {
   "cell_type": "code",
   "execution_count": 82,
   "metadata": {},
   "outputs": [
    {
     "name": "stdout",
     "output_type": "stream",
     "text": [
      "{'name': 'Wes', 'places_lived': ['United States', 'Spain', 'Germany'], 'pet': None, 'siblings': [{'name': 'Scott', 'age': 30, 'pets': ['Zeus', 'Zuko']}, {'name': 'Katie', 'age': 38, 'pets': ['Sixes', 'Stache', 'Cisco']}]}\n",
      "<class 'dict'>\n"
     ]
    }
   ],
   "source": [
    "# print(type(result))\n",
    "import json\n",
    "result = json.loads(obj) # JOSN String을 파이썬 객체로 변환\n",
    "print(result)\n",
    "print(type(result))"
   ]
  },
  {
   "cell_type": "code",
   "execution_count": 81,
   "metadata": {},
   "outputs": [
    {
     "name": "stdout",
     "output_type": "stream",
     "text": [
      "{\"name\": \"Wes\", \"places_lived\": [\"United States\", \"Spain\", \"Germany\"], \"pet\": null, \"siblings\": [{\"name\": \"Scott\", \"age\": 30, \"pets\": [\"Zeus\", \"Zuko\"]}, {\"name\": \"Katie\", \"age\": 38, \"pets\": [\"Sixes\", \"Stache\", \"Cisco\"]}]}\n",
      "<class 'str'>\n"
     ]
    }
   ],
   "source": [
    "asjson = json.dumps(result) # 파이썬 객체를 JSON형태로 변환\n",
    "print(asjson)\n",
    "print(type(asjson))"
   ]
  },
  {
   "cell_type": "code",
   "execution_count": 83,
   "metadata": {
    "scrolled": true
   },
   "outputs": [
    {
     "data": {
      "text/html": [
       "<div>\n",
       "<style scoped>\n",
       "    .dataframe tbody tr th:only-of-type {\n",
       "        vertical-align: middle;\n",
       "    }\n",
       "\n",
       "    .dataframe tbody tr th {\n",
       "        vertical-align: top;\n",
       "    }\n",
       "\n",
       "    .dataframe thead th {\n",
       "        text-align: right;\n",
       "    }\n",
       "</style>\n",
       "<table border=\"1\" class=\"dataframe\">\n",
       "  <thead>\n",
       "    <tr style=\"text-align: right;\">\n",
       "      <th></th>\n",
       "      <th>a</th>\n",
       "      <th>b</th>\n",
       "      <th>c</th>\n",
       "    </tr>\n",
       "  </thead>\n",
       "  <tbody>\n",
       "    <tr>\n",
       "      <th>0</th>\n",
       "      <td>1</td>\n",
       "      <td>2</td>\n",
       "      <td>3</td>\n",
       "    </tr>\n",
       "    <tr>\n",
       "      <th>1</th>\n",
       "      <td>4</td>\n",
       "      <td>5</td>\n",
       "      <td>6</td>\n",
       "    </tr>\n",
       "    <tr>\n",
       "      <th>2</th>\n",
       "      <td>7</td>\n",
       "      <td>8</td>\n",
       "      <td>9</td>\n",
       "    </tr>\n",
       "  </tbody>\n",
       "</table>\n",
       "</div>"
      ],
      "text/plain": [
       "   a  b  c\n",
       "0  1  2  3\n",
       "1  4  5  6\n",
       "2  7  8  9"
      ]
     },
     "execution_count": 83,
     "metadata": {},
     "output_type": "execute_result"
    }
   ],
   "source": [
    "# p.253\n",
    "'''\n",
    "[{\"a\": 1, \"b\": 2, \"c\": 3},\n",
    " {\"a\": 4, \"b\": 5, \"c\": 6},\n",
    " {\"a\": 7, \"b\": 8, \"c\": 9}]\n",
    "'''\n",
    "data = pd.read_json('examples/example.json')\n",
    "data"
   ]
  },
  {
   "cell_type": "markdown",
   "metadata": {},
   "source": [
    "#### 6.1.5 XML 과 HTML: 웹 스크래핑 p.253\n",
    "\n",
    "```\n",
    "파이썬에는 lxml, Beautiful Soup, 그리고 html5lib 같은 HTML 과 XML 형식의 데이터를 읽고 쓸 수 있는 라이브러리가 많다.\n",
    " \n",
    "그 중에서 lxml 은 가장 빠르게 동작하고 깨진 HTML 과 XML 파일도 잘 처리해준다.\n",
    " \n",
    "XML: eXtensible Markup Language (확장 가능한 마크업 언어)\n",
    "    시작 태그와 종료 태그가 존재하는 트리 구조의 데이터 형식\n",
    "    데이터를 저장하거나 주고 받는 것이 목적\n",
    " \n",
    "    <language>\n",
    "        <Korean>안녕하세요.</Korean>\n",
    "        <English>Hello.</English>\n",
    "    </language>\n",
    " \n",
    "HTML: Hyper Text Markup Language\n",
    "    XML 과 유사한 데이터 형식을 가짐\n",
    "    데이터를 화면에 출력하는 것이 목적\n",
    "\n",
    "라이브러리 설치\n",
    "    conda install lxml\n",
    "    pip install beautifulsoup4 html5lib\n",
    "```"
   ]
  },
  {
   "cell_type": "code",
   "execution_count": 85,
   "metadata": {
    "scrolled": true
   },
   "outputs": [
    {
     "name": "stdout",
     "output_type": "stream",
     "text": [
      "1\n"
     ]
    },
    {
     "data": {
      "text/html": [
       "<div>\n",
       "<style scoped>\n",
       "    .dataframe tbody tr th:only-of-type {\n",
       "        vertical-align: middle;\n",
       "    }\n",
       "\n",
       "    .dataframe tbody tr th {\n",
       "        vertical-align: top;\n",
       "    }\n",
       "\n",
       "    .dataframe thead th {\n",
       "        text-align: right;\n",
       "    }\n",
       "</style>\n",
       "<table border=\"1\" class=\"dataframe\">\n",
       "  <thead>\n",
       "    <tr style=\"text-align: right;\">\n",
       "      <th></th>\n",
       "      <th>Bank Name</th>\n",
       "      <th>City</th>\n",
       "      <th>ST</th>\n",
       "      <th>CERT</th>\n",
       "      <th>Acquiring Institution</th>\n",
       "      <th>Closing Date</th>\n",
       "      <th>Updated Date</th>\n",
       "    </tr>\n",
       "  </thead>\n",
       "  <tbody>\n",
       "    <tr>\n",
       "      <th>0</th>\n",
       "      <td>Allied Bank</td>\n",
       "      <td>Mulberry</td>\n",
       "      <td>AR</td>\n",
       "      <td>91</td>\n",
       "      <td>Today's Bank</td>\n",
       "      <td>September 23, 2016</td>\n",
       "      <td>November 17, 2016</td>\n",
       "    </tr>\n",
       "    <tr>\n",
       "      <th>1</th>\n",
       "      <td>The Woodbury Banking Company</td>\n",
       "      <td>Woodbury</td>\n",
       "      <td>GA</td>\n",
       "      <td>11297</td>\n",
       "      <td>United Bank</td>\n",
       "      <td>August 19, 2016</td>\n",
       "      <td>November 17, 2016</td>\n",
       "    </tr>\n",
       "    <tr>\n",
       "      <th>2</th>\n",
       "      <td>First CornerStone Bank</td>\n",
       "      <td>King of Prussia</td>\n",
       "      <td>PA</td>\n",
       "      <td>35312</td>\n",
       "      <td>First-Citizens Bank &amp; Trust Company</td>\n",
       "      <td>May 6, 2016</td>\n",
       "      <td>September 6, 2016</td>\n",
       "    </tr>\n",
       "    <tr>\n",
       "      <th>3</th>\n",
       "      <td>Trust Company Bank</td>\n",
       "      <td>Memphis</td>\n",
       "      <td>TN</td>\n",
       "      <td>9956</td>\n",
       "      <td>The Bank of Fayette County</td>\n",
       "      <td>April 29, 2016</td>\n",
       "      <td>September 6, 2016</td>\n",
       "    </tr>\n",
       "    <tr>\n",
       "      <th>4</th>\n",
       "      <td>North Milwaukee State Bank</td>\n",
       "      <td>Milwaukee</td>\n",
       "      <td>WI</td>\n",
       "      <td>20364</td>\n",
       "      <td>First-Citizens Bank &amp; Trust Company</td>\n",
       "      <td>March 11, 2016</td>\n",
       "      <td>June 16, 2016</td>\n",
       "    </tr>\n",
       "  </tbody>\n",
       "</table>\n",
       "</div>"
      ],
      "text/plain": [
       "                      Bank Name             City  ST   CERT  \\\n",
       "0                   Allied Bank         Mulberry  AR     91   \n",
       "1  The Woodbury Banking Company         Woodbury  GA  11297   \n",
       "2        First CornerStone Bank  King of Prussia  PA  35312   \n",
       "3            Trust Company Bank          Memphis  TN   9956   \n",
       "4    North Milwaukee State Bank        Milwaukee  WI  20364   \n",
       "\n",
       "                 Acquiring Institution        Closing Date       Updated Date  \n",
       "0                         Today's Bank  September 23, 2016  November 17, 2016  \n",
       "1                          United Bank     August 19, 2016  November 17, 2016  \n",
       "2  First-Citizens Bank & Trust Company         May 6, 2016  September 6, 2016  \n",
       "3           The Bank of Fayette County      April 29, 2016  September 6, 2016  \n",
       "4  First-Citizens Bank & Trust Company      March 11, 2016      June 16, 2016  "
      ]
     },
     "execution_count": 85,
     "metadata": {},
     "output_type": "execute_result"
    }
   ],
   "source": [
    "'''\n",
    "pandas 의 내장함수 read_html은 lxml이나 Beautiful Soup같은 라이브러리를 사용해서\n",
    "자동으로 HTML파일을 파싱하여 DataFrame으로 변환해줌\n",
    "'''\n",
    "tables = pd.read_html('examples/fdic_failed_bank_list.html')\n",
    "print(len(tables))\n",
    "failures = tables[0]\n",
    "failures.head()"
   ]
  },
  {
   "cell_type": "code",
   "execution_count": 86,
   "metadata": {},
   "outputs": [
    {
     "data": {
      "text/plain": [
       "Bank Name                object\n",
       "City                     object\n",
       "ST                       object\n",
       "CERT                      int64\n",
       "Acquiring Institution    object\n",
       "Closing Date             object\n",
       "Updated Date             object\n",
       "dtype: object"
      ]
     },
     "execution_count": 86,
     "metadata": {},
     "output_type": "execute_result"
    }
   ],
   "source": [
    "failures.dtypes"
   ]
  },
  {
   "cell_type": "code",
   "execution_count": 91,
   "metadata": {},
   "outputs": [
    {
     "name": "stdout",
     "output_type": "stream",
     "text": [
      "0      2016-09-23\n",
      "1      2016-08-19\n",
      "2      2016-05-06\n",
      "3      2016-04-29\n",
      "4      2016-03-11\n",
      "          ...    \n",
      "542    2001-07-27\n",
      "543    2001-05-03\n",
      "544    2001-02-02\n",
      "545    2000-12-14\n",
      "546    2000-10-13\n",
      "Name: Closing Date, Length: 547, dtype: object\n",
      "======================================================================\n",
      "0      2016\n",
      "1      2016\n",
      "2      2016\n",
      "3      2016\n",
      "4      2016\n",
      "       ... \n",
      "542    2001\n",
      "543    2001\n",
      "544    2001\n",
      "545    2000\n",
      "546    2000\n",
      "Name: Closing Date, Length: 547, dtype: int64\n",
      "======================================================================\n",
      "0       9\n",
      "1       8\n",
      "2       5\n",
      "3       4\n",
      "4       3\n",
      "       ..\n",
      "542     7\n",
      "543     5\n",
      "544     2\n",
      "545    12\n",
      "546    10\n",
      "Name: Closing Date, Length: 547, dtype: int64\n",
      "======================================================================\n",
      "0      23\n",
      "1      19\n",
      "2       6\n",
      "3      29\n",
      "4      11\n",
      "       ..\n",
      "542    27\n",
      "543     3\n",
      "544     2\n",
      "545    14\n",
      "546    13\n",
      "Name: Closing Date, Length: 547, dtype: int64\n",
      "======================================================================\n"
     ]
    },
    {
     "data": {
      "text/plain": [
       "2010    157\n",
       "2009    140\n",
       "2011     92\n",
       "2012     51\n",
       "2008     25\n",
       "2013     24\n",
       "2014     18\n",
       "2002     11\n",
       "2015      8\n",
       "2016      5\n",
       "2001      4\n",
       "2004      4\n",
       "2003      3\n",
       "2007      3\n",
       "2000      2\n",
       "Name: Closing Date, dtype: int64"
      ]
     },
     "execution_count": 91,
     "metadata": {},
     "output_type": "execute_result"
    }
   ],
   "source": [
    "'''\n",
    "Closing Date\n",
    "September 23, 2016\n",
    "August 19, 2016\n",
    "May 6 2016\n",
    "'''\n",
    "print(close_timestamps.dt.date)\n",
    "print(\"=======\"*10)\n",
    "print(close_timestamps.dt.year)\n",
    "print(\"=======\"*10)\n",
    "print(close_timestamps.dt.month)\n",
    "print(\"=======\"*10)\n",
    "print(close_timestamps.dt.day)\n",
    "print(\"=======\"*10)\n",
    "\n",
    "close_timestamps = pd.to_datetime(failures['Closing Date'])\n",
    "close_timestamps.dt.year.value_counts()"
   ]
  },
  {
   "cell_type": "markdown",
   "metadata": {},
   "source": [
    "### 마이크로소프트 엑셀 파일에서 데이터 읽어오기"
   ]
  },
  {
   "cell_type": "code",
   "execution_count": 92,
   "metadata": {},
   "outputs": [
    {
     "data": {
      "text/html": [
       "<div>\n",
       "<style scoped>\n",
       "    .dataframe tbody tr th:only-of-type {\n",
       "        vertical-align: middle;\n",
       "    }\n",
       "\n",
       "    .dataframe tbody tr th {\n",
       "        vertical-align: top;\n",
       "    }\n",
       "\n",
       "    .dataframe thead th {\n",
       "        text-align: right;\n",
       "    }\n",
       "</style>\n",
       "<table border=\"1\" class=\"dataframe\">\n",
       "  <thead>\n",
       "    <tr style=\"text-align: right;\">\n",
       "      <th></th>\n",
       "      <th>Unnamed: 0</th>\n",
       "      <th>a</th>\n",
       "      <th>b</th>\n",
       "      <th>c</th>\n",
       "      <th>d</th>\n",
       "      <th>message</th>\n",
       "    </tr>\n",
       "  </thead>\n",
       "  <tbody>\n",
       "    <tr>\n",
       "      <th>0</th>\n",
       "      <td>0</td>\n",
       "      <td>1</td>\n",
       "      <td>2</td>\n",
       "      <td>3</td>\n",
       "      <td>4</td>\n",
       "      <td>hello</td>\n",
       "    </tr>\n",
       "    <tr>\n",
       "      <th>1</th>\n",
       "      <td>1</td>\n",
       "      <td>5</td>\n",
       "      <td>6</td>\n",
       "      <td>7</td>\n",
       "      <td>8</td>\n",
       "      <td>world</td>\n",
       "    </tr>\n",
       "    <tr>\n",
       "      <th>2</th>\n",
       "      <td>2</td>\n",
       "      <td>9</td>\n",
       "      <td>10</td>\n",
       "      <td>11</td>\n",
       "      <td>12</td>\n",
       "      <td>foo</td>\n",
       "    </tr>\n",
       "  </tbody>\n",
       "</table>\n",
       "</div>"
      ],
      "text/plain": [
       "   Unnamed: 0  a   b   c   d message\n",
       "0           0  1   2   3   4   hello\n",
       "1           1  5   6   7   8   world\n",
       "2           2  9  10  11  12     foo"
      ]
     },
     "execution_count": 92,
     "metadata": {},
     "output_type": "execute_result"
    }
   ],
   "source": [
    "frame = pd.read_excel('examples/ex1.xlsx','Sheet1')\n",
    "frame"
   ]
  },
  {
   "cell_type": "code",
   "execution_count": 93,
   "metadata": {},
   "outputs": [],
   "source": [
    "frame.to_excel('examples/ex2.xlsx')"
   ]
  },
  {
   "cell_type": "markdown",
   "metadata": {},
   "source": [
    "### 웹 API와 함께 사용하기\n",
    "- API : Application Programming Interface"
   ]
  },
  {
   "cell_type": "code",
   "execution_count": 94,
   "metadata": {},
   "outputs": [
    {
     "name": "stdout",
     "output_type": "stream",
     "text": [
      "<Response [200]>\n",
      "[{\"url\":\"https://api.github.com/repos/pandas-dev/pandas/issues/41408\",\"repository_url\":\"https://api.github.com/repos/pandas-dev/pandas\",\"labels_url\":\"https://api.github.com/repos/pandas-dev/pandas/issues/41408/labels{/name}\",\"comments_url\":\"https://api.github.com/repos/pandas-dev/pandas/issues/41408/comments\",\"events_url\":\"https://api.github.com/repos/pandas-dev/pandas/issues/41408/events\",\"html_url\":\"https://github.com/pandas-dev/pandas/issues/41408\",\"id\":883616747,\"node_id\":\"MDU6SXNzdWU4ODM2MTY3NDc=\",\"number\":41408,\"title\":\"BUG: read_json changes dtype (object => int) \",\"user\":{\"login\":\"sidsvash26\",\"id\":10222970,\"node_id\":\"MDQ6VXNlcjEwMjIyOTcw\",\"avatar_url\":\"https://avatars.githubusercontent.com/u/10222970?v=4\",\"gravatar_id\":\"\",\"url\":\"https://api.github.com/users/sidsvash26\",\"html_url\":\"https://github.com/sidsvash26\",\"followers_url\":\"https://api.github.com/users/sidsvash26/followers\",\"following_url\":\"https://api.github.com/users/sidsvash26/following{/other_user}\",\"gists_url\":\"https://api.github.com/users/sidsvash26/gists{/gist_id}\",\"starred_url\":\"https://api.github.com/users/sidsvash26/starred{/owner}{/repo}\",\"subscriptions_url\":\"https://api.github.com/users/sidsvash26/subscriptions\",\"organizations_url\":\"https://api.github.com/users/sidsvash26/orgs\",\"repos_url\":\"https://api.github.com/users/sidsvash26/repos\",\"events_url\":\"https://api.github.com/users/sidsvash26/events{/privacy}\",\"received_events_url\":\"https://api.github.com/users/sidsvash26/received_events\",\"type\":\"User\",\"site_admin\":false},\"labels\":[{\"id\":76811,\"node_id\":\"MDU6TGFiZWw3NjgxMQ==\",\"url\":\"https://api.github.com/repos/pandas-dev/pandas/labels/Bug\",\"name\":\"Bug\",\"color\":\"e10c02\",\"default\":false,\"description\":null},{\"id\":1954720290,\"node_id\":\"MDU6TGFiZWwxOTU0NzIwMjkw\",\"url\":\"https://api.github.com/repos/pandas-dev/pandas/labels/Needs%20Triage\",\"name\":\"Needs Triage\",\"color\":\"0052cc\",\"default\":false,\"description\":\"Issue that has not been reviewed by a pandas team member\"}],\"state\":\"open\",\"locked\":false,\"assignee\":null,\"assignees\":[],\"milestone\":null,\"comments\":0,\"created_at\":\"2021-05-10T07:42:42Z\",\"updated_at\":\"2021-05-10T07:42:42Z\",\"closed_at\":null,\"author_association\":\"NONE\",\"active_lock_reason\":null,\"body\":\"- [x] I have checked that this issue has not already been reported.\\r\\n\\r\\n- [x] I have confirmed this bug exists on the latest version of pandas.\\r\\n\\r\\n- [ ] (optional) I have confirmed this bug exists on the master branch of pandas.\\r\\n\\r\\n---\\r\\n\\r\\n**Note**: Please read [this guide](https://matthewrocklin.com/blog/work/2018/02/28/minimal-bug-reports) detailing how to provide the necessary information for us to reproduce your bug.\\r\\n\\r\\n#### Code Sample, a copy-pastable example\\r\\n\\r\\n```python\\r\\nimport pandas as pd\\r\\n\\r\\ndct1 = {'text': \\\"I ran to the store.\\\",\\r\\n 'e1_span': '17',\\r\\n 'e2_span': '18_19',\\r\\n 'value1': 0.0,\\r\\n 'value2': 0.2}\\r\\n\\r\\ndct2 = {'text': \\\"I ran to the store.\\\",\\r\\n 'e1_span': '11',\\r\\n 'e2_span': '12_13_14',\\r\\n 'value1': 0.4,\\r\\n 'value2': 0.67}\\r\\n\\r\\ndf = pd.DataFrame([dct1, dct2])\\r\\nprint(f\\\"initial value: {df['e2_span'].values[0]}\\\")\\r\\nprint(f\\\"value type: {type(df['e2_span'].values[0])}\\\")\\r\\n\\r\\njson_string = df.to_json(orient=\\\"records\\\", lines=True)\\r\\n\\r\\ndf2 = pd.read_json(json_string, orient=\\\"records\\\", lines=True)\\r\\nprint(f\\\"final value: {df2['e2_span'].values[0]}\\\")\\r\\nprint(f\\\"value type: {type(df2['e2_span'].values[0])}\\\")\\r\\n```\\r\\n\\r\\n#### Problem description\\r\\n\\r\\nWhen the `json_string` is read by `pd.read_json` function, it converts the `str` type of `e2_span` to `int64`.\\r\\n\\r\\nThe current output is:\\r\\n```python\\r\\ninitial value: 18_19\\r\\nvalue type: <class 'str'>\\r\\nfinal value: 1819\\r\\nvalue type: <class 'numpy.int64'>\\r\\n```\\r\\n\\r\\n#### Expected Output\\r\\n```python\\r\\ninitial value: 18_19\\r\\nvalue type: <class 'str'>\\r\\nfinal value: 18_19\\r\\nvalue type: <class 'str'>\\r\\n```\\r\\n\\r\\n#### Output of ``pd.show_versions()``\\r\\n\\r\\n<details>\\r\\n\\r\\nINSTALLED VERSIONS\\r\\n------------------\\r\\ncommit           : 2cb96529396d93b46abab7bbc73a208e708c642e\\r\\npython           : 3.8.5.final.0\\r\\npython-bits      : 64\\r\\nOS               : Linux\\r\\nOS-release       : 4.15.0-120-generic\\r\\nVersion          : #122~16.04.1-Ubuntu SMP Wed Sep 30 15:09:00 UTC 2020\\r\\nmachine          : x86_64\\r\\nprocessor        : x86_64\\r\\nbyteorder        : little\\r\\nLC_ALL           : None\\r\\nLANG             : en_US.UTF-8\\r\\nLOCALE           : en_US.UTF-8\\r\\n\\r\\npandas           : 1.2.4\\r\\nnumpy            : 1.20.2\\r\\npytz             : 2021.1\\r\\ndateutil         : 2.8.1\\r\\npip              : 21.1.1\\r\\nsetuptools       : 56.0.0\\r\\nCython           : None\\r\\npytest           : 6.2.4\\r\\nhypothesis       : None\\r\\nsphinx           : None\\r\\nblosc            : None\\r\\nfeather          : None\\r\\nxlsxwriter       : None\\r\\nlxml.etree       : 4.6.3\\r\\nhtml5lib         : None\\r\\npymysql          : None\\r\\npsycopg2         : None\\r\\njinja2           : 2.11.3\\r\\nIPython          : 7.23.1\\r\\npandas_datareader: None\\r\\nbs4              : 4.9.3\\r\\nbottleneck       : None\\r\\nfsspec           : 2021.04.0\\r\\nfastparquet      : None\\r\\ngcsfs            : None\\r\\nmatplotlib       : 3.3.1\\r\\nnumexpr          : None\\r\\nodfpy            : None\\r\\nopenpyxl         : None\\r\\npandas_gbq       : None\\r\\npyarrow          : None\\r\\npyxlsb           : None\\r\\ns3fs             : None\\r\\nscipy            : 1.6.3\\r\\nsqlalchemy       : None\\r\\ntables           : None\\r\\ntabulate         : 0.8.9\\r\\nxarray           : None\\r\\nxlrd             : None\\r\\nxlwt             : None\\r\\nnumba            : None\\r\\n\\r\\n</details>\\r\\n\",\"performed_via_github_app\":null},{\"url\":\"https://api.github.com/repos/pandas-dev/pandas/issues/41407\",\"repository_url\":\"https://api.github.com/repos/pandas-dev/pandas\",\"labels_url\":\"https://api.github.com/repos/pandas-dev/pandas/issues/41407/labels{/name}\",\"comments_url\":\"https://api.github.com/repos/pandas-dev/pandas/issues/41407/comments\",\"events_url\":\"https://api.github.com/repos/pandas-dev/pandas/issues/41407/events\",\"html_url\":\"https://github.com/pandas-dev/pandas/issues/41407\",\"id\":883573819,\"node_id\":\"MDU6SXNzdWU4ODM1NzM4MTk=\",\"number\":41407,\"title\":\"DOC: Unclear first example in pandas.DataFrame.append\",\"user\":{\"login\":\"t0asty\",\"id\":32015957,\"node_id\":\"MDQ6VXNlcjMyMDE1OTU3\",\"avatar_url\":\"https://avatars.githubusercontent.com/u/32015957?v=4\",\"gravatar_id\":\"\",\"url\":\"https://api.github.com/users/t0asty\",\"html_url\":\"https://github.com/t0asty\",\"followers_url\":\"https://api.github.com/users/t0asty/followers\",\"following_url\":\"https://api.github.com/users/t0asty/following{/other_user}\",\"gists_url\":\"https://api.github.com/users/t0asty/gists{/gist_id}\",\"starred_url\":\"https://api.github.com/users/t0asty/starred{/owner}{/repo}\",\"subscriptions_url\":\"https://api.github.com/users/t0asty/subscriptions\",\"organizations_url\":\"https://api.github.com/users/t0asty/orgs\",\"repos_url\":\"https://api.github.com/users/t0asty/repos\",\"events_url\":\"https://api.github.com/users/t0asty/events{/privacy}\",\"received_events_url\":\"https://api.github.com/users/t0asty/received_events\",\"type\":\"User\",\"site_admin\":false},\"labels\":[{\"id\":134699,\"node_id\":\"MDU6TGFiZWwxMzQ2OTk=\",\"url\":\"https://api.github.com/repos/pandas-dev/pandas/labels/Docs\",\"name\":\"Docs\",\"color\":\"3465A4\",\"default\":false,\"description\":null},{\"id\":1954720290,\"node_id\":\"MDU6TGFiZWwxOTU0NzIwMjkw\",\"url\":\"https://api.github.com/repos/pandas-dev/pandas/labels/Needs%20Triage\",\"name\":\"Needs Triage\",\"color\":\"0052cc\",\"default\":false,\"description\":\"Issue that has not been reviewed by a pandas team member\"}],\"state\":\"open\",\"locked\":false,\"assignee\":null,\"assignees\":[],\"milestone\":null,\"comments\":0,\"created_at\":\"2021-05-10T07:16:11Z\",\"updated_at\":\"2021-05-10T07:16:11Z\",\"closed_at\":null,\"author_association\":\"NONE\",\"active_lock_reason\":null,\"body\":\"#### Location of the documentation\\r\\n\\r\\npandas.DataFrame.append \\r\\n\\r\\n#### Documentation problem\\r\\n\\r\\nI think the example chosen to show the difference between ignore_index=False and ignore_index = True (the very first on the page) could make this difference more clear.\\r\\n\\r\\n#### Suggested fix for documentation\\r\\n\\r\\nChoosing a custom index for the first df (the one whose append function is called) could help to especially point out the fact that ignore_index=True actually overwrites the whole index and does not keep the index of the first dataframe, as it could be interpreted from this example (given somebody dared to not read the doc above 😉 )\\r\\n\",\"performed_via_github_app\":null},{\"url\":\"https://api.github.com/repos/pandas-dev/pandas/issues/41406\",\"repository_url\":\"https://api.github.com/repos/pandas-dev/pandas\",\"labels_url\":\"https://api.github.com/repos/pandas-dev/pandas/issues/41406/labels{/name}\",\"comments_url\":\"https://api.github.com/repos/pandas-dev/pandas/issues/41406/comments\",\"events_url\":\"https://api.github.com/repos/pandas-dev/pandas/issues/41406/events\",\"html_url\":\"https://github.com/pandas-dev/pandas/pull/41406\",\"id\":883372253,\"node_id\":\"MDExOlB1bGxSZXF1ZXN0NjM2ODUxODc4\",\"number\":41406,\"title\":\"BUG: fix TypeError when looking up a str subclass on a DataFrame with…\",\"user\":{\"login\":\"mortada\",\"id\":1642081,\"node_id\":\"MDQ6VXNlcjE2NDIwODE=\",\"avatar_url\":\"https://avatars.githubusercontent.com/u/1642081?v=4\",\"gravatar_id\":\"\",\"url\":\"https://api.github.com/users/mortada\",\"html_url\":\"https://github.com/mortada\",\"followers_url\":\"https://api.github.com/users/mortada/followers\",\"following_url\":\"https://api.github.com/users/mortada/following{/other_user}\",\"gists_url\":\"https://api.github.com/users/mortada/gists{/gist_id}\",\"starred_url\":\"https://api.github.com/users/mortada/starred{/owner}{/repo}\",\"subscriptions_url\":\"https://api.github.com/users/mortada/subscriptions\",\"organizations_url\":\"https://api.github.com/users/mortada/orgs\",\"repos_url\":\"https://api.github.com/users/mortada/repos\",\"events_url\":\"https://api.github.com/users/mortada/events{/privacy}\",\"received_events_url\":\"https://api.github.com/users/mortada/received_events\",\"type\":\"User\",\"site_admin\":false},\"labels\":[],\"state\":\"open\",\"locked\":false,\"assignee\":null,\"assignees\":[],\"milestone\":null,\"comments\":0,\"created_at\":\"2021-05-10T04:52:06Z\",\"updated_at\":\"2021-05-10T05:05:09Z\",\"closed_at\":null,\"author_association\":\"CONTRIBUTOR\",\"active_lock_reason\":null,\"pull_request\":{\"url\":\"https://api.github.com/repos/pandas-dev/pandas/pulls/41406\",\"html_url\":\"https://github.com/pandas-dev/pandas/pull/41406\",\"diff_url\":\"https://github.com/pandas-dev/pandas/pull/41406.diff\",\"patch_url\":\"https://github.com/pandas-dev/pandas/pull/41406.patch\"},\"body\":\"… DatetimeIndex (#37366)\\r\\n\\r\\n- [X] closes #xxxx\\r\\n- [X] tests added / passed\\r\\n- [X] Ensure all linting tests pass, see [here](https://pandas.pydata.org/pandas-docs/dev/development/contributing.html#code-standards) for how to run them\\r\\n- [X] whatsnew entry\\r\\n\",\"performed_via_github_app\":null},{\"url\":\"https://api.github.com/repos/pandas-dev/pandas/issues/41405\",\"repository_url\":\"https://api.github.com/repos/pandas-dev/pandas\",\"labels_url\":\"https://api.github.com/repos/pandas-dev/pandas/issues/41405/labels{/name}\",\"comments_url\":\"https://api.github.com/repos/pandas-dev/pandas/issues/41405/comments\",\"events_url\":\"https://api.github.com/repos/pandas-dev/pandas/issues/41405/events\",\"html_url\":\"https://github.com/pandas-dev/pandas/pull/41405\",\"id\":883297143,\"node_id\":\"MDExOlB1bGxSZXF1ZXN0NjM2NzgxNjgx\",\"number\":41405,\"title\":\"BUG: Rolling.__iter__ includes on index columns in the result\",\"user\":{\"login\":\"mroeschke\",\"id\":10647082,\"node_id\":\"MDQ6VXNlcjEwNjQ3MDgy\",\"avatar_url\":\"https://avatars.githubusercontent.com/u/10647082?v=4\",\"gravatar_id\":\"\",\"url\":\"https://api.github.com/users/mroeschke\",\"html_url\":\"https://github.com/mroeschke\",\"followers_url\":\"https://api.github.com/users/mroeschke/followers\",\"following_url\":\"https://api.github.com/users/mroeschke/following{/other_user}\",\"gists_url\":\"https://api.github.com/users/mroeschke/gists{/gist_id}\",\"starred_url\":\"https://api.github.com/users/mroeschke/starred{/owner}{/repo}\",\"subscriptions_url\":\"https://api.github.com/users/mroeschke/subscriptions\",\"organizations_url\":\"https://api.github.com/users/mroeschke/orgs\",\"repos_url\":\"https://api.github.com/users/mroeschke/repos\",\"events_url\":\"https://api.github.com/users/mroeschke/events{/privacy}\",\"received_events_url\":\"https://api.github.com/users/mroeschke/received_events\",\"type\":\"User\",\"site_admin\":false},\"labels\":[{\"id\":76811,\"node_id\":\"MDU6TGFiZWw3NjgxMQ==\",\"url\":\"https://api.github.com/repos/pandas-dev/pandas/labels/Bug\",\"name\":\"Bug\",\"color\":\"e10c02\",\"default\":false,\"description\":null},{\"id\":1045950827,\"node_id\":\"MDU6TGFiZWwxMDQ1OTUwODI3\",\"url\":\"https://api.github.com/repos/pandas-dev/pandas/labels/Window\",\"name\":\"Window\",\"color\":\"d4c5f9\",\"default\":false,\"description\":\"rolling, ewma, expanding\"}],\"state\":\"open\",\"locked\":false,\"assignee\":null,\"assignees\":[],\"milestone\":null,\"comments\":0,\"created_at\":\"2021-05-10T03:49:50Z\",\"updated_at\":\"2021-05-10T03:50:01Z\",\"closed_at\":null,\"author_association\":\"MEMBER\",\"active_lock_reason\":null,\"pull_request\":{\"url\":\"https://api.github.com/repos/pandas-dev/pandas/pulls/41405\",\"html_url\":\"https://github.com/pandas-dev/pandas/pull/41405\",\"diff_url\":\"https://github.com/pandas-dev/pandas/pull/41405.diff\",\"patch_url\":\"https://github.com/pandas-dev/pandas/pull/41405.patch\"},\"body\":\"- [x] closes #40373\\r\\n- [x] tests added / passed\\r\\n- [x] Ensure all linting tests pass, see [here](https://pandas.pydata.org/pandas-docs/dev/development/contributing.html#code-standards) for how to run them\\r\\n- [x] whatsnew entry\\r\\n\",\"performed_via_github_app\":null},{\"url\":\"https://api.github.com/repos/pandas-dev/pandas/issues/41404\",\"repository_url\":\"https://api.github.com/repos/pandas-dev/pandas\",\"labels_url\":\"https://api.github.com/repos/pandas-dev/pandas/issues/41404/labels{/name}\",\"comments_url\":\"https://api.github.com/repos/pandas-dev/pandas/issues/41404/comments\",\"events_url\":\"https://api.github.com/repos/pandas-dev/pandas/issues/41404/events\",\"html_url\":\"https://github.com/pandas-dev/pandas/issues/41404\",\"id\":882869312,\"node_id\":\"MDU6SXNzdWU4ODI4NjkzMTI=\",\"number\":41404,\"title\":\"BUG: hashing's are the same for different key values  for hash_pandas_object\",\"user\":{\"login\":\"Sandy4321\",\"id\":11426119,\"node_id\":\"MDQ6VXNlcjExNDI2MTE5\",\"avatar_url\":\"https://avatars.githubusercontent.com/u/11426119?v=4\",\"gravatar_id\":\"\",\"url\":\"https://api.github.com/users/Sandy4321\",\"html_url\":\"https://github.com/Sandy4321\",\"followers_url\":\"https://api.github.com/users/Sandy4321/followers\",\"following_url\":\"https://api.github.com/users/Sandy4321/following{/other_user}\",\"gists_url\":\"https://api.github.com/users/Sandy4321/gists{/gist_id}\",\"starred_url\":\"https://api.github.com/users/Sandy4321/starred{/owner}{/repo}\",\"subscriptions_url\":\"https://api.github.com/users/Sandy4321/subscriptions\",\"organizations_url\":\"https://api.github.com/users/Sandy4321/orgs\",\"repos_url\":\"https://api.github.com/users/Sandy4321/repos\",\"events_url\":\"https://api.github.com/users/Sandy4321/events{/privacy}\",\"received_events_url\":\"https://api.github.com/users/Sandy4321/received_events\",\"type\":\"User\",\"site_admin\":false},\"labels\":[{\"id\":76811,\"node_id\":\"MDU6TGFiZWw3NjgxMQ==\",\"url\":\"https://api.github.com/repos/pandas-dev/pandas/labels/Bug\",\"name\":\"Bug\",\"color\":\"e10c02\",\"default\":false,\"description\":null}],\"state\":\"open\",\"locked\":false,\"assignee\":null,\"assignees\":[],\"milestone\":null,\"comments\":1,\"created_at\":\"2021-05-09T21:59:12Z\",\"updated_at\":\"2021-05-10T06:28:29Z\",\"closed_at\":null,\"author_association\":\"NONE\",\"active_lock_reason\":null,\"body\":\"- [x ] I have checked that this issue has not already been reported.\\r\\n\\r\\n- [ x] I have confirmed this bug exists on the latest version of pandas.\\r\\n\\r\\n- [ x] (optional) I have confirmed this bug exists on the master branch of pandas.\\r\\n\\r\\n---\\r\\n\\r\\n**Note**: Please read [this guide](https://matthewrocklin.com/blog/work/2018/02/28/minimal-bug-reports) detailing how to provide the necessary information for us to reproduce your bug.\\r\\n\\r\\n#### Code Sample, a copy-pastable example\\r\\n\\r\\n```python\\r\\n# Your code here\\r\\nhash_pandas_object(test[       columns_names[i]      ],    index=True, encoding='utf8', hash_key='012' ,    categorize=True)\\r\\n0      3713087409444908179\\r\\n1      7478705303072568462\\r\\n2     12024724921319894105\\r\\n3     12785939622558835299\\r\\n4      9788992550609991128\\r\\n5      1239052552041868816\\r\\n6      9610202078597672705\\r\\n7     12287384021013641209\\r\\n8     10264240190786022141\\r\\n9     10535148974563425818\\r\\n10    10238940258630658604\\r\\n11    15446383648481672096\\r\\n12    14265484681526586699\\r\\n13     8862960024351814462\\r\\ndtype: uint64\\r\\n\\r\\nhash_pandas_object(test[       columns_names[i]      ],    index=True, encoding='utf8', hash_key='01298768755' ,    categorize=True)\\r\\n0      3713087409444908179\\r\\n1      7478705303072568462\\r\\n2     12024724921319894105\\r\\n3     12785939622558835299\\r\\n4      9788992550609991128\\r\\n5      1239052552041868816\\r\\n6      9610202078597672705\\r\\n7     12287384021013641209\\r\\n8     10264240190786022141\\r\\n9     10535148974563425818\\r\\n10    10238940258630658604\\r\\n11    15446383648481672096\\r\\n12    14265484681526586699\\r\\n13     8862960024351814462\\r\\ndtype: uint64\\r\\n\\r\\n\\r\\nhash_pandas_object(test[     [  columns_names[i] , columns_names[j]  ]     ],    index=True, encoding='utf8', hash_key='01' ,    categorize=True)\\r\\n0     11107058607426530111\\r\\n1     15666232225746534312\\r\\n2      1136675766145783381\\r\\n3     14892489092684772659\\r\\n4      8519430825150424018\\r\\n5       550646855301521146\\r\\n6      3846031041217881485\\r\\n7      2936614219041217571\\r\\n8     16182698869780262111\\r\\n9      2895548739675332954\\r\\n10      677258434224654732\\r\\n11     6105852029672525672\\r\\n12    15095703462911844621\\r\\n13     6081994522921680694\\r\\ndtype: uint64\\r\\nhash_pandas_object(test[     [  columns_names[i] , columns_names[j]  ]     ],    index=True, encoding='utf8', hash_key='0198076674534' ,    categorize=True)\\r\\n0     11107058607426530111\\r\\n1     15666232225746534312\\r\\n2      1136675766145783381\\r\\n3     14892489092684772659\\r\\n4      8519430825150424018\\r\\n5       550646855301521146\\r\\n6      3846031041217881485\\r\\n7      2936614219041217571\\r\\n8     16182698869780262111\\r\\n9      2895548739675332954\\r\\n10      677258434224654732\\r\\n11     6105852029672525672\\r\\n12    15095703462911844621\\r\\n13     6081994522921680694\\r\\ndtype: uint64\\r\\n\\r\\n\\r\\ntest[     [  columns_names[i] , columns_names[j]  ]     ]\\r\\n    A  B\\r\\n0   0 -1\\r\\n1   0 -1\\r\\n2   0  0\\r\\n3   0  0\\r\\n4   1  0\\r\\n5   1  0\\r\\n6   2  0\\r\\n7   2  2\\r\\n8   2  2\\r\\n9   2  2\\r\\n10  2  2\\r\\n11  2  2\\r\\n12 -1  2\\r\\n13 -1  2\\r\\n\\r\\n\\r\\nhashing's are the same for different key values \\r\\n\\r\\n\\r\\n\\r\\n\\r\\n```\\r\\n\\r\\n#### Problem description\\r\\n\\r\\nit should be different hashing values for different keys  \\r\\n\\r\\n\\r\\n\\r\\n#### Expected Output\\r\\n\\r\\n#### Output of ``pd.show_versions()``\\r\\n\\r\\n<details>\\r\\n\\r\\n[paste the output of ``pd.show_versions()`` here leaving a blank line after the details tag]\\r\\n\\r\\nprint(\\\"sklearn.__version__ = \\\",     sklearn.__version__)\\r\\nsklearn.__version__ =  0.24.2\\r\\n\\r\\npd.show_versions()\\r\\n\\r\\nINSTALLED VERSIONS\\r\\n------------------\\r\\ncommit           : 2cb96529396d93b46abab7bbc73a208e708c642e\\r\\npython           : 3.8.7.final.0\\r\\npython-bits      : 64\\r\\nOS               : Windows\\r\\nOS-release       : 10\\r\\nVersion          : 10.0.19041\\r\\nmachine          : AMD64\\r\\nprocessor        : Intel64 Family 6 Model 158 Stepping 9, GenuineIntel\\r\\nbyteorder        : little\\r\\nLC_ALL           : None\\r\\nLANG             : None\\r\\nLOCALE           : English_United States.1252\\r\\n\\r\\npandas           : 1.2.4\\r\\nnumpy            : 1.19.5\\r\\npytz             : 2021.1\\r\\ndateutil         : 2.8.1\\r\\npip              : 20.3.3\\r\\nsetuptools       : 51.3.3\\r\\nCython           : None\\r\\npytest           : None\\r\\nhypothesis       : None\\r\\nsphinx           : None\\r\\nblosc            : None\\r\\nfeather          : None\\r\\nxlsxwriter       : None\\r\\nlxml.etree       : None\\r\\nhtml5lib         : None\\r\\npymysql          : None\\r\\npsycopg2         : None\\r\\njinja2           : None\\r\\nIPython          : None\\r\\npandas_datareader: None\\r\\nbs4              : None\\r\\nbottleneck       : None\\r\\nfsspec           : None\\r\\nfastparquet      : None\\r\\ngcsfs            : None\\r\\nmatplotlib       : None\\r\\nnumexpr          : None\\r\\nodfpy            : None\\r\\nopenpyxl         : None\\r\\npandas_gbq       : None\\r\\npyarrow          : None\\r\\npyxlsb           : None\\r\\ns3fs             : None\\r\\nscipy            : 1.6.3\\r\\nsqlalchemy       : None\\r\\ntables           : None\\r\\ntabulate         : None\\r\\nxarray           : None\\r\\nxlrd             : None\\r\\nxlwt             : None\\r\\nnumba            : None\\r\\n\\r\\n</details>\\r\\n\",\"performed_via_github_app\":null},{\"url\":\"https://api.github.com/repos/pandas-dev/pandas/issues/41403\",\"repository_url\":\"https://api.github.com/repos/pandas-dev/pandas\",\"labels_url\":\"https://api.github.com/repos/pandas-dev/pandas/issues/41403/labels{/name}\",\"comments_url\":\"https://api.github.com/repos/pandas-dev/pandas/issues/41403/comments\",\"events_url\":\"https://api.github.com/repos/pandas-dev/pandas/issues/41403/events\",\"html_url\":\"https://github.com/pandas-dev/pandas/pull/41403\",\"id\":882734595,\"node_id\":\"MDExOlB1bGxSZXF1ZXN0NjM2MjUxNDYw\",\"number\":41403,\"title\":\"REF: set _selection only in __init__\",\"user\":{\"login\":\"jbrockmendel\",\"id\":8078968,\"node_id\":\"MDQ6VXNlcjgwNzg5Njg=\",\"avatar_url\":\"https://avatars.githubusercontent.com/u/8078968?v=4\",\"gravatar_id\":\"\",\"url\":\"https://api.github.com/users/jbrockmendel\",\"html_url\":\"https://github.com/jbrockmendel\",\"followers_url\":\"https://api.github.com/users/jbrockmendel/followers\",\"following_url\":\"https://api.github.com/users/jbrockmendel/following{/other_user}\",\"gists_url\":\"https://api.github.com/users/jbrockmendel/gists{/gist_id}\",\"starred_url\":\"https://api.github.com/users/jbrockmendel/starred{/owner}{/repo}\",\"subscriptions_url\":\"https://api.github.com/users/jbrockmendel/subscriptions\",\"organizations_url\":\"https://api.github.com/users/jbrockmendel/orgs\",\"repos_url\":\"https://api.github.com/users/jbrockmendel/repos\",\"events_url\":\"https://api.github.com/users/jbrockmendel/events{/privacy}\",\"received_events_url\":\"https://api.github.com/users/jbrockmendel/received_events\",\"type\":\"User\",\"site_admin\":false},\"labels\":[],\"state\":\"open\",\"locked\":false,\"assignee\":null,\"assignees\":[],\"milestone\":null,\"comments\":0,\"created_at\":\"2021-05-09T19:56:50Z\",\"updated_at\":\"2021-05-09T21:42:49Z\",\"closed_at\":null,\"author_association\":\"MEMBER\",\"active_lock_reason\":null,\"pull_request\":{\"url\":\"https://api.github.com/repos/pandas-dev/pandas/pulls/41403\",\"html_url\":\"https://github.com/pandas-dev/pandas/pull/41403\",\"diff_url\":\"https://github.com/pandas-dev/pandas/pull/41403.diff\",\"patch_url\":\"https://github.com/pandas-dev/pandas/pull/41403.patch\"},\"body\":\"Trying to make these less stateful.\",\"performed_via_github_app\":null},{\"url\":\"https://api.github.com/repos/pandas-dev/pandas/issues/41402\",\"repository_url\":\"https://api.github.com/repos/pandas-dev/pandas\",\"labels_url\":\"https://api.github.com/repos/pandas-dev/pandas/issues/41402/labels{/name}\",\"comments_url\":\"https://api.github.com/repos/pandas-dev/pandas/issues/41402/comments\",\"events_url\":\"https://api.github.com/repos/pandas-dev/pandas/issues/41402/events\",\"html_url\":\"https://github.com/pandas-dev/pandas/pull/41402\",\"id\":882544356,\"node_id\":\"MDExOlB1bGxSZXF1ZXN0NjM2MDczNDQ4\",\"number\":41402,\"title\":\"DOC: Adding Cylon under ecosystem/out of core\",\"user\":{\"login\":\"chathurawidanage\",\"id\":7312649,\"node_id\":\"MDQ6VXNlcjczMTI2NDk=\",\"avatar_url\":\"https://avatars.githubusercontent.com/u/7312649?v=4\",\"gravatar_id\":\"\",\"url\":\"https://api.github.com/users/chathurawidanage\",\"html_url\":\"https://github.com/chathurawidanage\",\"followers_url\":\"https://api.github.com/users/chathurawidanage/followers\",\"following_url\":\"https://api.github.com/users/chathurawidanage/following{/other_user}\",\"gists_url\":\"https://api.github.com/users/chathurawidanage/gists{/gist_id}\",\"starred_url\":\"https://api.github.com/users/chathurawidanage/starred{/owner}{/repo}\",\"subscriptions_url\":\"https://api.github.com/users/chathurawidanage/subscriptions\",\"organizations_url\":\"https://api.github.com/users/chathurawidanage/orgs\",\"repos_url\":\"https://api.github.com/users/chathurawidanage/repos\",\"events_url\":\"https://api.github.com/users/chathurawidanage/events{/privacy}\",\"received_events_url\":\"https://api.github.com/users/chathurawidanage/received_events\",\"type\":\"User\",\"site_admin\":false},\"labels\":[],\"state\":\"open\",\"locked\":false,\"assignee\":null,\"assignees\":[],\"milestone\":null,\"comments\":0,\"created_at\":\"2021-05-09T16:57:45Z\",\"updated_at\":\"2021-05-09T17:17:22Z\",\"closed_at\":null,\"author_association\":\"NONE\",\"active_lock_reason\":null,\"pull_request\":{\"url\":\"https://api.github.com/repos/pandas-dev/pandas/pulls/41402\",\"html_url\":\"https://github.com/pandas-dev/pandas/pull/41402\",\"diff_url\":\"https://github.com/pandas-dev/pandas/pull/41402.diff\",\"patch_url\":\"https://github.com/pandas-dev/pandas/pull/41402.patch\"},\"body\":\"- [x]  Ensure all linting tests pass, see [here](https://pandas.pydata.org/pandas-docs/dev/development/contributing.html#code-standards) for how to run them\\r\\n\\r\\nThis PR adds a link and a description about Cylon to the ecosystem page.  \\r\\n\\r\\nGithub: [https://github.com/cylondata/cylon](https://github.com/cylondata/cylon)\\r\\nWeb: [https://cylondata.org/](https://cylondata.org/)\\r\\n\",\"performed_via_github_app\":null},{\"url\":\"https://api.github.com/repos/pandas-dev/pandas/issues/41401\",\"repository_url\":\"https://api.github.com/repos/pandas-dev/pandas\",\"labels_url\":\"https://api.github.com/repos/pandas-dev/pandas/issues/41401/labels{/name}\",\"comments_url\":\"https://api.github.com/repos/pandas-dev/pandas/issues/41401/comments\",\"events_url\":\"https://api.github.com/repos/pandas-dev/pandas/issues/41401/events\",\"html_url\":\"https://github.com/pandas-dev/pandas/pull/41401\",\"id\":882518785,\"node_id\":\"MDExOlB1bGxSZXF1ZXN0NjM2MDQ5NTU4\",\"number\":41401,\"title\":\"REF: groupby remove _selection_name\",\"user\":{\"login\":\"jbrockmendel\",\"id\":8078968,\"node_id\":\"MDQ6VXNlcjgwNzg5Njg=\",\"avatar_url\":\"https://avatars.githubusercontent.com/u/8078968?v=4\",\"gravatar_id\":\"\",\"url\":\"https://api.github.com/users/jbrockmendel\",\"html_url\":\"https://github.com/jbrockmendel\",\"followers_url\":\"https://api.github.com/users/jbrockmendel/followers\",\"following_url\":\"https://api.github.com/users/jbrockmendel/following{/other_user}\",\"gists_url\":\"https://api.github.com/users/jbrockmendel/gists{/gist_id}\",\"starred_url\":\"https://api.github.com/users/jbrockmendel/starred{/owner}{/repo}\",\"subscriptions_url\":\"https://api.github.com/users/jbrockmendel/subscriptions\",\"organizations_url\":\"https://api.github.com/users/jbrockmendel/orgs\",\"repos_url\":\"https://api.github.com/users/jbrockmendel/repos\",\"events_url\":\"https://api.github.com/users/jbrockmendel/events{/privacy}\",\"received_events_url\":\"https://api.github.com/users/jbrockmendel/received_events\",\"type\":\"User\",\"site_admin\":false},\"labels\":[{\"id\":233160,\"node_id\":\"MDU6TGFiZWwyMzMxNjA=\",\"url\":\"https://api.github.com/repos/pandas-dev/pandas/labels/Groupby\",\"name\":\"Groupby\",\"color\":\"729FCF\",\"default\":false,\"description\":null}],\"state\":\"open\",\"locked\":false,\"assignee\":null,\"assignees\":[],\"milestone\":null,\"comments\":0,\"created_at\":\"2021-05-09T16:33:47Z\",\"updated_at\":\"2021-05-09T16:53:59Z\",\"closed_at\":null,\"author_association\":\"MEMBER\",\"active_lock_reason\":null,\"pull_request\":{\"url\":\"https://api.github.com/repos/pandas-dev/pandas/pulls/41401\",\"html_url\":\"https://github.com/pandas-dev/pandas/pull/41401\",\"diff_url\":\"https://github.com/pandas-dev/pandas/pull/41401.diff\",\"patch_url\":\"https://github.com/pandas-dev/pandas/pull/41401.patch\"},\"body\":\"We use self._selected_obj and self._obj_with_exclusions in different places with no clear distinction as to when to use which.  I _think_ in pretty much all cases we really want obj_with_exclusions, am moving towards pinning that down.\\r\\n\\r\\nThe only non-trivial thing here is getting rid of pinning _selection in [here](https://github.com/pandas-dev/pandas/compare/master...jbrockmendel:cln-selection_name?expand=1#diff-f1ec980d06b0b54c8263f663f767636c3f5921f04f8a7ee91dfc71a2100b05cdL326).  We have no tests that reach that.  I can cook up a case that gets there, but haven't found any cases where removing it actually changes anything.\",\"performed_via_github_app\":null},{\"url\":\"https://api.github.com/repos/pandas-dev/pandas/issues/41400\",\"repository_url\":\"https://api.github.com/repos/pandas-dev/pandas\",\"labels_url\":\"https://api.github.com/repos/pandas-dev/pandas/issues/41400/labels{/name}\",\"comments_url\":\"https://api.github.com/repos/pandas-dev/pandas/issues/41400/comments\",\"events_url\":\"https://api.github.com/repos/pandas-dev/pandas/issues/41400/events\",\"html_url\":\"https://github.com/pandas-dev/pandas/pull/41400\",\"id\":882504541,\"node_id\":\"MDExOlB1bGxSZXF1ZXN0NjM2MDM2Mzkw\",\"number\":41400,\"title\":\"DOC: Remove multiple blank lines in ipython directives\",\"user\":{\"login\":\"rhshadrach\",\"id\":45562402,\"node_id\":\"MDQ6VXNlcjQ1NTYyNDAy\",\"avatar_url\":\"https://avatars.githubusercontent.com/u/45562402?v=4\",\"gravatar_id\":\"\",\"url\":\"https://api.github.com/users/rhshadrach\",\"html_url\":\"https://github.com/rhshadrach\",\"followers_url\":\"https://api.github.com/users/rhshadrach/followers\",\"following_url\":\"https://api.github.com/users/rhshadrach/following{/other_user}\",\"gists_url\":\"https://api.github.com/users/rhshadrach/gists{/gist_id}\",\"starred_url\":\"https://api.github.com/users/rhshadrach/starred{/owner}{/repo}\",\"subscriptions_url\":\"https://api.github.com/users/rhshadrach/subscriptions\",\"organizations_url\":\"https://api.github.com/users/rhshadrach/orgs\",\"repos_url\":\"https://api.github.com/users/rhshadrach/repos\",\"events_url\":\"https://api.github.com/users/rhshadrach/events{/privacy}\",\"received_events_url\":\"https://api.github.com/users/rhshadrach/received_events\",\"type\":\"User\",\"site_admin\":false},\"labels\":[{\"id\":48070600,\"node_id\":\"MDU6TGFiZWw0ODA3MDYwMA==\",\"url\":\"https://api.github.com/repos/pandas-dev/pandas/labels/CI\",\"name\":\"CI\",\"color\":\"a2bca7\",\"default\":false,\"description\":\"Related to Continuous Integration\"},{\"id\":134699,\"node_id\":\"MDU6TGFiZWwxMzQ2OTk=\",\"url\":\"https://api.github.com/repos/pandas-dev/pandas/labels/Docs\",\"name\":\"Docs\",\"color\":\"3465A4\",\"default\":false,\"description\":null}],\"state\":\"open\",\"locked\":false,\"assignee\":null,\"assignees\":[],\"milestone\":null,\"comments\":1,\"created_at\":\"2021-05-09T16:20:45Z\",\"updated_at\":\"2021-05-09T20:44:24Z\",\"closed_at\":null,\"author_association\":\"MEMBER\",\"active_lock_reason\":null,\"pull_request\":{\"url\":\"https://api.github.com/repos/pandas-dev/pandas/pulls/41400\",\"html_url\":\"https://github.com/pandas-dev/pandas/pull/41400\",\"diff_url\":\"https://github.com/pandas-dev/pandas/pull/41400.diff\",\"patch_url\":\"https://github.com/pandas-dev/pandas/pull/41400.patch\"},\"body\":\"- [x] Ensure all linting tests pass, see [here](https://pandas.pydata.org/pandas-docs/dev/development/contributing.html#code-standards) for how to run them\\r\\n\\r\\nRelated to #26788\\r\\n\\r\\nThis PR gets rid of all warnings of the form \\\"UserWarning: Code input with no code at...\\\" when building the docs. When there are multiple blank lines, e.g.\\r\\n\\r\\n```\\r\\nfoo = 5\\r\\n\\r\\n\\r\\ndef bar():\\r\\n    pass\\r\\n```\\r\\n\\r\\none of the blank lines is reported as having no code. That said, I'm not sure if this is the right approach, as the double blank likes are PEP8 compliant.  Perhaps this should be reported upstream instead and the multiple blank lines left in the docs.\\r\\n\\r\\ncc @jorisvandenbossche @TomAugspurger \\r\\n\",\"performed_via_github_app\":null},{\"url\":\"https://api.github.com/repos/pandas-dev/pandas/issues/41399\",\"repository_url\":\"https://api.github.com/repos/pandas-dev/pandas\",\"labels_url\":\"https://api.github.com/repos/pandas-dev/pandas/issues/41399/labels{/name}\",\"comments_url\":\"https://api.github.com/repos/pandas-dev/pandas/issues/41399/comments\",\"events_url\":\"https://api.github.com/repos/pandas-dev/pandas/issues/41399/events\",\"html_url\":\"https://github.com/pandas-dev/pandas/pull/41399\",\"id\":882448403,\"node_id\":\"MDExOlB1bGxSZXF1ZXN0NjM1OTg0MDE0\",\"number\":41399,\"title\":\"WIP: groupby skipna\",\"user\":{\"login\":\"mayukh18\",\"id\":10487167,\"node_id\":\"MDQ6VXNlcjEwNDg3MTY3\",\"avatar_url\":\"https://avatars.githubusercontent.com/u/10487167?v=4\",\"gravatar_id\":\"\",\"url\":\"https://api.github.com/users/mayukh18\",\"html_url\":\"https://github.com/mayukh18\",\"followers_url\":\"https://api.github.com/users/mayukh18/followers\",\"following_url\":\"https://api.github.com/users/mayukh18/following{/other_user}\",\"gists_url\":\"https://api.github.com/users/mayukh18/gists{/gist_id}\",\"starred_url\":\"https://api.github.com/users/mayukh18/starred{/owner}{/repo}\",\"subscriptions_url\":\"https://api.github.com/users/mayukh18/subscriptions\",\"organizations_url\":\"https://api.github.com/users/mayukh18/orgs\",\"repos_url\":\"https://api.github.com/users/mayukh18/repos\",\"events_url\":\"https://api.github.com/users/mayukh18/events{/privacy}\",\"received_events_url\":\"https://api.github.com/users/mayukh18/received_events\",\"type\":\"User\",\"site_admin\":false},\"labels\":[],\"state\":\"open\",\"locked\":false,\"assignee\":null,\"assignees\":[],\"milestone\":null,\"comments\":1,\"created_at\":\"2021-05-09T15:28:41Z\",\"updated_at\":\"2021-05-09T15:28:45Z\",\"closed_at\":null,\"author_association\":\"NONE\",\"active_lock_reason\":null,\"pull_request\":{\"url\":\"https://api.github.com/repos/pandas-dev/pandas/pulls/41399\",\"html_url\":\"https://github.com/pandas-dev/pandas/pull/41399\",\"diff_url\":\"https://github.com/pandas-dev/pandas/pull/41399.diff\",\"patch_url\":\"https://github.com/pandas-dev/pandas/pull/41399.patch\"},\"body\":\"- [ ] closes #15675\\r\\n- [ ] tests added / passed\\r\\n- [ ] Ensure all linting tests pass, see [here](https://pandas.pydata.org/pandas-docs/dev/development/contributing.html#code-standards) for how to run them\\r\\n- [ ] whatsnew entry\\r\\n\\r\\n\\r\\nNew duplicate of #15772 since I had lost the previous branch. Work in progress.\\r\\n\",\"performed_via_github_app\":null},{\"url\":\"https://api.github.com/repos/pandas-dev/pandas/issues/41398\",\"repository_url\":\"https://api.github.com/repos/pandas-dev/pandas\",\"labels_url\":\"https://api.github.com/repos/pandas-dev/pandas/issues/41398/labels{/name}\",\"comments_url\":\"https://api.github.com/repos/pandas-dev/pandas/issues/41398/comments\",\"events_url\":\"https://api.github.com/repos/pandas-dev/pandas/issues/41398/events\",\"html_url\":\"https://github.com/pandas-dev/pandas/pull/41398\",\"id\":882433328,\"node_id\":\"MDExOlB1bGxSZXF1ZXN0NjM1OTY5ODc3\",\"number\":41398,\"title\":\"DOC: Remove deprecated usage of Index.__xor__\",\"user\":{\"login\":\"rhshadrach\",\"id\":45562402,\"node_id\":\"MDQ6VXNlcjQ1NTYyNDAy\",\"avatar_url\":\"https://avatars.githubusercontent.com/u/45562402?v=4\",\"gravatar_id\":\"\",\"url\":\"https://api.github.com/users/rhshadrach\",\"html_url\":\"https://github.com/rhshadrach\",\"followers_url\":\"https://api.github.com/users/rhshadrach/followers\",\"following_url\":\"https://api.github.com/users/rhshadrach/following{/other_user}\",\"gists_url\":\"https://api.github.com/users/rhshadrach/gists{/gist_id}\",\"starred_url\":\"https://api.github.com/users/rhshadrach/starred{/owner}{/repo}\",\"subscriptions_url\":\"https://api.github.com/users/rhshadrach/subscriptions\",\"organizations_url\":\"https://api.github.com/users/rhshadrach/orgs\",\"repos_url\":\"https://api.github.com/users/rhshadrach/repos\",\"events_url\":\"https://api.github.com/users/rhshadrach/events{/privacy}\",\"received_events_url\":\"https://api.github.com/users/rhshadrach/received_events\",\"type\":\"User\",\"site_admin\":false},\"labels\":[{\"id\":87485152,\"node_id\":\"MDU6TGFiZWw4NzQ4NTE1Mg==\",\"url\":\"https://api.github.com/repos/pandas-dev/pandas/labels/Deprecate\",\"name\":\"Deprecate\",\"color\":\"5319e7\",\"default\":false,\"description\":\"Functionality to remove in pandas\"},{\"id\":1218227310,\"node_id\":\"MDU6TGFiZWwxMjE4MjI3MzEw\",\"url\":\"https://api.github.com/repos/pandas-dev/pandas/labels/Index\",\"name\":\"Index\",\"color\":\"e99695\",\"default\":false,\"description\":\"Related to the Index class or subclasses\"}],\"state\":\"open\",\"locked\":false,\"assignee\":null,\"assignees\":[],\"milestone\":null,\"comments\":0,\"created_at\":\"2021-05-09T15:14:39Z\",\"updated_at\":\"2021-05-09T15:54:02Z\",\"closed_at\":null,\"author_association\":\"MEMBER\",\"active_lock_reason\":null,\"pull_request\":{\"url\":\"https://api.github.com/repos/pandas-dev/pandas/pulls/41398\",\"html_url\":\"https://github.com/pandas-dev/pandas/pull/41398\",\"diff_url\":\"https://github.com/pandas-dev/pandas/pull/41398.diff\",\"patch_url\":\"https://github.com/pandas-dev/pandas/pull/41398.patch\"},\"body\":\"- [x] Ensure all linting tests pass, see [here](https://pandas.pydata.org/pandas-docs/dev/development/contributing.html#code-standards) for how to run them\\r\\n\\r\\nref #37374 cc @jbrockmendel \\r\\n\",\"performed_via_github_app\":null},{\"url\":\"https://api.github.com/repos/pandas-dev/pandas/issues/41397\",\"repository_url\":\"https://api.github.com/repos/pandas-dev/pandas\",\"labels_url\":\"https://api.github.com/repos/pandas-dev/pandas/issues/41397/labels{/name}\",\"comments_url\":\"https://api.github.com/repos/pandas-dev/pandas/issues/41397/comments\",\"events_url\":\"https://api.github.com/repos/pandas-dev/pandas/issues/41397/events\",\"html_url\":\"https://github.com/pandas-dev/pandas/pull/41397\",\"id\":882418086,\"node_id\":\"MDExOlB1bGxSZXF1ZXN0NjM1OTU1ODMx\",\"number\":41397,\"title\":\"DOC: specify regex=True in str.replace\",\"user\":{\"login\":\"rhshadrach\",\"id\":45562402,\"node_id\":\"MDQ6VXNlcjQ1NTYyNDAy\",\"avatar_url\":\"https://avatars.githubusercontent.com/u/45562402?v=4\",\"gravatar_id\":\"\",\"url\":\"https://api.github.com/users/rhshadrach\",\"html_url\":\"https://github.com/rhshadrach\",\"followers_url\":\"https://api.github.com/users/rhshadrach/followers\",\"following_url\":\"https://api.github.com/users/rhshadrach/following{/other_user}\",\"gists_url\":\"https://api.github.com/users/rhshadrach/gists{/gist_id}\",\"starred_url\":\"https://api.github.com/users/rhshadrach/starred{/owner}{/repo}\",\"subscriptions_url\":\"https://api.github.com/users/rhshadrach/subscriptions\",\"organizations_url\":\"https://api.github.com/users/rhshadrach/orgs\",\"repos_url\":\"https://api.github.com/users/rhshadrach/repos\",\"events_url\":\"https://api.github.com/users/rhshadrach/events{/privacy}\",\"received_events_url\":\"https://api.github.com/users/rhshadrach/received_events\",\"type\":\"User\",\"site_admin\":false},\"labels\":[{\"id\":87485152,\"node_id\":\"MDU6TGFiZWw4NzQ4NTE1Mg==\",\"url\":\"https://api.github.com/repos/pandas-dev/pandas/labels/Deprecate\",\"name\":\"Deprecate\",\"color\":\"5319e7\",\"default\":false,\"description\":\"Functionality to remove in pandas\"},{\"id\":134699,\"node_id\":\"MDU6TGFiZWwxMzQ2OTk=\",\"url\":\"https://api.github.com/repos/pandas-dev/pandas/labels/Docs\",\"name\":\"Docs\",\"color\":\"3465A4\",\"default\":false,\"description\":null},{\"id\":57522093,\"node_id\":\"MDU6TGFiZWw1NzUyMjA5Mw==\",\"url\":\"https://api.github.com/repos/pandas-dev/pandas/labels/Strings\",\"name\":\"Strings\",\"color\":\"5319e7\",\"default\":false,\"description\":\"String extension data type and string data\"}],\"state\":\"open\",\"locked\":false,\"assignee\":null,\"assignees\":[],\"milestone\":null,\"comments\":3,\"created_at\":\"2021-05-09T15:00:55Z\",\"updated_at\":\"2021-05-09T20:13:36Z\",\"closed_at\":null,\"author_association\":\"MEMBER\",\"active_lock_reason\":null,\"pull_request\":{\"url\":\"https://api.github.com/repos/pandas-dev/pandas/pulls/41397\",\"html_url\":\"https://github.com/pandas-dev/pandas/pull/41397\",\"diff_url\":\"https://github.com/pandas-dev/pandas/pull/41397.diff\",\"patch_url\":\"https://github.com/pandas-dev/pandas/pull/41397.patch\"},\"body\":\"- [x] Ensure all linting tests pass, see [here](https://pandas.pydata.org/pandas-docs/dev/development/contributing.html#code-standards) for how to run them\\r\\n\\r\\nref #36695\\r\\n\\r\\nWhen passing a callable repl, str.replace will raise if regex is False. So it seems to me that in the future, when the default is changed, we should be ignoring the regex argument completely (and update the documentation to that effect). This is slightly magical, but I think better than having a default that raises.\\r\\n\\r\\nIf this is the correct way forward, then we don't need to warn when repl is callable.\\r\\n\\r\\ncc @dsaxton @jorisvandenbossche\\r\\n\",\"performed_via_github_app\":null},{\"url\":\"https://api.github.com/repos/pandas-dev/pandas/issues/41396\",\"repository_url\":\"https://api.github.com/repos/pandas-dev/pandas\",\"labels_url\":\"https://api.github.com/repos/pandas-dev/pandas/issues/41396/labels{/name}\",\"comments_url\":\"https://api.github.com/repos/pandas-dev/pandas/issues/41396/comments\",\"events_url\":\"https://api.github.com/repos/pandas-dev/pandas/issues/41396/events\",\"html_url\":\"https://github.com/pandas-dev/pandas/pull/41396\",\"id\":882404212,\"node_id\":\"MDExOlB1bGxSZXF1ZXN0NjM1OTQyODky\",\"number\":41396,\"title\":\"[ArrowStringArray] TST: parametrize str.partition tests\",\"user\":{\"login\":\"simonjayhawkins\",\"id\":13159005,\"node_id\":\"MDQ6VXNlcjEzMTU5MDA1\",\"avatar_url\":\"https://avatars.githubusercontent.com/u/13159005?v=4\",\"gravatar_id\":\"\",\"url\":\"https://api.github.com/users/simonjayhawkins\",\"html_url\":\"https://github.com/simonjayhawkins\",\"followers_url\":\"https://api.github.com/users/simonjayhawkins/followers\",\"following_url\":\"https://api.github.com/users/simonjayhawkins/following{/other_user}\",\"gists_url\":\"https://api.github.com/users/simonjayhawkins/gists{/gist_id}\",\"starred_url\":\"https://api.github.com/users/simonjayhawkins/starred{/owner}{/repo}\",\"subscriptions_url\":\"https://api.github.com/users/simonjayhawkins/subscriptions\",\"organizations_url\":\"https://api.github.com/users/simonjayhawkins/orgs\",\"repos_url\":\"https://api.github.com/users/simonjayhawkins/repos\",\"events_url\":\"https://api.github.com/users/simonjayhawkins/events{/privacy}\",\"received_events_url\":\"https://api.github.com/users/simonjayhawkins/received_events\",\"type\":\"User\",\"site_admin\":false},\"labels\":[{\"id\":57522093,\"node_id\":\"MDU6TGFiZWw1NzUyMjA5Mw==\",\"url\":\"https://api.github.com/repos/pandas-dev/pandas/labels/Strings\",\"name\":\"Strings\",\"color\":\"5319e7\",\"default\":false,\"description\":\"String extension data type and string data\"},{\"id\":127685,\"node_id\":\"MDU6TGFiZWwxMjc2ODU=\",\"url\":\"https://api.github.com/repos/pandas-dev/pandas/labels/Testing\",\"name\":\"Testing\",\"color\":\"C4A000\",\"default\":false,\"description\":\"Custom testing functions or related to the test suite\"}],\"state\":\"open\",\"locked\":false,\"assignee\":null,\"assignees\":[],\"milestone\":{\"url\":\"https://api.github.com/repos/pandas-dev/pandas/milestones/80\",\"html_url\":\"https://github.com/pandas-dev/pandas/milestone/80\",\"labels_url\":\"https://api.github.com/repos/pandas-dev/pandas/milestones/80/labels\",\"id\":6095818,\"node_id\":\"MDk6TWlsZXN0b25lNjA5NTgxOA==\",\"number\":80,\"title\":\"1.3\",\"description\":\"\",\"creator\":{\"login\":\"jreback\",\"id\":953992,\"node_id\":\"MDQ6VXNlcjk1Mzk5Mg==\",\"avatar_url\":\"https://avatars.githubusercontent.com/u/953992?v=4\",\"gravatar_id\":\"\",\"url\":\"https://api.github.com/users/jreback\",\"html_url\":\"https://github.com/jreback\",\"followers_url\":\"https://api.github.com/users/jreback/followers\",\"following_url\":\"https://api.github.com/users/jreback/following{/other_user}\",\"gists_url\":\"https://api.github.com/users/jreback/gists{/gist_id}\",\"starred_url\":\"https://api.github.com/users/jreback/starred{/owner}{/repo}\",\"subscriptions_url\":\"https://api.github.com/users/jreback/subscriptions\",\"organizations_url\":\"https://api.github.com/users/jreback/orgs\",\"repos_url\":\"https://api.github.com/users/jreback/repos\",\"events_url\":\"https://api.github.com/users/jreback/events{/privacy}\",\"received_events_url\":\"https://api.github.com/users/jreback/received_events\",\"type\":\"User\",\"site_admin\":false},\"open_issues\":119,\"closed_issues\":1734,\"state\":\"open\",\"created_at\":\"2020-11-11T19:05:43Z\",\"updated_at\":\"2021-05-09T14:48:14Z\",\"due_on\":\"2021-05-31T07:00:00Z\",\"closed_at\":null},\"comments\":0,\"created_at\":\"2021-05-09T14:48:14Z\",\"updated_at\":\"2021-05-09T14:48:14Z\",\"closed_at\":null,\"author_association\":\"MEMBER\",\"active_lock_reason\":null,\"pull_request\":{\"url\":\"https://api.github.com/repos/pandas-dev/pandas/pulls/41396\",\"html_url\":\"https://github.com/pandas-dev/pandas/pull/41396\",\"diff_url\":\"https://github.com/pandas-dev/pandas/pull/41396.diff\",\"patch_url\":\"https://github.com/pandas-dev/pandas/pull/41396.patch\"},\"body\":\"\",\"performed_via_github_app\":null},{\"url\":\"https://api.github.com/repos/pandas-dev/pandas/issues/41395\",\"repository_url\":\"https://api.github.com/repos/pandas-dev/pandas\",\"labels_url\":\"https://api.github.com/repos/pandas-dev/pandas/issues/41395/labels{/name}\",\"comments_url\":\"https://api.github.com/repos/pandas-dev/pandas/issues/41395/comments\",\"events_url\":\"https://api.github.com/repos/pandas-dev/pandas/issues/41395/events\",\"html_url\":\"https://github.com/pandas-dev/pandas/issues/41395\",\"id\":882400069,\"node_id\":\"MDU6SXNzdWU4ODI0MDAwNjk=\",\"number\":41395,\"title\":\"Opinion requested: Pandas Options for Styler\",\"user\":{\"login\":\"attack68\",\"id\":24256554,\"node_id\":\"MDQ6VXNlcjI0MjU2NTU0\",\"avatar_url\":\"https://avatars.githubusercontent.com/u/24256554?v=4\",\"gravatar_id\":\"\",\"url\":\"https://api.github.com/users/attack68\",\"html_url\":\"https://github.com/attack68\",\"followers_url\":\"https://api.github.com/users/attack68/followers\",\"following_url\":\"https://api.github.com/users/attack68/following{/other_user}\",\"gists_url\":\"https://api.github.com/users/attack68/gists{/gist_id}\",\"starred_url\":\"https://api.github.com/users/attack68/starred{/owner}{/repo}\",\"subscriptions_url\":\"https://api.github.com/users/attack68/subscriptions\",\"organizations_url\":\"https://api.github.com/users/attack68/orgs\",\"repos_url\":\"https://api.github.com/users/attack68/repos\",\"events_url\":\"https://api.github.com/users/attack68/events{/privacy}\",\"received_events_url\":\"https://api.github.com/users/attack68/received_events\",\"type\":\"User\",\"site_admin\":false},\"labels\":[{\"id\":157369,\"node_id\":\"MDU6TGFiZWwxNTczNjk=\",\"url\":\"https://api.github.com/repos/pandas-dev/pandas/labels/Ideas\",\"name\":\"Ideas\",\"color\":\"DDDDDD\",\"default\":false,\"description\":\"Long-Term Enhancement Discussions\"},{\"id\":219960758,\"node_id\":\"MDU6TGFiZWwyMTk5NjA3NTg=\",\"url\":\"https://api.github.com/repos/pandas-dev/pandas/labels/Needs%20Discussion\",\"name\":\"Needs Discussion\",\"color\":\"207de5\",\"default\":false,\"description\":null}],\"state\":\"open\",\"locked\":false,\"assignee\":null,\"assignees\":[],\"milestone\":null,\"comments\":0,\"created_at\":\"2021-05-09T14:44:25Z\",\"updated_at\":\"2021-05-09T14:44:25Z\",\"closed_at\":null,\"author_association\":\"CONTRIBUTOR\",\"active_lock_reason\":null,\"body\":\"The [pandas options](https://pandas.pydata.org/pandas-docs/stable/user_guide/options.html#available-options) seem to be little haphazard in the way they have been accumulated and implemented in pandas.\\r\\n\\r\\nI think there are a few which you might expect to have an impact on `Styler` which **do not**, such as:\\r\\n```\\r\\ndisplay.chop_threshold \\r\\ndisplay.colheader_justify\\r\\ndisplay.float_format\\r\\ndisplay.large_repr\\r\\ndisplay.max_rows\\r\\ndisplay.max_coloumns\\r\\ndisplay.max_info_rows\\r\\ndisplay.max_info_columns\\r\\ndisplay.precision\\r\\ndisplay.multisparse. <-- only this currently does impact Styler (is generically applied)\\r\\n```\\r\\n\\r\\nThere are also a few which might be expected to apply to the proposed `Styler.to_latex`, which are **not implemented**:\\r\\n\\r\\n```\\r\\ndisplay.latex.repr\\r\\ndisplay.latex.longtable\\r\\ndisplay.latex.escape\\r\\ndisplay.latex.multicolumn\\r\\ndisplay.latex.multicolumn_format\\r\\ndisplay.latex.multirow\\r\\n```\\r\\n\\r\\nThere are also some specifically addressing HTML, which again **do not** impact Styler:\\r\\n\\r\\n```\\r\\ndisplay.html.table_schema \\r\\ndisplay.html.border \\r\\ndisplay.html.use_mathjax. <-- only this currently does impacts Styler (was designed for DataFrame.to_html)\\r\\n```\\r\\n\\r\\nSince so few of these actually apply to Styler, and where they do it is only as a crossover I wonder if it is worth introducing options **specifically** for Styler, e.g. `styler.latex.xxx` and `styler.html.yyy`. One reason for not wanting to implement the above options into Styler is that not all are wanted, and there are some extras that are which would create inconsistent sets.\\r\\n\\r\\nI have come across comments in the past from users wanting to set defaults before any `df.style` is, repeatedly, called in a notebook.\\r\\n\\r\\nAlso, if `Styler.to_latex` and `Styler.to_html` ever get to the point of replacing the DataFrame variants then this might allow the deprecation of many of the other options. (for example `display.html.border` is already deprecated in HTML language)\\r\\n\\r\\n\",\"performed_via_github_app\":null},{\"url\":\"https://api.github.com/repos/pandas-dev/pandas/issues/41394\",\"repository_url\":\"https://api.github.com/repos/pandas-dev/pandas\",\"labels_url\":\"https://api.github.com/repos/pandas-dev/pandas/issues/41394/labels{/name}\",\"comments_url\":\"https://api.github.com/repos/pandas-dev/pandas/issues/41394/comments\",\"events_url\":\"https://api.github.com/repos/pandas-dev/pandas/issues/41394/events\",\"html_url\":\"https://github.com/pandas-dev/pandas/pull/41394\",\"id\":882366774,\"node_id\":\"MDExOlB1bGxSZXF1ZXN0NjM1OTA3OTE4\",\"number\":41394,\"title\":\"DOC: Remove deprecated use of level for agg functions\",\"user\":{\"login\":\"rhshadrach\",\"id\":45562402,\"node_id\":\"MDQ6VXNlcjQ1NTYyNDAy\",\"avatar_url\":\"https://avatars.githubusercontent.com/u/45562402?v=4\",\"gravatar_id\":\"\",\"url\":\"https://api.github.com/users/rhshadrach\",\"html_url\":\"https://github.com/rhshadrach\",\"followers_url\":\"https://api.github.com/users/rhshadrach/followers\",\"following_url\":\"https://api.github.com/users/rhshadrach/following{/other_user}\",\"gists_url\":\"https://api.github.com/users/rhshadrach/gists{/gist_id}\",\"starred_url\":\"https://api.github.com/users/rhshadrach/starred{/owner}{/repo}\",\"subscriptions_url\":\"https://api.github.com/users/rhshadrach/subscriptions\",\"organizations_url\":\"https://api.github.com/users/rhshadrach/orgs\",\"repos_url\":\"https://api.github.com/users/rhshadrach/repos\",\"events_url\":\"https://api.github.com/users/rhshadrach/events{/privacy}\",\"received_events_url\":\"https://api.github.com/users/rhshadrach/received_events\",\"type\":\"User\",\"site_admin\":false},\"labels\":[{\"id\":87485152,\"node_id\":\"MDU6TGFiZWw4NzQ4NTE1Mg==\",\"url\":\"https://api.github.com/repos/pandas-dev/pandas/labels/Deprecate\",\"name\":\"Deprecate\",\"color\":\"5319e7\",\"default\":false,\"description\":\"Functionality to remove in pandas\"},{\"id\":134699,\"node_id\":\"MDU6TGFiZWwxMzQ2OTk=\",\"url\":\"https://api.github.com/repos/pandas-dev/pandas/labels/Docs\",\"name\":\"Docs\",\"color\":\"3465A4\",\"default\":false,\"description\":null},{\"id\":233160,\"node_id\":\"MDU6TGFiZWwyMzMxNjA=\",\"url\":\"https://api.github.com/repos/pandas-dev/pandas/labels/Groupby\",\"name\":\"Groupby\",\"color\":\"729FCF\",\"default\":false,\"description\":null}],\"state\":\"open\",\"locked\":false,\"assignee\":null,\"assignees\":[],\"milestone\":null,\"comments\":2,\"created_at\":\"2021-05-09T14:13:46Z\",\"updated_at\":\"2021-05-09T16:32:51Z\",\"closed_at\":null,\"author_association\":\"MEMBER\",\"active_lock_reason\":null,\"pull_request\":{\"url\":\"https://api.github.com/repos/pandas-dev/pandas/pulls/41394\",\"html_url\":\"https://github.com/pandas-dev/pandas/pull/41394\",\"diff_url\":\"https://github.com/pandas-dev/pandas/pull/41394.diff\",\"patch_url\":\"https://github.com/pandas-dev/pandas/pull/41394.patch\"},\"body\":\"- [x] Ensure all linting tests pass, see [here](https://pandas.pydata.org/pandas-docs/dev/development/contributing.html#code-standards) for how to run them\\r\\n\\r\\nref #40869, cc @phofl\",\"performed_via_github_app\":null},{\"url\":\"https://api.github.com/repos/pandas-dev/pandas/issues/41393\",\"repository_url\":\"https://api.github.com/repos/pandas-dev/pandas\",\"labels_url\":\"https://api.github.com/repos/pandas-dev/pandas/issues/41393/labels{/name}\",\"comments_url\":\"https://api.github.com/repos/pandas-dev/pandas/issues/41393/comments\",\"events_url\":\"https://api.github.com/repos/pandas-dev/pandas/issues/41393/events\",\"html_url\":\"https://github.com/pandas-dev/pandas/pull/41393\",\"id\":882345860,\"node_id\":\"MDExOlB1bGxSZXF1ZXN0NjM1ODg4Mjk1\",\"number\":41393,\"title\":\"[ArrowStringArray] TST: parametrize str.extract tests\",\"user\":{\"login\":\"simonjayhawkins\",\"id\":13159005,\"node_id\":\"MDQ6VXNlcjEzMTU5MDA1\",\"avatar_url\":\"https://avatars.githubusercontent.com/u/13159005?v=4\",\"gravatar_id\":\"\",\"url\":\"https://api.github.com/users/simonjayhawkins\",\"html_url\":\"https://github.com/simonjayhawkins\",\"followers_url\":\"https://api.github.com/users/simonjayhawkins/followers\",\"following_url\":\"https://api.github.com/users/simonjayhawkins/following{/other_user}\",\"gists_url\":\"https://api.github.com/users/simonjayhawkins/gists{/gist_id}\",\"starred_url\":\"https://api.github.com/users/simonjayhawkins/starred{/owner}{/repo}\",\"subscriptions_url\":\"https://api.github.com/users/simonjayhawkins/subscriptions\",\"organizations_url\":\"https://api.github.com/users/simonjayhawkins/orgs\",\"repos_url\":\"https://api.github.com/users/simonjayhawkins/repos\",\"events_url\":\"https://api.github.com/users/simonjayhawkins/events{/privacy}\",\"received_events_url\":\"https://api.github.com/users/simonjayhawkins/received_events\",\"type\":\"User\",\"site_admin\":false},\"labels\":[{\"id\":57522093,\"node_id\":\"MDU6TGFiZWw1NzUyMjA5Mw==\",\"url\":\"https://api.github.com/repos/pandas-dev/pandas/labels/Strings\",\"name\":\"Strings\",\"color\":\"5319e7\",\"default\":false,\"description\":\"String extension data type and string data\"},{\"id\":127685,\"node_id\":\"MDU6TGFiZWwxMjc2ODU=\",\"url\":\"https://api.github.com/repos/pandas-dev/pandas/labels/Testing\",\"name\":\"Testing\",\"color\":\"C4A000\",\"default\":false,\"description\":\"Custom testing functions or related to the test suite\"}],\"state\":\"open\",\"locked\":false,\"assignee\":null,\"assignees\":[],\"milestone\":{\"url\":\"https://api.github.com/repos/pandas-dev/pandas/milestones/80\",\"html_url\":\"https://github.com/pandas-dev/pandas/milestone/80\",\"labels_url\":\"https://api.github.com/repos/pandas-dev/pandas/milestones/80/labels\",\"id\":6095818,\"node_id\":\"MDk6TWlsZXN0b25lNjA5NTgxOA==\",\"number\":80,\"title\":\"1.3\",\"description\":\"\",\"creator\":{\"login\":\"jreback\",\"id\":953992,\"node_id\":\"MDQ6VXNlcjk1Mzk5Mg==\",\"avatar_url\":\"https://avatars.githubusercontent.com/u/953992?v=4\",\"gravatar_id\":\"\",\"url\":\"https://api.github.com/users/jreback\",\"html_url\":\"https://github.com/jreback\",\"followers_url\":\"https://api.github.com/users/jreback/followers\",\"following_url\":\"https://api.github.com/users/jreback/following{/other_user}\",\"gists_url\":\"https://api.github.com/users/jreback/gists{/gist_id}\",\"starred_url\":\"https://api.github.com/users/jreback/starred{/owner}{/repo}\",\"subscriptions_url\":\"https://api.github.com/users/jreback/subscriptions\",\"organizations_url\":\"https://api.github.com/users/jreback/orgs\",\"repos_url\":\"https://api.github.com/users/jreback/repos\",\"events_url\":\"https://api.github.com/users/jreback/events{/privacy}\",\"received_events_url\":\"https://api.github.com/users/jreback/received_events\",\"type\":\"User\",\"site_admin\":false},\"open_issues\":119,\"closed_issues\":1734,\"state\":\"open\",\"created_at\":\"2020-11-11T19:05:43Z\",\"updated_at\":\"2021-05-09T14:48:14Z\",\"due_on\":\"2021-05-31T07:00:00Z\",\"closed_at\":null},\"comments\":0,\"created_at\":\"2021-05-09T13:54:19Z\",\"updated_at\":\"2021-05-09T13:54:19Z\",\"closed_at\":null,\"author_association\":\"MEMBER\",\"active_lock_reason\":null,\"pull_request\":{\"url\":\"https://api.github.com/repos/pandas-dev/pandas/pulls/41393\",\"html_url\":\"https://github.com/pandas-dev/pandas/pull/41393\",\"diff_url\":\"https://github.com/pandas-dev/pandas/pull/41393.diff\",\"patch_url\":\"https://github.com/pandas-dev/pandas/pull/41393.patch\"},\"body\":\"\",\"performed_via_github_app\":null},{\"url\":\"https://api.github.com/repos/pandas-dev/pandas/issues/41392\",\"repository_url\":\"https://api.github.com/repos/pandas-dev/pandas\",\"labels_url\":\"https://api.github.com/repos/pandas-dev/pandas/issues/41392/labels{/name}\",\"comments_url\":\"https://api.github.com/repos/pandas-dev/pandas/issues/41392/comments\",\"events_url\":\"https://api.github.com/repos/pandas-dev/pandas/issues/41392/events\",\"html_url\":\"https://github.com/pandas-dev/pandas/pull/41392\",\"id\":882110611,\"node_id\":\"MDExOlB1bGxSZXF1ZXN0NjM1NjY3NzY1\",\"number\":41392,\"title\":\"[ArrowStringArray] TST: parametrize str.split tests\",\"user\":{\"login\":\"simonjayhawkins\",\"id\":13159005,\"node_id\":\"MDQ6VXNlcjEzMTU5MDA1\",\"avatar_url\":\"https://avatars.githubusercontent.com/u/13159005?v=4\",\"gravatar_id\":\"\",\"url\":\"https://api.github.com/users/simonjayhawkins\",\"html_url\":\"https://github.com/simonjayhawkins\",\"followers_url\":\"https://api.github.com/users/simonjayhawkins/followers\",\"following_url\":\"https://api.github.com/users/simonjayhawkins/following{/other_user}\",\"gists_url\":\"https://api.github.com/users/simonjayhawkins/gists{/gist_id}\",\"starred_url\":\"https://api.github.com/users/simonjayhawkins/starred{/owner}{/repo}\",\"subscriptions_url\":\"https://api.github.com/users/simonjayhawkins/subscriptions\",\"organizations_url\":\"https://api.github.com/users/simonjayhawkins/orgs\",\"repos_url\":\"https://api.github.com/users/simonjayhawkins/repos\",\"events_url\":\"https://api.github.com/users/simonjayhawkins/events{/privacy}\",\"received_events_url\":\"https://api.github.com/users/simonjayhawkins/received_events\",\"type\":\"User\",\"site_admin\":false},\"labels\":[{\"id\":57522093,\"node_id\":\"MDU6TGFiZWw1NzUyMjA5Mw==\",\"url\":\"https://api.github.com/repos/pandas-dev/pandas/labels/Strings\",\"name\":\"Strings\",\"color\":\"5319e7\",\"default\":false,\"description\":\"String extension data type and string data\"},{\"id\":127685,\"node_id\":\"MDU6TGFiZWwxMjc2ODU=\",\"url\":\"https://api.github.com/repos/pandas-dev/pandas/labels/Testing\",\"name\":\"Testing\",\"color\":\"C4A000\",\"default\":false,\"description\":\"Custom testing functions or related to the test suite\"}],\"state\":\"open\",\"locked\":false,\"assignee\":null,\"assignees\":[],\"milestone\":{\"url\":\"https://api.github.com/repos/pandas-dev/pandas/milestones/80\",\"html_url\":\"https://github.com/pandas-dev/pandas/milestone/80\",\"labels_url\":\"https://api.github.com/repos/pandas-dev/pandas/milestones/80/labels\",\"id\":6095818,\"node_id\":\"MDk6TWlsZXN0b25lNjA5NTgxOA==\",\"number\":80,\"title\":\"1.3\",\"description\":\"\",\"creator\":{\"login\":\"jreback\",\"id\":953992,\"node_id\":\"MDQ6VXNlcjk1Mzk5Mg==\",\"avatar_url\":\"https://avatars.githubusercontent.com/u/953992?v=4\",\"gravatar_id\":\"\",\"url\":\"https://api.github.com/users/jreback\",\"html_url\":\"https://github.com/jreback\",\"followers_url\":\"https://api.github.com/users/jreback/followers\",\"following_url\":\"https://api.github.com/users/jreback/following{/other_user}\",\"gists_url\":\"https://api.github.com/users/jreback/gists{/gist_id}\",\"starred_url\":\"https://api.github.com/users/jreback/starred{/owner}{/repo}\",\"subscriptions_url\":\"https://api.github.com/users/jreback/subscriptions\",\"organizations_url\":\"https://api.github.com/users/jreback/orgs\",\"repos_url\":\"https://api.github.com/users/jreback/repos\",\"events_url\":\"https://api.github.com/users/jreback/events{/privacy}\",\"received_events_url\":\"https://api.github.com/users/jreback/received_events\",\"type\":\"User\",\"site_admin\":false},\"open_issues\":119,\"closed_issues\":1734,\"state\":\"open\",\"created_at\":\"2020-11-11T19:05:43Z\",\"updated_at\":\"2021-05-09T14:48:14Z\",\"due_on\":\"2021-05-31T07:00:00Z\",\"closed_at\":null},\"comments\":0,\"created_at\":\"2021-05-09T10:13:04Z\",\"updated_at\":\"2021-05-09T13:54:58Z\",\"closed_at\":null,\"author_association\":\"MEMBER\",\"active_lock_reason\":null,\"pull_request\":{\"url\":\"https://api.github.com/repos/pandas-dev/pandas/pulls/41392\",\"html_url\":\"https://github.com/pandas-dev/pandas/pull/41392\",\"diff_url\":\"https://github.com/pandas-dev/pandas/pull/41392.diff\",\"patch_url\":\"https://github.com/pandas-dev/pandas/pull/41392.patch\"},\"body\":\"the test (and benchmark) changes broken off from #41085 as a precursor to #41085 and #41372 (which currently makes changes to the str.split path, although I may break that PR up also)\",\"performed_via_github_app\":null},{\"url\":\"https://api.github.com/repos/pandas-dev/pandas/issues/41391\",\"repository_url\":\"https://api.github.com/repos/pandas-dev/pandas\",\"labels_url\":\"https://api.github.com/repos/pandas-dev/pandas/issues/41391/labels{/name}\",\"comments_url\":\"https://api.github.com/repos/pandas-dev/pandas/issues/41391/comments\",\"events_url\":\"https://api.github.com/repos/pandas-dev/pandas/issues/41391/events\",\"html_url\":\"https://github.com/pandas-dev/pandas/pull/41391\",\"id\":881960653,\"node_id\":\"MDExOlB1bGxSZXF1ZXN0NjM1NTI3NzUz\",\"number\":41391,\"title\":\"REF: add internal mechanics to separate index/columns sparsification in Styler\",\"user\":{\"login\":\"attack68\",\"id\":24256554,\"node_id\":\"MDQ6VXNlcjI0MjU2NTU0\",\"avatar_url\":\"https://avatars.githubusercontent.com/u/24256554?v=4\",\"gravatar_id\":\"\",\"url\":\"https://api.github.com/users/attack68\",\"html_url\":\"https://github.com/attack68\",\"followers_url\":\"https://api.github.com/users/attack68/followers\",\"following_url\":\"https://api.github.com/users/attack68/following{/other_user}\",\"gists_url\":\"https://api.github.com/users/attack68/gists{/gist_id}\",\"starred_url\":\"https://api.github.com/users/attack68/starred{/owner}{/repo}\",\"subscriptions_url\":\"https://api.github.com/users/attack68/subscriptions\",\"organizations_url\":\"https://api.github.com/users/attack68/orgs\",\"repos_url\":\"https://api.github.com/users/attack68/repos\",\"events_url\":\"https://api.github.com/users/attack68/events{/privacy}\",\"received_events_url\":\"https://api.github.com/users/attack68/received_events\",\"type\":\"User\",\"site_admin\":false},\"labels\":[{\"id\":127681,\"node_id\":\"MDU6TGFiZWwxMjc2ODE=\",\"url\":\"https://api.github.com/repos/pandas-dev/pandas/labels/Refactor\",\"name\":\"Refactor\",\"color\":\"FCE94F\",\"default\":false,\"description\":\"Internal refactoring of code\"},{\"id\":1728592794,\"node_id\":\"MDU6TGFiZWwxNzI4NTkyNzk0\",\"url\":\"https://api.github.com/repos/pandas-dev/pandas/labels/Styler\",\"name\":\"Styler\",\"color\":\"006b75\",\"default\":false,\"description\":\"conditional formatting using DataFrame.style\"}],\"state\":\"open\",\"locked\":false,\"assignee\":null,\"assignees\":[],\"milestone\":null,\"comments\":0,\"created_at\":\"2021-05-09T07:51:33Z\",\"updated_at\":\"2021-05-09T10:26:51Z\",\"closed_at\":null,\"author_association\":\"CONTRIBUTOR\",\"active_lock_reason\":null,\"pull_request\":{\"url\":\"https://api.github.com/repos/pandas-dev/pandas/pulls/41391\",\"html_url\":\"https://github.com/pandas-dev/pandas/pull/41391\",\"diff_url\":\"https://github.com/pandas-dev/pandas/pull/41391.diff\",\"patch_url\":\"https://github.com/pandas-dev/pandas/pull/41391.patch\"},\"body\":\"This is not a user facing change.\\r\\n\\r\\nIt adds only the necessary code to permit separate control of index/column MultIndex sparsification. Essentially it removes the `get_option(\\\"display.multi_sparse\\\")` from a low level method to a higher level method where it can be overwritten by user-args later.\\r\\n\\r\\npartly addresses #41142 \",\"performed_via_github_app\":null},{\"url\":\"https://api.github.com/repos/pandas-dev/pandas/issues/41390\",\"repository_url\":\"https://api.github.com/repos/pandas-dev/pandas\",\"labels_url\":\"https://api.github.com/repos/pandas-dev/pandas/issues/41390/labels{/name}\",\"comments_url\":\"https://api.github.com/repos/pandas-dev/pandas/issues/41390/comments\",\"events_url\":\"https://api.github.com/repos/pandas-dev/pandas/issues/41390/events\",\"html_url\":\"https://github.com/pandas-dev/pandas/pull/41390\",\"id\":881695756,\"node_id\":\"MDExOlB1bGxSZXF1ZXN0NjM1Mjc1NDI2\",\"number\":41390,\"title\":\"REF: re-use machinery for DataFrameGroupBy.nunique\",\"user\":{\"login\":\"jbrockmendel\",\"id\":8078968,\"node_id\":\"MDQ6VXNlcjgwNzg5Njg=\",\"avatar_url\":\"https://avatars.githubusercontent.com/u/8078968?v=4\",\"gravatar_id\":\"\",\"url\":\"https://api.github.com/users/jbrockmendel\",\"html_url\":\"https://github.com/jbrockmendel\",\"followers_url\":\"https://api.github.com/users/jbrockmendel/followers\",\"following_url\":\"https://api.github.com/users/jbrockmendel/following{/other_user}\",\"gists_url\":\"https://api.github.com/users/jbrockmendel/gists{/gist_id}\",\"starred_url\":\"https://api.github.com/users/jbrockmendel/starred{/owner}{/repo}\",\"subscriptions_url\":\"https://api.github.com/users/jbrockmendel/subscriptions\",\"organizations_url\":\"https://api.github.com/users/jbrockmendel/orgs\",\"repos_url\":\"https://api.github.com/users/jbrockmendel/repos\",\"events_url\":\"https://api.github.com/users/jbrockmendel/events{/privacy}\",\"received_events_url\":\"https://api.github.com/users/jbrockmendel/received_events\",\"type\":\"User\",\"site_admin\":false},\"labels\":[{\"id\":233160,\"node_id\":\"MDU6TGFiZWwyMzMxNjA=\",\"url\":\"https://api.github.com/repos/pandas-dev/pandas/labels/Groupby\",\"name\":\"Groupby\",\"color\":\"729FCF\",\"default\":false,\"description\":null}],\"state\":\"open\",\"locked\":false,\"assignee\":null,\"assignees\":[],\"milestone\":null,\"comments\":0,\"created_at\":\"2021-05-09T03:28:14Z\",\"updated_at\":\"2021-05-09T16:54:12Z\",\"closed_at\":null,\"author_association\":\"MEMBER\",\"active_lock_reason\":null,\"pull_request\":{\"url\":\"https://api.github.com/repos/pandas-dev/pandas/pulls/41390\",\"html_url\":\"https://github.com/pandas-dev/pandas/pull/41390\",\"diff_url\":\"https://github.com/pandas-dev/pandas/pull/41390.diff\",\"patch_url\":\"https://github.com/pandas-dev/pandas/pull/41390.patch\"},\"body\":\"- [ ] closes #xxxx\\r\\n- [ ] tests added / passed\\r\\n- [ ] Ensure all linting tests pass, see [here](https://pandas.pydata.org/pandas-docs/dev/development/contributing.html#code-standards) for how to run them\\r\\n- [ ] whatsnew entry\\r\\n\",\"performed_via_github_app\":null},{\"url\":\"https://api.github.com/repos/pandas-dev/pandas/issues/41389\",\"repository_url\":\"https://api.github.com/repos/pandas-dev/pandas\",\"labels_url\":\"https://api.github.com/repos/pandas-dev/pandas/issues/41389/labels{/name}\",\"comments_url\":\"https://api.github.com/repos/pandas-dev/pandas/issues/41389/comments\",\"events_url\":\"https://api.github.com/repos/pandas-dev/pandas/issues/41389/events\",\"html_url\":\"https://github.com/pandas-dev/pandas/pull/41389\",\"id\":881547003,\"node_id\":\"MDExOlB1bGxSZXF1ZXN0NjM1MTMyNjg5\",\"number\":41389,\"title\":\"TST: Add regression tests for old issues\",\"user\":{\"login\":\"mroeschke\",\"id\":10647082,\"node_id\":\"MDQ6VXNlcjEwNjQ3MDgy\",\"avatar_url\":\"https://avatars.githubusercontent.com/u/10647082?v=4\",\"gravatar_id\":\"\",\"url\":\"https://api.github.com/users/mroeschke\",\"html_url\":\"https://github.com/mroeschke\",\"followers_url\":\"https://api.github.com/users/mroeschke/followers\",\"following_url\":\"https://api.github.com/users/mroeschke/following{/other_user}\",\"gists_url\":\"https://api.github.com/users/mroeschke/gists{/gist_id}\",\"starred_url\":\"https://api.github.com/users/mroeschke/starred{/owner}{/repo}\",\"subscriptions_url\":\"https://api.github.com/users/mroeschke/subscriptions\",\"organizations_url\":\"https://api.github.com/users/mroeschke/orgs\",\"repos_url\":\"https://api.github.com/users/mroeschke/repos\",\"events_url\":\"https://api.github.com/users/mroeschke/events{/privacy}\",\"received_events_url\":\"https://api.github.com/users/mroeschke/received_events\",\"type\":\"User\",\"site_admin\":false},\"labels\":[{\"id\":127685,\"node_id\":\"MDU6TGFiZWwxMjc2ODU=\",\"url\":\"https://api.github.com/repos/pandas-dev/pandas/labels/Testing\",\"name\":\"Testing\",\"color\":\"C4A000\",\"default\":false,\"description\":\"Custom testing functions or related to the test suite\"}],\"state\":\"open\",\"locked\":false,\"assignee\":null,\"assignees\":[],\"milestone\":{\"url\":\"https://api.github.com/repos/pandas-dev/pandas/milestones/80\",\"html_url\":\"https://github.com/pandas-dev/pandas/milestone/80\",\"labels_url\":\"https://api.github.com/repos/pandas-dev/pandas/milestones/80/labels\",\"id\":6095818,\"node_id\":\"MDk6TWlsZXN0b25lNjA5NTgxOA==\",\"number\":80,\"title\":\"1.3\",\"description\":\"\",\"creator\":{\"login\":\"jreback\",\"id\":953992,\"node_id\":\"MDQ6VXNlcjk1Mzk5Mg==\",\"avatar_url\":\"https://avatars.githubusercontent.com/u/953992?v=4\",\"gravatar_id\":\"\",\"url\":\"https://api.github.com/users/jreback\",\"html_url\":\"https://github.com/jreback\",\"followers_url\":\"https://api.github.com/users/jreback/followers\",\"following_url\":\"https://api.github.com/users/jreback/following{/other_user}\",\"gists_url\":\"https://api.github.com/users/jreback/gists{/gist_id}\",\"starred_url\":\"https://api.github.com/users/jreback/starred{/owner}{/repo}\",\"subscriptions_url\":\"https://api.github.com/users/jreback/subscriptions\",\"organizations_url\":\"https://api.github.com/users/jreback/orgs\",\"repos_url\":\"https://api.github.com/users/jreback/repos\",\"events_url\":\"https://api.github.com/users/jreback/events{/privacy}\",\"received_events_url\":\"https://api.github.com/users/jreback/received_events\",\"type\":\"User\",\"site_admin\":false},\"open_issues\":119,\"closed_issues\":1734,\"state\":\"open\",\"created_at\":\"2020-11-11T19:05:43Z\",\"updated_at\":\"2021-05-09T14:48:14Z\",\"due_on\":\"2021-05-31T07:00:00Z\",\"closed_at\":null},\"comments\":0,\"created_at\":\"2021-05-09T00:57:27Z\",\"updated_at\":\"2021-05-09T17:58:26Z\",\"closed_at\":null,\"author_association\":\"MEMBER\",\"active_lock_reason\":null,\"pull_request\":{\"url\":\"https://api.github.com/repos/pandas-dev/pandas/pulls/41389\",\"html_url\":\"https://github.com/pandas-dev/pandas/pull/41389\",\"diff_url\":\"https://github.com/pandas-dev/pandas/pull/41389.diff\",\"patch_url\":\"https://github.com/pandas-dev/pandas/pull/41389.patch\"},\"body\":\"- [x] closes #7893\\r\\n- [x] closes #8856\\r\\n- [x] closes #9188\\r\\n- [x] closes #9406\\r\\n- [x] closes #9952\\r\\n- [x] closes #10336\\r\\n- [x] closes #10710\\r\\n- [x] closes #11479\\r\\n- [x] tests added / passed\\r\\n- [x] Ensure all linting tests pass, see [here](https://pandas.pydata.org/pandas-docs/dev/development/contributing.html#code-standards) for how to run them\\r\\n\\r\\n\",\"performed_via_github_app\":null},{\"url\":\"https://api.github.com/repos/pandas-dev/pandas/issues/41388\",\"repository_url\":\"https://api.github.com/repos/pandas-dev/pandas\",\"labels_url\":\"https://api.github.com/repos/pandas-dev/pandas/issues/41388/labels{/name}\",\"comments_url\":\"https://api.github.com/repos/pandas-dev/pandas/issues/41388/comments\",\"events_url\":\"https://api.github.com/repos/pandas-dev/pandas/issues/41388/events\",\"html_url\":\"https://github.com/pandas-dev/pandas/issues/41388\",\"id\":881531578,\"node_id\":\"MDU6SXNzdWU4ODE1MzE1Nzg=\",\"number\":41388,\"title\":\"BUG: to_latex(filename) truncates\",\"user\":{\"login\":\"michaelaye\",\"id\":69774,\"node_id\":\"MDQ6VXNlcjY5Nzc0\",\"avatar_url\":\"https://avatars.githubusercontent.com/u/69774?v=4\",\"gravatar_id\":\"\",\"url\":\"https://api.github.com/users/michaelaye\",\"html_url\":\"https://github.com/michaelaye\",\"followers_url\":\"https://api.github.com/users/michaelaye/followers\",\"following_url\":\"https://api.github.com/users/michaelaye/following{/other_user}\",\"gists_url\":\"https://api.github.com/users/michaelaye/gists{/gist_id}\",\"starred_url\":\"https://api.github.com/users/michaelaye/starred{/owner}{/repo}\",\"subscriptions_url\":\"https://api.github.com/users/michaelaye/subscriptions\",\"organizations_url\":\"https://api.github.com/users/michaelaye/orgs\",\"repos_url\":\"https://api.github.com/users/michaelaye/repos\",\"events_url\":\"https://api.github.com/users/michaelaye/events{/privacy}\",\"received_events_url\":\"https://api.github.com/users/michaelaye/received_events\",\"type\":\"User\",\"site_admin\":false},\"labels\":[{\"id\":76811,\"node_id\":\"MDU6TGFiZWw3NjgxMQ==\",\"url\":\"https://api.github.com/repos/pandas-dev/pandas/labels/Bug\",\"name\":\"Bug\",\"color\":\"e10c02\",\"default\":false,\"description\":null},{\"id\":40153326,\"node_id\":\"MDU6TGFiZWw0MDE1MzMyNg==\",\"url\":\"https://api.github.com/repos/pandas-dev/pandas/labels/Duplicate\",\"name\":\"Duplicate\",\"color\":\"009800\",\"default\":false,\"description\":\"Duplicate issue or pull request\"},{\"id\":251382258,\"node_id\":\"MDU6TGFiZWwyNTEzODIyNTg=\",\"url\":\"https://api.github.com/repos/pandas-dev/pandas/labels/IO%20LaTeX\",\"name\":\"IO LaTeX\",\"color\":\"006b75\",\"default\":false,\"description\":\"Latex: to_latex\"}],\"state\":\"open\",\"locked\":false,\"assignee\":null,\"assignees\":[],\"milestone\":null,\"comments\":2,\"created_at\":\"2021-05-09T00:41:45Z\",\"updated_at\":\"2021-05-09T06:42:42Z\",\"closed_at\":null,\"author_association\":\"CONTRIBUTOR\",\"active_lock_reason\":null,\"body\":\"- [x] I have checked that this issue has not already been reported.\\r\\n\\r\\n- [x] I have confirmed this bug exists on the latest version of pandas.\\r\\n\\r\\n- [ ] (optional) I have confirmed this bug exists on the master branch of pandas.\\r\\n\\r\\n---\\r\\n\\r\\n#### Code Sample, a copy-pastable example\\r\\n\\r\\n```python\\r\\n# Your code here\\r\\nimport pandas as pd\\r\\ndf = pd.DataFrame(\\r\\n    {\\r\\n        \\\"Node\\\": [\\\"Atmosphere\\\"],\\r\\n        \\\"Description\\\": [\\r\\n            \\\"The Planetary Atmospheres Node (ATM) is responsible for the acquisition, preservation, and distribution of all non-imaging atmospheric data from NASA's planetary missions, including higher-order products derived from those data. In addition to providing user consultation, the node makes available a number of tools and services supporting researchers.\\\"\\r\\n        ],\\r\\n    }\\r\\n)\\r\\ndf.to_latex('table.tex')\\r\\n```\\r\\noutput created:\\r\\n```bash\\r\\n$ cat table.tex                                                                              (py39)\\r\\n\\\\begin{tabular}{lll}\\r\\n\\\\toprule\\r\\n{} &        Node &                                                                                          Description \\\\\\\\\\r\\n\\\\midrule\\r\\n0 &  Atmosphere &  The Planetary Atmospheres Node (ATM) is responsible for the acquisition, preservation, and distr... \\\\\\\\\\r\\n\\\\bottomrule\\r\\n\\\\end{tabular}\\r\\n```\\r\\n\\r\\n#### Problem description\\r\\n\\r\\nAccording to what I have read in previous issues about `to_latex()`, it should not truncate by default for the file output (and it would be a bad API if it would).\\r\\n\\r\\n#### Expected Output\\r\\n\\r\\nA complete table in the output tex file.\\r\\n\\r\\n#### Output of ``pd.show_versions()``\\r\\n\\r\\n<details>\\r\\n\\r\\nINSTALLED VERSIONS\\r\\n------------------\\r\\ncommit           : 2cb96529396d93b46abab7bbc73a208e708c642e\\r\\npython           : 3.8.8.final.0\\r\\npython-bits      : 64\\r\\nOS               : Darwin\\r\\nOS-release       : 19.6.0\\r\\nVersion          : Darwin Kernel Version 19.6.0: Tue Jan 12 22:13:05 PST 2021; root:xnu-6153.141.16~1/RELEASE_X86_64\\r\\nmachine          : x86_64\\r\\nprocessor        : i386\\r\\nbyteorder        : little\\r\\nLC_ALL           : None\\r\\nLANG             : en_US.UTF-8\\r\\nLOCALE           : en_US.UTF-8\\r\\n\\r\\npandas           : 1.2.4\\r\\nnumpy            : 1.20.2\\r\\npytz             : 2021.1\\r\\ndateutil         : 2.8.1\\r\\npip              : 21.1.1\\r\\nsetuptools       : 49.6.0.post20210108\\r\\nCython           : 0.29.23\\r\\npytest           : 6.2.4\\r\\nhypothesis       : None\\r\\nsphinx           : 3.5.4\\r\\nblosc            : None\\r\\nfeather          : None\\r\\nxlsxwriter       : 1.4.2\\r\\nlxml.etree       : 4.6.3\\r\\nhtml5lib         : None\\r\\npymysql          : None\\r\\npsycopg2         : None\\r\\njinja2           : 2.11.3\\r\\nIPython          : 7.23.1\\r\\npandas_datareader: None\\r\\nbs4              : None\\r\\nbottleneck       : None\\r\\nfsspec           : 2021.04.0\\r\\nfastparquet      : None\\r\\ngcsfs            : None\\r\\nmatplotlib       : 3.4.2\\r\\nnumexpr          : 2.7.3\\r\\nodfpy            : None\\r\\nopenpyxl         : 3.0.7\\r\\npandas_gbq       : None\\r\\npyarrow          : 4.0.0\\r\\npyxlsb           : None\\r\\ns3fs             : None\\r\\nscipy            : 1.6.3\\r\\nsqlalchemy       : None\\r\\ntables           : 3.6.1\\r\\ntabulate         : None\\r\\nxarray           : 0.18.0\\r\\nxlrd             : 2.0.1\\r\\nxlwt             : 1.3.0\\r\\nnumba            : 0.53.1\\r\\n\\r\\n</details>\\r\\n\",\"performed_via_github_app\":null},{\"url\":\"https://api.github.com/repos/pandas-dev/pandas/issues/41387\",\"repository_url\":\"https://api.github.com/repos/pandas-dev/pandas\",\"labels_url\":\"https://api.github.com/repos/pandas-dev/pandas/issues/41387/labels{/name}\",\"comments_url\":\"https://api.github.com/repos/pandas-dev/pandas/issues/41387/comments\",\"events_url\":\"https://api.github.com/repos/pandas-dev/pandas/issues/41387/events\",\"html_url\":\"https://github.com/pandas-dev/pandas/pull/41387\",\"id\":881405470,\"node_id\":\"MDExOlB1bGxSZXF1ZXN0NjM0OTk3MTEw\",\"number\":41387,\"title\":\"TST: fix groupby xfails\",\"user\":{\"login\":\"jbrockmendel\",\"id\":8078968,\"node_id\":\"MDQ6VXNlcjgwNzg5Njg=\",\"avatar_url\":\"https://avatars.githubusercontent.com/u/8078968?v=4\",\"gravatar_id\":\"\",\"url\":\"https://api.github.com/users/jbrockmendel\",\"html_url\":\"https://github.com/jbrockmendel\",\"followers_url\":\"https://api.github.com/users/jbrockmendel/followers\",\"following_url\":\"https://api.github.com/users/jbrockmendel/following{/other_user}\",\"gists_url\":\"https://api.github.com/users/jbrockmendel/gists{/gist_id}\",\"starred_url\":\"https://api.github.com/users/jbrockmendel/starred{/owner}{/repo}\",\"subscriptions_url\":\"https://api.github.com/users/jbrockmendel/subscriptions\",\"organizations_url\":\"https://api.github.com/users/jbrockmendel/orgs\",\"repos_url\":\"https://api.github.com/users/jbrockmendel/repos\",\"events_url\":\"https://api.github.com/users/jbrockmendel/events{/privacy}\",\"received_events_url\":\"https://api.github.com/users/jbrockmendel/received_events\",\"type\":\"User\",\"site_admin\":false},\"labels\":[{\"id\":233160,\"node_id\":\"MDU6TGFiZWwyMzMxNjA=\",\"url\":\"https://api.github.com/repos/pandas-dev/pandas/labels/Groupby\",\"name\":\"Groupby\",\"color\":\"729FCF\",\"default\":false,\"description\":null},{\"id\":127685,\"node_id\":\"MDU6TGFiZWwxMjc2ODU=\",\"url\":\"https://api.github.com/repos/pandas-dev/pandas/labels/Testing\",\"name\":\"Testing\",\"color\":\"C4A000\",\"default\":false,\"description\":\"Custom testing functions or related to the test suite\"}],\"state\":\"open\",\"locked\":false,\"assignee\":null,\"assignees\":[],\"milestone\":{\"url\":\"https://api.github.com/repos/pandas-dev/pandas/milestones/80\",\"html_url\":\"https://github.com/pandas-dev/pandas/milestone/80\",\"labels_url\":\"https://api.github.com/repos/pandas-dev/pandas/milestones/80/labels\",\"id\":6095818,\"node_id\":\"MDk6TWlsZXN0b25lNjA5NTgxOA==\",\"number\":80,\"title\":\"1.3\",\"description\":\"\",\"creator\":{\"login\":\"jreback\",\"id\":953992,\"node_id\":\"MDQ6VXNlcjk1Mzk5Mg==\",\"avatar_url\":\"https://avatars.githubusercontent.com/u/953992?v=4\",\"gravatar_id\":\"\",\"url\":\"https://api.github.com/users/jreback\",\"html_url\":\"https://github.com/jreback\",\"followers_url\":\"https://api.github.com/users/jreback/followers\",\"following_url\":\"https://api.github.com/users/jreback/following{/other_user}\",\"gists_url\":\"https://api.github.com/users/jreback/gists{/gist_id}\",\"starred_url\":\"https://api.github.com/users/jreback/starred{/owner}{/repo}\",\"subscriptions_url\":\"https://api.github.com/users/jreback/subscriptions\",\"organizations_url\":\"https://api.github.com/users/jreback/orgs\",\"repos_url\":\"https://api.github.com/users/jreback/repos\",\"events_url\":\"https://api.github.com/users/jreback/events{/privacy}\",\"received_events_url\":\"https://api.github.com/users/jreback/received_events\",\"type\":\"User\",\"site_admin\":false},\"open_issues\":119,\"closed_issues\":1734,\"state\":\"open\",\"created_at\":\"2020-11-11T19:05:43Z\",\"updated_at\":\"2021-05-09T14:48:14Z\",\"due_on\":\"2021-05-31T07:00:00Z\",\"closed_at\":null},\"comments\":0,\"created_at\":\"2021-05-08T22:35:25Z\",\"updated_at\":\"2021-05-09T02:10:27Z\",\"closed_at\":null,\"author_association\":\"MEMBER\",\"active_lock_reason\":null,\"pull_request\":{\"url\":\"https://api.github.com/repos/pandas-dev/pandas/pulls/41387\",\"html_url\":\"https://github.com/pandas-dev/pandas/pull/41387\",\"diff_url\":\"https://github.com/pandas-dev/pandas/pull/41387.diff\",\"patch_url\":\"https://github.com/pandas-dev/pandas/pull/41387.patch\"},\"body\":\"\",\"performed_via_github_app\":null},{\"url\":\"https://api.github.com/repos/pandas-dev/pandas/issues/41386\",\"repository_url\":\"https://api.github.com/repos/pandas-dev/pandas\",\"labels_url\":\"https://api.github.com/repos/pandas-dev/pandas/issues/41386/labels{/name}\",\"comments_url\":\"https://api.github.com/repos/pandas-dev/pandas/issues/41386/comments\",\"events_url\":\"https://api.github.com/repos/pandas-dev/pandas/issues/41386/events\",\"html_url\":\"https://github.com/pandas-dev/pandas/pull/41386\",\"id\":881168203,\"node_id\":\"MDExOlB1bGxSZXF1ZXN0NjM0NzczMDA0\",\"number\":41386,\"title\":\"ENH: IO support for R data files with C extension\",\"user\":{\"login\":\"ParfaitG\",\"id\":13602663,\"node_id\":\"MDQ6VXNlcjEzNjAyNjYz\",\"avatar_url\":\"https://avatars.githubusercontent.com/u/13602663?v=4\",\"gravatar_id\":\"\",\"url\":\"https://api.github.com/users/ParfaitG\",\"html_url\":\"https://github.com/ParfaitG\",\"followers_url\":\"https://api.github.com/users/ParfaitG/followers\",\"following_url\":\"https://api.github.com/users/ParfaitG/following{/other_user}\",\"gists_url\":\"https://api.github.com/users/ParfaitG/gists{/gist_id}\",\"starred_url\":\"https://api.github.com/users/ParfaitG/starred{/owner}{/repo}\",\"subscriptions_url\":\"https://api.github.com/users/ParfaitG/subscriptions\",\"organizations_url\":\"https://api.github.com/users/ParfaitG/orgs\",\"repos_url\":\"https://api.github.com/users/ParfaitG/repos\",\"events_url\":\"https://api.github.com/users/ParfaitG/events{/privacy}\",\"received_events_url\":\"https://api.github.com/users/ParfaitG/received_events\",\"type\":\"User\",\"site_admin\":false},\"labels\":[],\"state\":\"open\",\"locked\":false,\"assignee\":null,\"assignees\":[],\"milestone\":null,\"comments\":0,\"created_at\":\"2021-05-08T18:46:09Z\",\"updated_at\":\"2021-05-10T03:42:01Z\",\"closed_at\":null,\"author_association\":\"CONTRIBUTOR\",\"active_lock_reason\":null,\"pull_request\":{\"url\":\"https://api.github.com/repos/pandas-dev/pandas/pulls/41386\",\"html_url\":\"https://github.com/pandas-dev/pandas/pull/41386\",\"diff_url\":\"https://github.com/pandas-dev/pandas/pull/41386.diff\",\"patch_url\":\"https://github.com/pandas-dev/pandas/pull/41386.patch\"},\"body\":\"- [X] follows up on #40884\\r\\n- [X] tests added / passed\\r\\n- [X] Ensure all linting tests pass, see [here](https://pandas.pydata.org/pandas-docs/dev/development/contributing.html#code-standards) for how to run them\\r\\n- [X] whatsnew entry\\r\\n- [X] user_guide/io entry\\r\\n\\r\\n\\r\\n---\\r\\n\\r\\nNote: this proposed RData I/O module interfaces to the C library: [librdata](https://github.com/WizardMac/librdata). Additionally, since `iconv` is not supported on Windows, two files (.h and .c script) were added from the repo, [win-iconv](https://github.com/win-iconv/win-iconv), where its readme indicates code is placed in the public domain .\",\"performed_via_github_app\":null},{\"url\":\"https://api.github.com/repos/pandas-dev/pandas/issues/41385\",\"repository_url\":\"https://api.github.com/repos/pandas-dev/pandas\",\"labels_url\":\"https://api.github.com/repos/pandas-dev/pandas/issues/41385/labels{/name}\",\"comments_url\":\"https://api.github.com/repos/pandas-dev/pandas/issues/41385/comments\",\"events_url\":\"https://api.github.com/repos/pandas-dev/pandas/issues/41385/events\",\"html_url\":\"https://github.com/pandas-dev/pandas/issues/41385\",\"id\":881166560,\"node_id\":\"MDU6SXNzdWU4ODExNjY1NjA=\",\"number\":41385,\"title\":\"ENH:\",\"user\":{\"login\":\"glorencini\",\"id\":64970531,\"node_id\":\"MDQ6VXNlcjY0OTcwNTMx\",\"avatar_url\":\"https://avatars.githubusercontent.com/u/64970531?v=4\",\"gravatar_id\":\"\",\"url\":\"https://api.github.com/users/glorencini\",\"html_url\":\"https://github.com/glorencini\",\"followers_url\":\"https://api.github.com/users/glorencini/followers\",\"following_url\":\"https://api.github.com/users/glorencini/following{/other_user}\",\"gists_url\":\"https://api.github.com/users/glorencini/gists{/gist_id}\",\"starred_url\":\"https://api.github.com/users/glorencini/starred{/owner}{/repo}\",\"subscriptions_url\":\"https://api.github.com/users/glorencini/subscriptions\",\"organizations_url\":\"https://api.github.com/users/glorencini/orgs\",\"repos_url\":\"https://api.github.com/users/glorencini/repos\",\"events_url\":\"https://api.github.com/users/glorencini/events{/privacy}\",\"received_events_url\":\"https://api.github.com/users/glorencini/received_events\",\"type\":\"User\",\"site_admin\":false},\"labels\":[{\"id\":76812,\"node_id\":\"MDU6TGFiZWw3NjgxMg==\",\"url\":\"https://api.github.com/repos/pandas-dev/pandas/labels/Enhancement\",\"name\":\"Enhancement\",\"color\":\"4E9A06\",\"default\":false,\"description\":null},{\"id\":1954720290,\"node_id\":\"MDU6TGFiZWwxOTU0NzIwMjkw\",\"url\":\"https://api.github.com/repos/pandas-dev/pandas/labels/Needs%20Triage\",\"name\":\"Needs Triage\",\"color\":\"0052cc\",\"default\":false,\"description\":\"Issue that has not been reviewed by a pandas team member\"}],\"state\":\"open\",\"locked\":false,\"assignee\":null,\"assignees\":[],\"milestone\":null,\"comments\":2,\"created_at\":\"2021-05-08T18:44:34Z\",\"updated_at\":\"2021-05-09T12:22:04Z\",\"closed_at\":null,\"author_association\":\"NONE\",\"active_lock_reason\":null,\"body\":\"#### Is your feature request related to a problem?\\r\\n\\r\\nNo\\r\\n\\r\\n#### Describe the solution you'd like\\r\\n\\r\\nI would like a built-in shift function that shifts each row by a different period, given by a Series.\\r\\n\\r\\n#### API breaking implications\\r\\n\\r\\nIt would improve the shift possibilities.\\r\\n\\r\\n#### Describe alternatives you've considered\\r\\n\\r\\nUsing shift with apply and lambda.\\r\\n\\r\\n#### Additional context\\r\\n\\r\\n[add any other context, code examples, or references to existing implementations about the feature request here]\\r\\n\\r\\n```python\\r\\n\\r\\ndef shift_df_by_series(self, df=pd.DataFrame, s=pd.Series) -> pd.DataFrame:\\r\\n    return df.apply(lambda shifted_df: shifted_df.shift(periods=s[shifted_df.name], fill_value=0), axis='columns')\\r\\n\\r\\n```\\r\\n\",\"performed_via_github_app\":null},{\"url\":\"https://api.github.com/repos/pandas-dev/pandas/issues/41384\",\"repository_url\":\"https://api.github.com/repos/pandas-dev/pandas\",\"labels_url\":\"https://api.github.com/repos/pandas-dev/pandas/issues/41384/labels{/name}\",\"comments_url\":\"https://api.github.com/repos/pandas-dev/pandas/issues/41384/comments\",\"events_url\":\"https://api.github.com/repos/pandas-dev/pandas/issues/41384/events\",\"html_url\":\"https://github.com/pandas-dev/pandas/pull/41384\",\"id\":881158763,\"node_id\":\"MDExOlB1bGxSZXF1ZXN0NjM0NzY0MTg0\",\"number\":41384,\"title\":\"TYP: SelectionMixin\",\"user\":{\"login\":\"jbrockmendel\",\"id\":8078968,\"node_id\":\"MDQ6VXNlcjgwNzg5Njg=\",\"avatar_url\":\"https://avatars.githubusercontent.com/u/8078968?v=4\",\"gravatar_id\":\"\",\"url\":\"https://api.github.com/users/jbrockmendel\",\"html_url\":\"https://github.com/jbrockmendel\",\"followers_url\":\"https://api.github.com/users/jbrockmendel/followers\",\"following_url\":\"https://api.github.com/users/jbrockmendel/following{/other_user}\",\"gists_url\":\"https://api.github.com/users/jbrockmendel/gists{/gist_id}\",\"starred_url\":\"https://api.github.com/users/jbrockmendel/starred{/owner}{/repo}\",\"subscriptions_url\":\"https://api.github.com/users/jbrockmendel/subscriptions\",\"organizations_url\":\"https://api.github.com/users/jbrockmendel/orgs\",\"repos_url\":\"https://api.github.com/users/jbrockmendel/repos\",\"events_url\":\"https://api.github.com/users/jbrockmendel/events{/privacy}\",\"received_events_url\":\"https://api.github.com/users/jbrockmendel/received_events\",\"type\":\"User\",\"site_admin\":false},\"labels\":[{\"id\":1280988427,\"node_id\":\"MDU6TGFiZWwxMjgwOTg4NDI3\",\"url\":\"https://api.github.com/repos/pandas-dev/pandas/labels/Typing\",\"name\":\"Typing\",\"color\":\"ea91a4\",\"default\":false,\"description\":\"mypy type annotations\"}],\"state\":\"open\",\"locked\":false,\"assignee\":null,\"assignees\":[],\"milestone\":{\"url\":\"https://api.github.com/repos/pandas-dev/pandas/milestones/80\",\"html_url\":\"https://github.com/pandas-dev/pandas/milestone/80\",\"labels_url\":\"https://api.github.com/repos/pandas-dev/pandas/milestones/80/labels\",\"id\":6095818,\"node_id\":\"MDk6TWlsZXN0b25lNjA5NTgxOA==\",\"number\":80,\"title\":\"1.3\",\"description\":\"\",\"creator\":{\"login\":\"jreback\",\"id\":953992,\"node_id\":\"MDQ6VXNlcjk1Mzk5Mg==\",\"avatar_url\":\"https://avatars.githubusercontent.com/u/953992?v=4\",\"gravatar_id\":\"\",\"url\":\"https://api.github.com/users/jreback\",\"html_url\":\"https://github.com/jreback\",\"followers_url\":\"https://api.github.com/users/jreback/followers\",\"following_url\":\"https://api.github.com/users/jreback/following{/other_user}\",\"gists_url\":\"https://api.github.com/users/jreback/gists{/gist_id}\",\"starred_url\":\"https://api.github.com/users/jreback/starred{/owner}{/repo}\",\"subscriptions_url\":\"https://api.github.com/users/jreback/subscriptions\",\"organizations_url\":\"https://api.github.com/users/jreback/orgs\",\"repos_url\":\"https://api.github.com/users/jreback/repos\",\"events_url\":\"https://api.github.com/users/jreback/events{/privacy}\",\"received_events_url\":\"https://api.github.com/users/jreback/received_events\",\"type\":\"User\",\"site_admin\":false},\"open_issues\":119,\"closed_issues\":1734,\"state\":\"open\",\"created_at\":\"2020-11-11T19:05:43Z\",\"updated_at\":\"2021-05-09T14:48:14Z\",\"due_on\":\"2021-05-31T07:00:00Z\",\"closed_at\":null},\"comments\":2,\"created_at\":\"2021-05-08T18:37:08Z\",\"updated_at\":\"2021-05-09T09:22:37Z\",\"closed_at\":null,\"author_association\":\"MEMBER\",\"active_lock_reason\":null,\"pull_request\":{\"url\":\"https://api.github.com/repos/pandas-dev/pandas/pulls/41384\",\"html_url\":\"https://github.com/pandas-dev/pandas/pull/41384\",\"diff_url\":\"https://github.com/pandas-dev/pandas/pull/41384.diff\",\"patch_url\":\"https://github.com/pandas-dev/pandas/pull/41384.patch\"},\"body\":\"- [ ] closes #xxxx\\r\\n- [ ] tests added / passed\\r\\n- [ ] Ensure all linting tests pass, see [here](https://pandas.pydata.org/pandas-docs/dev/development/contributing.html#code-standards) for how to run them\\r\\n- [ ] whatsnew entry\\r\\n\\r\\n@simonjayhawkins thoughts on the FrameOrSeries vs FrameOrSeriesUnion that ive ignored here?\",\"performed_via_github_app\":null},{\"url\":\"https://api.github.com/repos/pandas-dev/pandas/issues/41383\",\"repository_url\":\"https://api.github.com/repos/pandas-dev/pandas\",\"labels_url\":\"https://api.github.com/repos/pandas-dev/pandas/issues/41383/labels{/name}\",\"comments_url\":\"https://api.github.com/repos/pandas-dev/pandas/issues/41383/comments\",\"events_url\":\"https://api.github.com/repos/pandas-dev/pandas/issues/41383/events\",\"html_url\":\"https://github.com/pandas-dev/pandas/issues/41383\",\"id\":881006670,\"node_id\":\"MDU6SXNzdWU4ODEwMDY2NzA=\",\"number\":41383,\"title\":\"QST: build offline?\",\"user\":{\"login\":\"themaddoctor\",\"id\":6364418,\"node_id\":\"MDQ6VXNlcjYzNjQ0MTg=\",\"avatar_url\":\"https://avatars.githubusercontent.com/u/6364418?v=4\",\"gravatar_id\":\"\",\"url\":\"https://api.github.com/users/themaddoctor\",\"html_url\":\"https://github.com/themaddoctor\",\"followers_url\":\"https://api.github.com/users/themaddoctor/followers\",\"following_url\":\"https://api.github.com/users/themaddoctor/following{/other_user}\",\"gists_url\":\"https://api.github.com/users/themaddoctor/gists{/gist_id}\",\"starred_url\":\"https://api.github.com/users/themaddoctor/starred{/owner}{/repo}\",\"subscriptions_url\":\"https://api.github.com/users/themaddoctor/subscriptions\",\"organizations_url\":\"https://api.github.com/users/themaddoctor/orgs\",\"repos_url\":\"https://api.github.com/users/themaddoctor/repos\",\"events_url\":\"https://api.github.com/users/themaddoctor/events{/privacy}\",\"received_events_url\":\"https://api.github.com/users/themaddoctor/received_events\",\"type\":\"User\",\"site_admin\":false},\"labels\":[{\"id\":1954720290,\"node_id\":\"MDU6TGFiZWwxOTU0NzIwMjkw\",\"url\":\"https://api.github.com/repos/pandas-dev/pandas/labels/Needs%20Triage\",\"name\":\"Needs Triage\",\"color\":\"0052cc\",\"default\":false,\"description\":\"Issue that has not been reviewed by a pandas team member\"},{\"id\":34444536,\"node_id\":\"MDU6TGFiZWwzNDQ0NDUzNg==\",\"url\":\"https://api.github.com/repos/pandas-dev/pandas/labels/Usage%20Question\",\"name\":\"Usage Question\",\"color\":\"0052cc\",\"default\":false,\"description\":null}],\"state\":\"open\",\"locked\":false,\"assignee\":null,\"assignees\":[],\"milestone\":null,\"comments\":0,\"created_at\":\"2021-05-08T16:15:30Z\",\"updated_at\":\"2021-05-08T16:15:30Z\",\"closed_at\":null,\"author_association\":\"NONE\",\"active_lock_reason\":null,\"body\":\"- [x ] I have searched the [[pandas] tag](https://stackoverflow.com/questions/tagged/pandas) on StackOverflow for similar questions.\\r\\n\\r\\n- [ n/a] I have asked my usage related question on [StackOverflow](https://stackoverflow.com).\\r\\n\\r\\n---\\r\\n\\r\\n#### Question about pandas\\r\\n\\r\\n**Note**: If you'd still like to submit a question, please read [this guide](\\r\\nhttps://matthewrocklin.com/blog/work/2018/02/28/minimal-bug-reports) detailing how to provide the necessary information for us to reproduce your question.\\r\\n\\r\\n```python\\r\\n# Your code here, if applicable\\r\\n\\r\\n[40/40] Cythonizing pandas/io/sas/sas.pyx\\r\\nTraceback (most recent call last):\\r\\n  File \\\"/usr/lib/python3.7/urllib/request.py\\\", line 1317, in do_open\\r\\n    encode_chunked=req.has_header('Transfer-encoding'))\\r\\n  File \\\"/usr/lib/python3.7/http/client.py\\\", line 1229, in request\\r\\n    self._send_request(method, url, body, headers, encode_chunked)\\r\\n  File \\\"/usr/lib/python3.7/http/client.py\\\", line 1275, in _send_request\\r\\n    self.endheaders(body, encode_chunked=encode_chunked)\\r\\n  File \\\"/usr/lib/python3.7/http/client.py\\\", line 1224, in endheaders\\r\\n    self._send_output(message_body, encode_chunked=encode_chunked)\\r\\n  File \\\"/usr/lib/python3.7/http/client.py\\\", line 1016, in _send_output\\r\\n    self.send(msg)\\r\\n  File \\\"/usr/lib/python3.7/http/client.py\\\", line 956, in send\\r\\n    self.connect()\\r\\n  File \\\"/usr/lib/python3.7/site-packages/setuptools/ssl_support.py\\\", line 174, in connect\\r\\n    (self.host, self.port), getattr(self, 'source_address', None)\\r\\n  File \\\"/usr/lib/python3.7/socket.py\\\", line 707, in create_connection\\r\\n    for res in getaddrinfo(host, port, 0, SOCK_STREAM):\\r\\n  File \\\"/usr/lib/python3.7/socket.py\\\", line 748, in getaddrinfo\\r\\n    for res in _socket.getaddrinfo(host, port, family, type, proto, flags):\\r\\nsocket.gaierror: [Errno -2] Name or service not known\\r\\n\\r\\nDuring handling of the above exception, another exception occurred:\\r\\n\\r\\nTraceback (most recent call last):\\r\\n  File \\\"/usr/lib/python3.7/site-packages/setuptools/package_index.py\\\", line 764, in open_url\\r\\n    return open_with_auth(url, self.opener)\\r\\n  File \\\"/usr/lib/python3.7/site-packages/setuptools/package_index.py\\\", line 951, in _socket_timeout\\r\\n    return func(*args, **kwargs)\\r\\n  File \\\"/usr/lib/python3.7/site-packages/setuptools/package_index.py\\\", line 1070, in open_with_auth\\r\\n    fp = opener(request)\\r\\n  File \\\"/usr/lib/python3.7/urllib/request.py\\\", line 525, in open\\r\\n    response = self._open(req, data)\\r\\n  File \\\"/usr/lib/python3.7/urllib/request.py\\\", line 543, in _open\\r\\n    '_open', req)\\r\\n  File \\\"/usr/lib/python3.7/urllib/request.py\\\", line 503, in _call_chain\\r\\n    result = func(*args)\\r\\n  File \\\"/usr/lib/python3.7/site-packages/setuptools/ssl_support.py\\\", line 161, in https_open\\r\\n    lambda host, **kw: VerifyingHTTPSConn(host, self.ca_bundle, **kw), req\\r\\n  File \\\"/usr/lib/python3.7/urllib/request.py\\\", line 1319, in do_open\\r\\n    raise URLError(err)\\r\\nurllib.error.URLError: <urlopen error [Errno -2] Name or service not known>\\r\\n\\r\\nDuring handling of the above exception, another exception occurred:\\r\\n\\r\\nTraceback (most recent call last):\\r\\n  File \\\"setup.py\\\", line 761, in <module>\\r\\n    setup_package()\\r\\n  File \\\"setup.py\\\", line 754, in setup_package\\r\\n    **setuptools_kwargs,\\r\\n  File \\\"/usr/lib/python3.7/site-packages/setuptools/__init__.py\\\", line 128, in setup\\r\\n    _install_setup_requires(attrs)\\r\\n  File \\\"/usr/lib/python3.7/site-packages/setuptools/__init__.py\\\", line 123, in _install_setup_requires\\r\\n    dist.fetch_build_eggs(dist.setup_requires)\\r\\n  File \\\"/usr/lib/python3.7/site-packages/setuptools/dist.py\\\", line 513, in fetch_build_eggs\\r\\n    replace_conflicting=True,\\r\\n  File \\\"/usr/lib/python3.7/site-packages/pkg_resources/__init__.py\\\", line 774, in resolve\\r\\n    replace_conflicting=replace_conflicting\\r\\n  File \\\"/usr/lib/python3.7/site-packages/pkg_resources/__init__.py\\\", line 1057, in best_match\\r\\n    return self.obtain(req, installer)\\r\\n  File \\\"/usr/lib/python3.7/site-packages/pkg_resources/__init__.py\\\", line 1069, in obtain\\r\\n    return installer(requirement)\\r\\n  File \\\"/usr/lib/python3.7/site-packages/setuptools/dist.py\\\", line 580, in fetch_build_egg\\r\\n    return cmd.easy_install(req)\\r\\n  File \\\"/usr/lib/python3.7/site-packages/setuptools/command/easy_install.py\\\", line 661, in easy_install\\r\\n    not self.always_copy, self.local_index\\r\\n  File \\\"/usr/lib/python3.7/site-packages/setuptools/package_index.py\\\", line 653, in fetch_distribution\\r\\n    dist = find(requirement)\\r\\n  File \\\"/usr/lib/python3.7/site-packages/setuptools/package_index.py\\\", line 633, in find\\r\\n    loc = self.download(dist.location, tmpdir)\\r\\n  File \\\"/usr/lib/python3.7/site-packages/setuptools/package_index.py\\\", line 577, in download\\r\\n    found = self._download_url(scheme.group(1), spec, tmpdir)\\r\\n  File \\\"/usr/lib/python3.7/site-packages/setuptools/package_index.py\\\", line 822, in _download_url\\r\\n    return self._attempt_download(url, filename)\\r\\n  File \\\"/usr/lib/python3.7/site-packages/setuptools/package_index.py\\\", line 828, in _attempt_download\\r\\n    headers = self._download_to(url, filename)\\r\\n  File \\\"/usr/lib/python3.7/site-packages/setuptools/package_index.py\\\", line 727, in _download_to\\r\\n    fp = self.open_url(url)\\r\\n  File \\\"/usr/lib/python3.7/site-packages/setuptools/package_index.py\\\", line 778, in open_url\\r\\n    % (url, v.reason))\\r\\ndistutils.errors.DistutilsError: Download error for https://files.pythonhosted.org/packages/a9/03/5b216f6a55ffc6bdac3ad3a896c58d4f17d99e18ff82fc68363df7d6a7b3/numpy-1.20.2-cp37-cp37m-manylinux1_x86_64.whl#sha256=9cab23439eb1ebfed1aaec9cd42b7dc50fc96d5cd3147da348d9161f0501ada5: [Errno -2] Name or service not known\\r\\n\\r\\n```\\r\\nI am building on a machine that CANNOT access the internet. I already have numpy etc., yet setup.py will not\\r\\nallow me to build pandas.\\r\\n\\r\\nQ: how to build offline?\\r\\n\",\"performed_via_github_app\":null},{\"url\":\"https://api.github.com/repos/pandas-dev/pandas/issues/41382\",\"repository_url\":\"https://api.github.com/repos/pandas-dev/pandas\",\"labels_url\":\"https://api.github.com/repos/pandas-dev/pandas/issues/41382/labels{/name}\",\"comments_url\":\"https://api.github.com/repos/pandas-dev/pandas/issues/41382/comments\",\"events_url\":\"https://api.github.com/repos/pandas-dev/pandas/issues/41382/events\",\"html_url\":\"https://github.com/pandas-dev/pandas/issues/41382\",\"id\":880989144,\"node_id\":\"MDU6SXNzdWU4ODA5ODkxNDQ=\",\"number\":41382,\"title\":\"BUG: DatetimeIndex gets converted to Index when operating on transpose of empty Dataframe\",\"user\":{\"login\":\"vishwa-raj\",\"id\":22815753,\"node_id\":\"MDQ6VXNlcjIyODE1NzUz\",\"avatar_url\":\"https://avatars.githubusercontent.com/u/22815753?v=4\",\"gravatar_id\":\"\",\"url\":\"https://api.github.com/users/vishwa-raj\",\"html_url\":\"https://github.com/vishwa-raj\",\"followers_url\":\"https://api.github.com/users/vishwa-raj/followers\",\"following_url\":\"https://api.github.com/users/vishwa-raj/following{/other_user}\",\"gists_url\":\"https://api.github.com/users/vishwa-raj/gists{/gist_id}\",\"starred_url\":\"https://api.github.com/users/vishwa-raj/starred{/owner}{/repo}\",\"subscriptions_url\":\"https://api.github.com/users/vishwa-raj/subscriptions\",\"organizations_url\":\"https://api.github.com/users/vishwa-raj/orgs\",\"repos_url\":\"https://api.github.com/users/vishwa-raj/repos\",\"events_url\":\"https://api.github.com/users/vishwa-raj/events{/privacy}\",\"received_events_url\":\"https://api.github.com/users/vishwa-raj/received_events\",\"type\":\"User\",\"site_admin\":false},\"labels\":[{\"id\":986278782,\"node_id\":\"MDU6TGFiZWw5ODYyNzg3ODI=\",\"url\":\"https://api.github.com/repos/pandas-dev/pandas/labels/Needs%20Tests\",\"name\":\"Needs Tests\",\"color\":\"cdea3c\",\"default\":false,\"description\":\"Unit test(s) needed to prevent regressions\"},{\"id\":211840,\"node_id\":\"MDU6TGFiZWwyMTE4NDA=\",\"url\":\"https://api.github.com/repos/pandas-dev/pandas/labels/Timeseries\",\"name\":\"Timeseries\",\"color\":\"AFEEEE\",\"default\":false,\"description\":null},{\"id\":717120670,\"node_id\":\"MDU6TGFiZWw3MTcxMjA2NzA=\",\"url\":\"https://api.github.com/repos/pandas-dev/pandas/labels/good%20first%20issue\",\"name\":\"good first issue\",\"color\":\"0e8a16\",\"default\":true,\"description\":null}],\"state\":\"open\",\"locked\":false,\"assignee\":null,\"assignees\":[],\"milestone\":null,\"comments\":3,\"created_at\":\"2021-05-08T15:59:21Z\",\"updated_at\":\"2021-05-08T16:40:16Z\",\"closed_at\":null,\"author_association\":\"NONE\",\"active_lock_reason\":null,\"body\":\"- [x] I have checked that this issue has not already been reported.\\r\\n\\r\\n- [x] I have confirmed this bug exists on the latest version of pandas.\\r\\n\\r\\n- [ ] (optional) I have confirmed this bug exists on the master branch of pandas.\\r\\n\\r\\n---\\r\\n\\r\\n```python\\r\\n\\r\\n#------ pandas 1.2.* ------\\r\\n\\r\\nimport pandas as pd\\r\\ndf = pd.DataFrame(index = pd.DatetimeIndex([]))\\r\\n\\r\\nprint(df.T.sum().index) # output: Index([], dtype='object')\\r\\nprint(df.sum(axis = 1).index) # output: DatetimeIndex([], dtype='datetime64[ns]', freq=None)\\r\\n\\r\\n```\\r\\n\\r\\n#### Problem description\\r\\nIn pandas versions >= 1.2, if we take the sum of the transpose of an empty DataFrame with DatetimeIndex, it results in an output with normal Index instead of DatetimeIndex.\\r\\n\\r\\nBut if we sum the DataFrame with axis=1, which is an equivalent operation, the DatetimeIndex is preserved.\\r\\n\\r\\n#### Expected Output\\r\\n\\r\\nIn pandas versions <= 1.1, the output correctly has a DatetimeIndex in both cases.\\r\\n\\r\\n```python\\r\\n\\r\\n#------ pandas 1.1.* ------\\r\\n\\r\\nimport pandas as pd\\r\\ndf = pd.DataFrame(index = pd.DatetimeIndex([]))\\r\\n\\r\\nprint(df.T.sum().index) # output: DatetimeIndex([], dtype='datetime64[ns]', freq=None)\\r\\nprint(df.sum(axis = 1).index) # output: DatetimeIndex([], dtype='datetime64[ns]', freq=None)\\r\\n```\\r\\n\\r\\n#### Output of ``pd.show_versions()``\\r\\n\\r\\n<details>\\r\\n\\r\\nINSTALLED VERSIONS\\r\\n------------------\\r\\ncommit           : 2cb96529396d93b46abab7bbc73a208e708c642e\\r\\npython           : 3.7.6.final.0\\r\\npython-bits      : 64\\r\\nOS               : Windows\\r\\nOS-release       : 10\\r\\nVersion          : 10.0.19041\\r\\nmachine          : AMD64\\r\\nprocessor        : Intel64 Family 6 Model 158 Stepping 13, GenuineIntel\\r\\nbyteorder        : little\\r\\nLC_ALL           : None\\r\\nLANG             : None\\r\\nLOCALE           : None.None\\r\\n\\r\\npandas           : 1.2.4\\r\\nnumpy            : 1.19.5\\r\\npytz             : 2019.3\\r\\ndateutil         : 2.8.1\\r\\npip              : 21.1.1\\r\\nsetuptools       : 56.1.0\\r\\nCython           : 0.29.16\\r\\npytest           : None\\r\\nhypothesis       : None\\r\\nsphinx           : None\\r\\nblosc            : None\\r\\nfeather          : None\\r\\nxlsxwriter       : None\\r\\nlxml.etree       : 4.5.0\\r\\nhtml5lib         : None\\r\\npymysql          : None\\r\\npsycopg2         : None\\r\\njinja2           : 2.11.0\\r\\nIPython          : 7.23.1\\r\\npandas_datareader: None\\r\\nbs4              : 4.9.3\\r\\nbottleneck       : None\\r\\nfsspec           : None\\r\\nfastparquet      : None\\r\\ngcsfs            : None\\r\\nmatplotlib       : 3.4.2\\r\\nnumexpr          : None\\r\\nodfpy            : None\\r\\nopenpyxl         : 3.0.7\\r\\npandas_gbq       : None\\r\\npyarrow          : None\\r\\npyxlsb           : None\\r\\ns3fs             : None\\r\\nscipy            : 1.6.3\\r\\nsqlalchemy       : None\\r\\ntables           : None\\r\\ntabulate         : None\\r\\nxarray           : None\\r\\nxlrd             : None\\r\\nxlwt             : None\\r\\nnumba            : None\\r\\n\\r\\n</details>\\r\\n\",\"performed_via_github_app\":null},{\"url\":\"https://api.github.com/repos/pandas-dev/pandas/issues/41381\",\"repository_url\":\"https://api.github.com/repos/pandas-dev/pandas\",\"labels_url\":\"https://api.github.com/repos/pandas-dev/pandas/issues/41381/labels{/name}\",\"comments_url\":\"https://api.github.com/repos/pandas-dev/pandas/issues/41381/comments\",\"events_url\":\"https://api.github.com/repos/pandas-dev/pandas/issues/41381/events\",\"html_url\":\"https://github.com/pandas-dev/pandas/pull/41381\",\"id\":880950377,\"node_id\":\"MDExOlB1bGxSZXF1ZXN0NjM0NTY5OTM2\",\"number\":41381,\"title\":\"DOC: Remove deprecated example for astype\",\"user\":{\"login\":\"rhshadrach\",\"id\":45562402,\"node_id\":\"MDQ6VXNlcjQ1NTYyNDAy\",\"avatar_url\":\"https://avatars.githubusercontent.com/u/45562402?v=4\",\"gravatar_id\":\"\",\"url\":\"https://api.github.com/users/rhshadrach\",\"html_url\":\"https://github.com/rhshadrach\",\"followers_url\":\"https://api.github.com/users/rhshadrach/followers\",\"following_url\":\"https://api.github.com/users/rhshadrach/following{/other_user}\",\"gists_url\":\"https://api.github.com/users/rhshadrach/gists{/gist_id}\",\"starred_url\":\"https://api.github.com/users/rhshadrach/starred{/owner}{/repo}\",\"subscriptions_url\":\"https://api.github.com/users/rhshadrach/subscriptions\",\"organizations_url\":\"https://api.github.com/users/rhshadrach/orgs\",\"repos_url\":\"https://api.github.com/users/rhshadrach/repos\",\"events_url\":\"https://api.github.com/users/rhshadrach/events{/privacy}\",\"received_events_url\":\"https://api.github.com/users/rhshadrach/received_events\",\"type\":\"User\",\"site_admin\":false},\"labels\":[{\"id\":87485152,\"node_id\":\"MDU6TGFiZWw4NzQ4NTE1Mg==\",\"url\":\"https://api.github.com/repos/pandas-dev/pandas/labels/Deprecate\",\"name\":\"Deprecate\",\"color\":\"5319e7\",\"default\":false,\"description\":\"Functionality to remove in pandas\"},{\"id\":134699,\"node_id\":\"MDU6TGFiZWwxMzQ2OTk=\",\"url\":\"https://api.github.com/repos/pandas-dev/pandas/labels/Docs\",\"name\":\"Docs\",\"color\":\"3465A4\",\"default\":false,\"description\":null},{\"id\":211840,\"node_id\":\"MDU6TGFiZWwyMTE4NDA=\",\"url\":\"https://api.github.com/repos/pandas-dev/pandas/labels/Timeseries\",\"name\":\"Timeseries\",\"color\":\"AFEEEE\",\"default\":false,\"description\":null}],\"state\":\"open\",\"locked\":false,\"assignee\":null,\"assignees\":[],\"milestone\":{\"url\":\"https://api.github.com/repos/pandas-dev/pandas/milestones/80\",\"html_url\":\"https://github.com/pandas-dev/pandas/milestone/80\",\"labels_url\":\"https://api.github.com/repos/pandas-dev/pandas/milestones/80/labels\",\"id\":6095818,\"node_id\":\"MDk6TWlsZXN0b25lNjA5NTgxOA==\",\"number\":80,\"title\":\"1.3\",\"description\":\"\",\"creator\":{\"login\":\"jreback\",\"id\":953992,\"node_id\":\"MDQ6VXNlcjk1Mzk5Mg==\",\"avatar_url\":\"https://avatars.githubusercontent.com/u/953992?v=4\",\"gravatar_id\":\"\",\"url\":\"https://api.github.com/users/jreback\",\"html_url\":\"https://github.com/jreback\",\"followers_url\":\"https://api.github.com/users/jreback/followers\",\"following_url\":\"https://api.github.com/users/jreback/following{/other_user}\",\"gists_url\":\"https://api.github.com/users/jreback/gists{/gist_id}\",\"starred_url\":\"https://api.github.com/users/jreback/starred{/owner}{/repo}\",\"subscriptions_url\":\"https://api.github.com/users/jreback/subscriptions\",\"organizations_url\":\"https://api.github.com/users/jreback/orgs\",\"repos_url\":\"https://api.github.com/users/jreback/repos\",\"events_url\":\"https://api.github.com/users/jreback/events{/privacy}\",\"received_events_url\":\"https://api.github.com/users/jreback/received_events\",\"type\":\"User\",\"site_admin\":false},\"open_issues\":119,\"closed_issues\":1734,\"state\":\"open\",\"created_at\":\"2020-11-11T19:05:43Z\",\"updated_at\":\"2021-05-09T14:48:14Z\",\"due_on\":\"2021-05-31T07:00:00Z\",\"closed_at\":null},\"comments\":0,\"created_at\":\"2021-05-08T15:23:40Z\",\"updated_at\":\"2021-05-08T15:23:40Z\",\"closed_at\":null,\"author_association\":\"MEMBER\",\"active_lock_reason\":null,\"pull_request\":{\"url\":\"https://api.github.com/repos/pandas-dev/pandas/pulls/41381\",\"html_url\":\"https://github.com/pandas-dev/pandas/pull/41381\",\"diff_url\":\"https://github.com/pandas-dev/pandas/pull/41381.diff\",\"patch_url\":\"https://github.com/pandas-dev/pandas/pull/41381.patch\"},\"body\":\"- [x] Ensure all linting tests pass, see [here](https://pandas.pydata.org/pandas-docs/dev/development/contributing.html#code-standards) for how to run them\\r\\n\\r\\nFollowup to #39258\",\"performed_via_github_app\":null},{\"url\":\"https://api.github.com/repos/pandas-dev/pandas/issues/41380\",\"repository_url\":\"https://api.github.com/repos/pandas-dev/pandas\",\"labels_url\":\"https://api.github.com/repos/pandas-dev/pandas/issues/41380/labels{/name}\",\"comments_url\":\"https://api.github.com/repos/pandas-dev/pandas/issues/41380/comments\",\"events_url\":\"https://api.github.com/repos/pandas-dev/pandas/issues/41380/events\",\"html_url\":\"https://github.com/pandas-dev/pandas/pull/41380\",\"id\":880520661,\"node_id\":\"MDExOlB1bGxSZXF1ZXN0NjM0MTczNzIz\",\"number\":41380,\"title\":\"TST/CLN: use dtype fixture in numeric tests\",\"user\":{\"login\":\"topper-123\",\"id\":26364415,\"node_id\":\"MDQ6VXNlcjI2MzY0NDE1\",\"avatar_url\":\"https://avatars.githubusercontent.com/u/26364415?v=4\",\"gravatar_id\":\"\",\"url\":\"https://api.github.com/users/topper-123\",\"html_url\":\"https://github.com/topper-123\",\"followers_url\":\"https://api.github.com/users/topper-123/followers\",\"following_url\":\"https://api.github.com/users/topper-123/following{/other_user}\",\"gists_url\":\"https://api.github.com/users/topper-123/gists{/gist_id}\",\"starred_url\":\"https://api.github.com/users/topper-123/starred{/owner}{/repo}\",\"subscriptions_url\":\"https://api.github.com/users/topper-123/subscriptions\",\"organizations_url\":\"https://api.github.com/users/topper-123/orgs\",\"repos_url\":\"https://api.github.com/users/topper-123/repos\",\"events_url\":\"https://api.github.com/users/topper-123/events{/privacy}\",\"received_events_url\":\"https://api.github.com/users/topper-123/received_events\",\"type\":\"User\",\"site_admin\":false},\"labels\":[],\"state\":\"open\",\"locked\":false,\"assignee\":null,\"assignees\":[],\"milestone\":null,\"comments\":0,\"created_at\":\"2021-05-08T08:46:25Z\",\"updated_at\":\"2021-05-08T14:24:07Z\",\"closed_at\":null,\"author_association\":\"CONTRIBUTOR\",\"active_lock_reason\":null,\"pull_request\":{\"url\":\"https://api.github.com/repos/pandas-dev/pandas/pulls/41380\",\"html_url\":\"https://github.com/pandas-dev/pandas/pull/41380\",\"diff_url\":\"https://github.com/pandas-dev/pandas/pull/41380.diff\",\"patch_url\":\"https://github.com/pandas-dev/pandas/pull/41380.patch\"},\"body\":\"small cleanup to make tests amenable to tests againt several dtypes.\",\"performed_via_github_app\":null},{\"url\":\"https://api.github.com/repos/pandas-dev/pandas/issues/41379\",\"repository_url\":\"https://api.github.com/repos/pandas-dev/pandas\",\"labels_url\":\"https://api.github.com/repos/pandas-dev/pandas/issues/41379/labels{/name}\",\"comments_url\":\"https://api.github.com/repos/pandas-dev/pandas/issues/41379/comments\",\"events_url\":\"https://api.github.com/repos/pandas-dev/pandas/issues/41379/events\",\"html_url\":\"https://github.com/pandas-dev/pandas/pull/41379\",\"id\":880322603,\"node_id\":\"MDExOlB1bGxSZXF1ZXN0NjMzOTg4NTIy\",\"number\":41379,\"title\":\"CLN: groupby assorted\",\"user\":{\"login\":\"jbrockmendel\",\"id\":8078968,\"node_id\":\"MDQ6VXNlcjgwNzg5Njg=\",\"avatar_url\":\"https://avatars.githubusercontent.com/u/8078968?v=4\",\"gravatar_id\":\"\",\"url\":\"https://api.github.com/users/jbrockmendel\",\"html_url\":\"https://github.com/jbrockmendel\",\"followers_url\":\"https://api.github.com/users/jbrockmendel/followers\",\"following_url\":\"https://api.github.com/users/jbrockmendel/following{/other_user}\",\"gists_url\":\"https://api.github.com/users/jbrockmendel/gists{/gist_id}\",\"starred_url\":\"https://api.github.com/users/jbrockmendel/starred{/owner}{/repo}\",\"subscriptions_url\":\"https://api.github.com/users/jbrockmendel/subscriptions\",\"organizations_url\":\"https://api.github.com/users/jbrockmendel/orgs\",\"repos_url\":\"https://api.github.com/users/jbrockmendel/repos\",\"events_url\":\"https://api.github.com/users/jbrockmendel/events{/privacy}\",\"received_events_url\":\"https://api.github.com/users/jbrockmendel/received_events\",\"type\":\"User\",\"site_admin\":false},\"labels\":[{\"id\":233160,\"node_id\":\"MDU6TGFiZWwyMzMxNjA=\",\"url\":\"https://api.github.com/repos/pandas-dev/pandas/labels/Groupby\",\"name\":\"Groupby\",\"color\":\"729FCF\",\"default\":false,\"description\":null}],\"state\":\"open\",\"locked\":false,\"assignee\":null,\"assignees\":[],\"milestone\":null,\"comments\":0,\"created_at\":\"2021-05-08T05:39:35Z\",\"updated_at\":\"2021-05-09T16:54:23Z\",\"closed_at\":null,\"author_association\":\"MEMBER\",\"active_lock_reason\":null,\"pull_request\":{\"url\":\"https://api.github.com/repos/pandas-dev/pandas/pulls/41379\",\"html_url\":\"https://github.com/pandas-dev/pandas/pull/41379\",\"diff_url\":\"https://github.com/pandas-dev/pandas/pull/41379.diff\",\"patch_url\":\"https://github.com/pandas-dev/pandas/pull/41379.patch\"},\"body\":\"- [ ] closes #xxxx\\r\\n- [ ] tests added / passed\\r\\n- [ ] Ensure all linting tests pass, see [here](https://pandas.pydata.org/pandas-docs/dev/development/contributing.html#code-standards) for how to run them\\r\\n- [ ] whatsnew entry\\r\\n\",\"performed_via_github_app\":null}]\n"
     ]
    }
   ],
   "source": [
    "import requests\n",
    "url = 'https://api.github.com/repos/pandas-dev/pandas/issues'\n",
    "resp = requests.get(url)\n",
    "print(resp)\n",
    "print(resp.text)"
   ]
  },
  {
   "cell_type": "code",
   "execution_count": 95,
   "metadata": {},
   "outputs": [
    {
     "data": {
      "text/plain": [
       "'BUG: read_json changes dtype (object => int) '"
      ]
     },
     "execution_count": 95,
     "metadata": {},
     "output_type": "execute_result"
    }
   ],
   "source": [
    "data = resp.json()\n",
    "data[0]['title']"
   ]
  },
  {
   "cell_type": "code",
   "execution_count": 96,
   "metadata": {},
   "outputs": [
    {
     "data": {
      "text/html": [
       "<div>\n",
       "<style scoped>\n",
       "    .dataframe tbody tr th:only-of-type {\n",
       "        vertical-align: middle;\n",
       "    }\n",
       "\n",
       "    .dataframe tbody tr th {\n",
       "        vertical-align: top;\n",
       "    }\n",
       "\n",
       "    .dataframe thead th {\n",
       "        text-align: right;\n",
       "    }\n",
       "</style>\n",
       "<table border=\"1\" class=\"dataframe\">\n",
       "  <thead>\n",
       "    <tr style=\"text-align: right;\">\n",
       "      <th></th>\n",
       "      <th>number</th>\n",
       "      <th>title</th>\n",
       "      <th>lables</th>\n",
       "      <th>state</th>\n",
       "    </tr>\n",
       "  </thead>\n",
       "  <tbody>\n",
       "    <tr>\n",
       "      <th>0</th>\n",
       "      <td>41408</td>\n",
       "      <td>BUG: read_json changes dtype (object =&gt; int)</td>\n",
       "      <td>NaN</td>\n",
       "      <td>open</td>\n",
       "    </tr>\n",
       "    <tr>\n",
       "      <th>1</th>\n",
       "      <td>41407</td>\n",
       "      <td>DOC: Unclear first example in pandas.DataFrame...</td>\n",
       "      <td>NaN</td>\n",
       "      <td>open</td>\n",
       "    </tr>\n",
       "    <tr>\n",
       "      <th>2</th>\n",
       "      <td>41406</td>\n",
       "      <td>BUG: fix TypeError when looking up a str subcl...</td>\n",
       "      <td>NaN</td>\n",
       "      <td>open</td>\n",
       "    </tr>\n",
       "    <tr>\n",
       "      <th>3</th>\n",
       "      <td>41405</td>\n",
       "      <td>BUG: Rolling.__iter__ includes on index column...</td>\n",
       "      <td>NaN</td>\n",
       "      <td>open</td>\n",
       "    </tr>\n",
       "    <tr>\n",
       "      <th>4</th>\n",
       "      <td>41404</td>\n",
       "      <td>BUG: hashing's are the same for different key ...</td>\n",
       "      <td>NaN</td>\n",
       "      <td>open</td>\n",
       "    </tr>\n",
       "    <tr>\n",
       "      <th>5</th>\n",
       "      <td>41403</td>\n",
       "      <td>REF: set _selection only in __init__</td>\n",
       "      <td>NaN</td>\n",
       "      <td>open</td>\n",
       "    </tr>\n",
       "    <tr>\n",
       "      <th>6</th>\n",
       "      <td>41402</td>\n",
       "      <td>DOC: Adding Cylon under ecosystem/out of core</td>\n",
       "      <td>NaN</td>\n",
       "      <td>open</td>\n",
       "    </tr>\n",
       "    <tr>\n",
       "      <th>7</th>\n",
       "      <td>41401</td>\n",
       "      <td>REF: groupby remove _selection_name</td>\n",
       "      <td>NaN</td>\n",
       "      <td>open</td>\n",
       "    </tr>\n",
       "    <tr>\n",
       "      <th>8</th>\n",
       "      <td>41400</td>\n",
       "      <td>DOC: Remove multiple blank lines in ipython di...</td>\n",
       "      <td>NaN</td>\n",
       "      <td>open</td>\n",
       "    </tr>\n",
       "    <tr>\n",
       "      <th>9</th>\n",
       "      <td>41399</td>\n",
       "      <td>WIP: groupby skipna</td>\n",
       "      <td>NaN</td>\n",
       "      <td>open</td>\n",
       "    </tr>\n",
       "    <tr>\n",
       "      <th>10</th>\n",
       "      <td>41398</td>\n",
       "      <td>DOC: Remove deprecated usage of Index.__xor__</td>\n",
       "      <td>NaN</td>\n",
       "      <td>open</td>\n",
       "    </tr>\n",
       "    <tr>\n",
       "      <th>11</th>\n",
       "      <td>41397</td>\n",
       "      <td>DOC: specify regex=True in str.replace</td>\n",
       "      <td>NaN</td>\n",
       "      <td>open</td>\n",
       "    </tr>\n",
       "    <tr>\n",
       "      <th>12</th>\n",
       "      <td>41396</td>\n",
       "      <td>[ArrowStringArray] TST: parametrize str.partit...</td>\n",
       "      <td>NaN</td>\n",
       "      <td>open</td>\n",
       "    </tr>\n",
       "    <tr>\n",
       "      <th>13</th>\n",
       "      <td>41395</td>\n",
       "      <td>Opinion requested: Pandas Options for Styler</td>\n",
       "      <td>NaN</td>\n",
       "      <td>open</td>\n",
       "    </tr>\n",
       "    <tr>\n",
       "      <th>14</th>\n",
       "      <td>41394</td>\n",
       "      <td>DOC: Remove deprecated use of level for agg fu...</td>\n",
       "      <td>NaN</td>\n",
       "      <td>open</td>\n",
       "    </tr>\n",
       "    <tr>\n",
       "      <th>15</th>\n",
       "      <td>41393</td>\n",
       "      <td>[ArrowStringArray] TST: parametrize str.extrac...</td>\n",
       "      <td>NaN</td>\n",
       "      <td>open</td>\n",
       "    </tr>\n",
       "    <tr>\n",
       "      <th>16</th>\n",
       "      <td>41392</td>\n",
       "      <td>[ArrowStringArray] TST: parametrize str.split ...</td>\n",
       "      <td>NaN</td>\n",
       "      <td>open</td>\n",
       "    </tr>\n",
       "    <tr>\n",
       "      <th>17</th>\n",
       "      <td>41391</td>\n",
       "      <td>REF: add internal mechanics to separate index/...</td>\n",
       "      <td>NaN</td>\n",
       "      <td>open</td>\n",
       "    </tr>\n",
       "    <tr>\n",
       "      <th>18</th>\n",
       "      <td>41390</td>\n",
       "      <td>REF: re-use machinery for DataFrameGroupBy.nun...</td>\n",
       "      <td>NaN</td>\n",
       "      <td>open</td>\n",
       "    </tr>\n",
       "    <tr>\n",
       "      <th>19</th>\n",
       "      <td>41389</td>\n",
       "      <td>TST: Add regression tests for old issues</td>\n",
       "      <td>NaN</td>\n",
       "      <td>open</td>\n",
       "    </tr>\n",
       "    <tr>\n",
       "      <th>20</th>\n",
       "      <td>41388</td>\n",
       "      <td>BUG: to_latex(filename) truncates</td>\n",
       "      <td>NaN</td>\n",
       "      <td>open</td>\n",
       "    </tr>\n",
       "    <tr>\n",
       "      <th>21</th>\n",
       "      <td>41387</td>\n",
       "      <td>TST: fix groupby xfails</td>\n",
       "      <td>NaN</td>\n",
       "      <td>open</td>\n",
       "    </tr>\n",
       "    <tr>\n",
       "      <th>22</th>\n",
       "      <td>41386</td>\n",
       "      <td>ENH: IO support for R data files with C extension</td>\n",
       "      <td>NaN</td>\n",
       "      <td>open</td>\n",
       "    </tr>\n",
       "    <tr>\n",
       "      <th>23</th>\n",
       "      <td>41385</td>\n",
       "      <td>ENH:</td>\n",
       "      <td>NaN</td>\n",
       "      <td>open</td>\n",
       "    </tr>\n",
       "    <tr>\n",
       "      <th>24</th>\n",
       "      <td>41384</td>\n",
       "      <td>TYP: SelectionMixin</td>\n",
       "      <td>NaN</td>\n",
       "      <td>open</td>\n",
       "    </tr>\n",
       "    <tr>\n",
       "      <th>25</th>\n",
       "      <td>41383</td>\n",
       "      <td>QST: build offline?</td>\n",
       "      <td>NaN</td>\n",
       "      <td>open</td>\n",
       "    </tr>\n",
       "    <tr>\n",
       "      <th>26</th>\n",
       "      <td>41382</td>\n",
       "      <td>BUG: DatetimeIndex gets converted to Index whe...</td>\n",
       "      <td>NaN</td>\n",
       "      <td>open</td>\n",
       "    </tr>\n",
       "    <tr>\n",
       "      <th>27</th>\n",
       "      <td>41381</td>\n",
       "      <td>DOC: Remove deprecated example for astype</td>\n",
       "      <td>NaN</td>\n",
       "      <td>open</td>\n",
       "    </tr>\n",
       "    <tr>\n",
       "      <th>28</th>\n",
       "      <td>41380</td>\n",
       "      <td>TST/CLN: use dtype fixture in numeric tests</td>\n",
       "      <td>NaN</td>\n",
       "      <td>open</td>\n",
       "    </tr>\n",
       "    <tr>\n",
       "      <th>29</th>\n",
       "      <td>41379</td>\n",
       "      <td>CLN: groupby assorted</td>\n",
       "      <td>NaN</td>\n",
       "      <td>open</td>\n",
       "    </tr>\n",
       "  </tbody>\n",
       "</table>\n",
       "</div>"
      ],
      "text/plain": [
       "    number                                              title  lables state\n",
       "0    41408      BUG: read_json changes dtype (object => int)      NaN  open\n",
       "1    41407  DOC: Unclear first example in pandas.DataFrame...     NaN  open\n",
       "2    41406  BUG: fix TypeError when looking up a str subcl...     NaN  open\n",
       "3    41405  BUG: Rolling.__iter__ includes on index column...     NaN  open\n",
       "4    41404  BUG: hashing's are the same for different key ...     NaN  open\n",
       "5    41403               REF: set _selection only in __init__     NaN  open\n",
       "6    41402      DOC: Adding Cylon under ecosystem/out of core     NaN  open\n",
       "7    41401                REF: groupby remove _selection_name     NaN  open\n",
       "8    41400  DOC: Remove multiple blank lines in ipython di...     NaN  open\n",
       "9    41399                                WIP: groupby skipna     NaN  open\n",
       "10   41398      DOC: Remove deprecated usage of Index.__xor__     NaN  open\n",
       "11   41397             DOC: specify regex=True in str.replace     NaN  open\n",
       "12   41396  [ArrowStringArray] TST: parametrize str.partit...     NaN  open\n",
       "13   41395       Opinion requested: Pandas Options for Styler     NaN  open\n",
       "14   41394  DOC: Remove deprecated use of level for agg fu...     NaN  open\n",
       "15   41393  [ArrowStringArray] TST: parametrize str.extrac...     NaN  open\n",
       "16   41392  [ArrowStringArray] TST: parametrize str.split ...     NaN  open\n",
       "17   41391  REF: add internal mechanics to separate index/...     NaN  open\n",
       "18   41390  REF: re-use machinery for DataFrameGroupBy.nun...     NaN  open\n",
       "19   41389           TST: Add regression tests for old issues     NaN  open\n",
       "20   41388                  BUG: to_latex(filename) truncates     NaN  open\n",
       "21   41387                            TST: fix groupby xfails     NaN  open\n",
       "22   41386  ENH: IO support for R data files with C extension     NaN  open\n",
       "23   41385                                               ENH:     NaN  open\n",
       "24   41384                                TYP: SelectionMixin     NaN  open\n",
       "25   41383                                QST: build offline?     NaN  open\n",
       "26   41382  BUG: DatetimeIndex gets converted to Index whe...     NaN  open\n",
       "27   41381          DOC: Remove deprecated example for astype     NaN  open\n",
       "28   41380        TST/CLN: use dtype fixture in numeric tests     NaN  open\n",
       "29   41379                              CLN: groupby assorted     NaN  open"
      ]
     },
     "execution_count": 96,
     "metadata": {},
     "output_type": "execute_result"
    }
   ],
   "source": [
    "issues = pd.DataFrame(data, columns=['number','title','lables','state'])\n",
    "issues"
   ]
  },
  {
   "cell_type": "markdown",
   "metadata": {},
   "source": [
    "### Chapter 7. 데이터 정제 및 준비 p.269\n",
    "\n",
    "```\n",
    "데이터 분석과 모델링 작업에서는 데이터를 불러오고, 정제하고, 변형하고, 재정렬하는\n",
    "데이터 준비 과정에 많은 시간을 들이게 된다.\n",
    "이런 작업들은 분석 시간의 80%를 잡아먹기도 한다.\n",
    "\n",
    "파이썬 표준 라이브러리를 pandas 와 함께 사용하면 큰 수고 없이\n",
    "데이터를 원하는 형태로 가공할 수 있다.\n",
    "\n",
    "pandas 는 이런 작업을 위한 유연하고 빠른 고수준의 알고리즘과 처리 기능을 제공한다.\n",
    "```"
   ]
  },
  {
   "cell_type": "markdown",
   "metadata": {},
   "source": [
    "### 누락된 데이터 처리하기  p.269"
   ]
  },
  {
   "cell_type": "code",
   "execution_count": 2,
   "metadata": {},
   "outputs": [
    {
     "data": {
      "text/plain": [
       "0     aardvark\n",
       "1    artichoke\n",
       "2          NaN\n",
       "3      avocado\n",
       "dtype: object"
      ]
     },
     "execution_count": 2,
     "metadata": {},
     "output_type": "execute_result"
    }
   ],
   "source": [
    "import numpy as np\n",
    "import pandas as pd\n",
    "\n",
    "#p.270\n",
    "string_data = pd.Series(['aardvark','artichoke',\n",
    "                        np.nan,'avocado'])\n",
    "string_data"
   ]
  },
  {
   "cell_type": "code",
   "execution_count": 3,
   "metadata": {},
   "outputs": [
    {
     "data": {
      "text/plain": [
       "0    False\n",
       "1    False\n",
       "2     True\n",
       "3    False\n",
       "dtype: bool"
      ]
     },
     "execution_count": 3,
     "metadata": {},
     "output_type": "execute_result"
    }
   ],
   "source": [
    "string_data.isnull()"
   ]
  },
  {
   "cell_type": "code",
   "execution_count": 106,
   "metadata": {},
   "outputs": [
    {
     "name": "stdout",
     "output_type": "stream",
     "text": [
      "0         None\n",
      "1    artichoke\n",
      "2          NaN\n",
      "3      avocado\n",
      "dtype: object\n",
      "\n"
     ]
    },
    {
     "data": {
      "text/plain": [
       "0     True\n",
       "1    False\n",
       "2     True\n",
       "3    False\n",
       "dtype: bool"
      ]
     },
     "execution_count": 106,
     "metadata": {},
     "output_type": "execute_result"
    }
   ],
   "source": [
    "string_data[0] = None\n",
    "print(string_data)\n",
    "print()\n",
    "string_data.isnull()"
   ]
  },
  {
   "cell_type": "markdown",
   "metadata": {},
   "source": [
    "#### 7.1.1 누락된 데이터 골라내기 p.271"
   ]
  },
  {
   "cell_type": "code",
   "execution_count": 13,
   "metadata": {},
   "outputs": [
    {
     "name": "stdout",
     "output_type": "stream",
     "text": [
      "0    1.0\n",
      "1    NaN\n",
      "2    3.5\n",
      "3    NaN\n",
      "4    7.0\n",
      "dtype: float64\n",
      "\n",
      "0    False\n",
      "1     True\n",
      "2    False\n",
      "3     True\n",
      "4    False\n",
      "dtype: bool\n",
      "\n",
      "0    1.0\n",
      "2    3.5\n",
      "4    7.0\n",
      "dtype: float64\n",
      "\n",
      "0     True\n",
      "1    False\n",
      "2     True\n",
      "3    False\n",
      "4     True\n",
      "dtype: bool\n"
     ]
    },
    {
     "data": {
      "text/plain": [
       "0    1.0\n",
       "1    NaN\n",
       "2    3.5\n",
       "3    NaN\n",
       "4    7.0\n",
       "dtype: float64"
      ]
     },
     "execution_count": 13,
     "metadata": {},
     "output_type": "execute_result"
    }
   ],
   "source": [
    "from numpy import nan as NA\n",
    "data = pd.Series([1,NA,3.5,NA,7])\n",
    "print(data)\n",
    "print()\n",
    "print(data.isnull())\n",
    "print()\n",
    "print(data.dropna())\n",
    "print()\n",
    "print(data.notnull())\n",
    "data # 원본은 그대로 남아있음"
   ]
  },
  {
   "cell_type": "code",
   "execution_count": 22,
   "metadata": {},
   "outputs": [
    {
     "name": "stdout",
     "output_type": "stream",
     "text": [
      "     0    1    2\n",
      "0  1.0  6.5  3.0\n",
      "1  1.0  NaN  NaN\n",
      "2  NaN  NaN  NaN\n",
      "3  NaN  6.5  3.0\n",
      "\n",
      "     0    1    2\n",
      "0  1.0  6.5  3.0\n"
     ]
    },
    {
     "data": {
      "text/html": [
       "<div>\n",
       "<style scoped>\n",
       "    .dataframe tbody tr th:only-of-type {\n",
       "        vertical-align: middle;\n",
       "    }\n",
       "\n",
       "    .dataframe tbody tr th {\n",
       "        vertical-align: top;\n",
       "    }\n",
       "\n",
       "    .dataframe thead th {\n",
       "        text-align: right;\n",
       "    }\n",
       "</style>\n",
       "<table border=\"1\" class=\"dataframe\">\n",
       "  <thead>\n",
       "    <tr style=\"text-align: right;\">\n",
       "      <th></th>\n",
       "      <th>0</th>\n",
       "      <th>1</th>\n",
       "      <th>2</th>\n",
       "    </tr>\n",
       "  </thead>\n",
       "  <tbody>\n",
       "    <tr>\n",
       "      <th>0</th>\n",
       "      <td>1.0</td>\n",
       "      <td>6.5</td>\n",
       "      <td>3.0</td>\n",
       "    </tr>\n",
       "  </tbody>\n",
       "</table>\n",
       "</div>"
      ],
      "text/plain": [
       "     0    1    2\n",
       "0  1.0  6.5  3.0"
      ]
     },
     "execution_count": 22,
     "metadata": {},
     "output_type": "execute_result"
    }
   ],
   "source": [
    "# p.272\n",
    "'''\n",
    "DataFrame 객체에서는 모두 NA 값인 로우나 칼럼을 제외시킬 수도 있고\n",
    "NA 값을 하나라도 포함하고 있는 로우나 칼럼을 제외시킬 수도 있다.\n",
    "\n",
    "dropna 는 기본적으로 NA 값을 하나라도 포함하고 있는 로우를 제외시킨다.\n",
    "'''\n",
    "from numpy import nan as NA\n",
    "data = pd.DataFrame([[1., 6.5, 3]\n",
    "                    ,[1., NA, NA]\n",
    "                    ,[NA, NA, NA]\n",
    "                    ,[NA, 6.5, 3]])\n",
    "cleaned = data.dropna()\n",
    "print(data)\n",
    "print()\n",
    "print(cleaned)\n",
    "cleaned"
   ]
  },
  {
   "cell_type": "code",
   "execution_count": 31,
   "metadata": {},
   "outputs": [
    {
     "name": "stdout",
     "output_type": "stream",
     "text": [
      "     0    1    2   4\n",
      "0  1.0  6.5  3.0 NaN\n",
      "1  1.0  NaN  NaN NaN\n",
      "2  NaN  NaN  NaN NaN\n",
      "3  NaN  6.5  3.0 NaN\n"
     ]
    },
    {
     "data": {
      "text/html": [
       "<div>\n",
       "<style scoped>\n",
       "    .dataframe tbody tr th:only-of-type {\n",
       "        vertical-align: middle;\n",
       "    }\n",
       "\n",
       "    .dataframe tbody tr th {\n",
       "        vertical-align: top;\n",
       "    }\n",
       "\n",
       "    .dataframe thead th {\n",
       "        text-align: right;\n",
       "    }\n",
       "</style>\n",
       "<table border=\"1\" class=\"dataframe\">\n",
       "  <thead>\n",
       "    <tr style=\"text-align: right;\">\n",
       "      <th></th>\n",
       "      <th>0</th>\n",
       "      <th>1</th>\n",
       "      <th>2</th>\n",
       "      <th>4</th>\n",
       "    </tr>\n",
       "  </thead>\n",
       "  <tbody>\n",
       "    <tr>\n",
       "      <th>0</th>\n",
       "      <td>1.0</td>\n",
       "      <td>6.5</td>\n",
       "      <td>3.0</td>\n",
       "      <td>NaN</td>\n",
       "    </tr>\n",
       "    <tr>\n",
       "      <th>1</th>\n",
       "      <td>1.0</td>\n",
       "      <td>NaN</td>\n",
       "      <td>NaN</td>\n",
       "      <td>NaN</td>\n",
       "    </tr>\n",
       "    <tr>\n",
       "      <th>3</th>\n",
       "      <td>NaN</td>\n",
       "      <td>6.5</td>\n",
       "      <td>3.0</td>\n",
       "      <td>NaN</td>\n",
       "    </tr>\n",
       "  </tbody>\n",
       "</table>\n",
       "</div>"
      ],
      "text/plain": [
       "     0    1    2   4\n",
       "0  1.0  6.5  3.0 NaN\n",
       "1  1.0  NaN  NaN NaN\n",
       "3  NaN  6.5  3.0 NaN"
      ]
     },
     "execution_count": 31,
     "metadata": {},
     "output_type": "execute_result"
    }
   ],
   "source": [
    "# p.273\n",
    "data[4] = NA\n",
    "print(data)\n",
    "data.dropna(how='all') # 모든 열의 값이 NA인 데이터 제외"
   ]
  },
  {
   "cell_type": "code",
   "execution_count": 33,
   "metadata": {},
   "outputs": [
    {
     "name": "stdout",
     "output_type": "stream",
     "text": [
      "     0    1    2\n",
      "0  1.0  6.5  3.0\n",
      "1  1.0  NaN  NaN\n",
      "2  NaN  NaN  NaN\n",
      "3  NaN  6.5  3.0\n",
      "\n",
      "Empty DataFrame\n",
      "Columns: []\n",
      "Index: [0, 1, 2, 3]\n"
     ]
    }
   ],
   "source": [
    "print(data.dropna(axis=1,how='all'))\n",
    "print()\n",
    "print(data.dropna(axis=1))"
   ]
  },
  {
   "cell_type": "code",
   "execution_count": 37,
   "metadata": {},
   "outputs": [
    {
     "name": "stdout",
     "output_type": "stream",
     "text": [
      "          0         1         2\n",
      "0  0.439724       NaN       NaN\n",
      "1 -0.137353       NaN       NaN\n",
      "2  0.591854       NaN -0.640148\n",
      "3  0.064228       NaN -0.011918\n",
      "4 -0.141298 -0.364029  0.168711\n",
      "5  0.090006  1.719108  0.633800\n",
      "6 -0.777239 -1.118946 -0.586793\n",
      "\n",
      "          0         1         2\n",
      "4 -0.141298 -0.364029  0.168711\n",
      "5  0.090006  1.719108  0.633800\n",
      "6 -0.777239 -1.118946 -0.586793\n",
      "\n",
      "          0         1         2\n",
      "2  0.591854       NaN -0.640148\n",
      "3  0.064228       NaN -0.011918\n",
      "4 -0.141298 -0.364029  0.168711\n",
      "5  0.090006  1.719108  0.633800\n",
      "6 -0.777239 -1.118946 -0.586793\n"
     ]
    }
   ],
   "source": [
    "df = pd.DataFrame(np.random.randn(7,3))\n",
    "df.iloc[:4,1] = NA\n",
    "df.iloc[:2,2] = NA\n",
    "print(df)\n",
    "print()\n",
    "print(df.dropna())\n",
    "print()\n",
    "print(df.dropna(thresh=2)) # n개 이상의 NA값 들어있는 행만 제외"
   ]
  },
  {
   "cell_type": "markdown",
   "metadata": {},
   "source": [
    "### 결측치 채우기 p274\n",
    "- 누락된 값을 제외시키지 않고 특정한 값을 채워 넣고 싶을 때"
   ]
  },
  {
   "cell_type": "code",
   "execution_count": 39,
   "metadata": {},
   "outputs": [
    {
     "name": "stdout",
     "output_type": "stream",
     "text": [
      "          0         1         2\n",
      "0  0.439724       NaN       NaN\n",
      "1 -0.137353       NaN       NaN\n",
      "2  0.591854       NaN -0.640148\n",
      "3  0.064228       NaN -0.011918\n",
      "4 -0.141298 -0.364029  0.168711\n",
      "5  0.090006  1.719108  0.633800\n",
      "6 -0.777239 -1.118946 -0.586793\n",
      "\n"
     ]
    },
    {
     "data": {
      "text/html": [
       "<div>\n",
       "<style scoped>\n",
       "    .dataframe tbody tr th:only-of-type {\n",
       "        vertical-align: middle;\n",
       "    }\n",
       "\n",
       "    .dataframe tbody tr th {\n",
       "        vertical-align: top;\n",
       "    }\n",
       "\n",
       "    .dataframe thead th {\n",
       "        text-align: right;\n",
       "    }\n",
       "</style>\n",
       "<table border=\"1\" class=\"dataframe\">\n",
       "  <thead>\n",
       "    <tr style=\"text-align: right;\">\n",
       "      <th></th>\n",
       "      <th>0</th>\n",
       "      <th>1</th>\n",
       "      <th>2</th>\n",
       "    </tr>\n",
       "  </thead>\n",
       "  <tbody>\n",
       "    <tr>\n",
       "      <th>0</th>\n",
       "      <td>0.439724</td>\n",
       "      <td>0.000000</td>\n",
       "      <td>0.000000</td>\n",
       "    </tr>\n",
       "    <tr>\n",
       "      <th>1</th>\n",
       "      <td>-0.137353</td>\n",
       "      <td>0.000000</td>\n",
       "      <td>0.000000</td>\n",
       "    </tr>\n",
       "    <tr>\n",
       "      <th>2</th>\n",
       "      <td>0.591854</td>\n",
       "      <td>0.000000</td>\n",
       "      <td>-0.640148</td>\n",
       "    </tr>\n",
       "    <tr>\n",
       "      <th>3</th>\n",
       "      <td>0.064228</td>\n",
       "      <td>0.000000</td>\n",
       "      <td>-0.011918</td>\n",
       "    </tr>\n",
       "    <tr>\n",
       "      <th>4</th>\n",
       "      <td>-0.141298</td>\n",
       "      <td>-0.364029</td>\n",
       "      <td>0.168711</td>\n",
       "    </tr>\n",
       "    <tr>\n",
       "      <th>5</th>\n",
       "      <td>0.090006</td>\n",
       "      <td>1.719108</td>\n",
       "      <td>0.633800</td>\n",
       "    </tr>\n",
       "    <tr>\n",
       "      <th>6</th>\n",
       "      <td>-0.777239</td>\n",
       "      <td>-1.118946</td>\n",
       "      <td>-0.586793</td>\n",
       "    </tr>\n",
       "  </tbody>\n",
       "</table>\n",
       "</div>"
      ],
      "text/plain": [
       "          0         1         2\n",
       "0  0.439724  0.000000  0.000000\n",
       "1 -0.137353  0.000000  0.000000\n",
       "2  0.591854  0.000000 -0.640148\n",
       "3  0.064228  0.000000 -0.011918\n",
       "4 -0.141298 -0.364029  0.168711\n",
       "5  0.090006  1.719108  0.633800\n",
       "6 -0.777239 -1.118946 -0.586793"
      ]
     },
     "execution_count": 39,
     "metadata": {},
     "output_type": "execute_result"
    }
   ],
   "source": [
    "# p.274\n",
    "print(df)\n",
    "print()\n",
    "df.fillna(0)"
   ]
  },
  {
   "cell_type": "code",
   "execution_count": 44,
   "metadata": {},
   "outputs": [
    {
     "name": "stdout",
     "output_type": "stream",
     "text": [
      "          0         1         2\n",
      "0  0.439724       NaN       NaN\n",
      "1 -0.137353       NaN       NaN\n",
      "2  0.591854       NaN -0.640148\n",
      "3  0.064228       NaN -0.011918\n",
      "4 -0.141298 -0.364029  0.168711\n",
      "5  0.090006  1.719108  0.633800\n",
      "6 -0.777239 -1.118946 -0.586793\n",
      "\n",
      "          0         1         2\n",
      "0  0.439724  0.500000  0.000000\n",
      "1 -0.137353  0.500000  0.000000\n",
      "2  0.591854  0.500000 -0.640148\n",
      "3  0.064228  0.500000 -0.011918\n",
      "4 -0.141298 -0.364029  0.168711\n",
      "5  0.090006  1.719108  0.633800\n",
      "6 -0.777239 -1.118946 -0.586793\n",
      "\n",
      "          0         1         2\n",
      "0  0.439724       NaN       NaN\n",
      "1 -0.137353       NaN       NaN\n",
      "2  0.591854       NaN -0.640148\n",
      "3  0.064228       NaN -0.011918\n",
      "4 -0.141298 -0.364029  0.168711\n",
      "5  0.090006  1.719108  0.633800\n",
      "6 -0.777239 -1.118946 -0.586793\n"
     ]
    }
   ],
   "source": [
    "print(df)\n",
    "print()\n",
    "print(df.fillna({1:0.5, 2:0})) # 누락된 값을 각 칼럼마다 다르게 채움\n",
    "print()\n",
    "print(df)"
   ]
  },
  {
   "cell_type": "code",
   "execution_count": 49,
   "metadata": {},
   "outputs": [
    {
     "data": {
      "text/html": [
       "<div>\n",
       "<style scoped>\n",
       "    .dataframe tbody tr th:only-of-type {\n",
       "        vertical-align: middle;\n",
       "    }\n",
       "\n",
       "    .dataframe tbody tr th {\n",
       "        vertical-align: top;\n",
       "    }\n",
       "\n",
       "    .dataframe thead th {\n",
       "        text-align: right;\n",
       "    }\n",
       "</style>\n",
       "<table border=\"1\" class=\"dataframe\">\n",
       "  <thead>\n",
       "    <tr style=\"text-align: right;\">\n",
       "      <th></th>\n",
       "      <th>0</th>\n",
       "      <th>1</th>\n",
       "      <th>2</th>\n",
       "    </tr>\n",
       "  </thead>\n",
       "  <tbody>\n",
       "    <tr>\n",
       "      <th>0</th>\n",
       "      <td>0.439724</td>\n",
       "      <td>0.000000</td>\n",
       "      <td>0.000000</td>\n",
       "    </tr>\n",
       "    <tr>\n",
       "      <th>1</th>\n",
       "      <td>-0.137353</td>\n",
       "      <td>0.000000</td>\n",
       "      <td>0.000000</td>\n",
       "    </tr>\n",
       "    <tr>\n",
       "      <th>2</th>\n",
       "      <td>0.591854</td>\n",
       "      <td>0.000000</td>\n",
       "      <td>-0.640148</td>\n",
       "    </tr>\n",
       "    <tr>\n",
       "      <th>3</th>\n",
       "      <td>0.064228</td>\n",
       "      <td>0.000000</td>\n",
       "      <td>-0.011918</td>\n",
       "    </tr>\n",
       "    <tr>\n",
       "      <th>4</th>\n",
       "      <td>-0.141298</td>\n",
       "      <td>-0.364029</td>\n",
       "      <td>0.168711</td>\n",
       "    </tr>\n",
       "    <tr>\n",
       "      <th>5</th>\n",
       "      <td>0.090006</td>\n",
       "      <td>1.719108</td>\n",
       "      <td>0.633800</td>\n",
       "    </tr>\n",
       "    <tr>\n",
       "      <th>6</th>\n",
       "      <td>-0.777239</td>\n",
       "      <td>-1.118946</td>\n",
       "      <td>-0.586793</td>\n",
       "    </tr>\n",
       "  </tbody>\n",
       "</table>\n",
       "</div>"
      ],
      "text/plain": [
       "          0         1         2\n",
       "0  0.439724  0.000000  0.000000\n",
       "1 -0.137353  0.000000  0.000000\n",
       "2  0.591854  0.000000 -0.640148\n",
       "3  0.064228  0.000000 -0.011918\n",
       "4 -0.141298 -0.364029  0.168711\n",
       "5  0.090006  1.719108  0.633800\n",
       "6 -0.777239 -1.118946 -0.586793"
      ]
     },
     "execution_count": 49,
     "metadata": {},
     "output_type": "execute_result"
    }
   ],
   "source": [
    "# p.275\n",
    "'''\n",
    "fillna는 기본적으로 새로운 객체를 반환함(원본에 영향을 주지 않음)\n",
    "하지만, inplace를 통해 기존 객체를 변경 가능\n",
    "'''\n",
    "df.fillna(0,inplace=True)\n",
    "df"
   ]
  },
  {
   "cell_type": "markdown",
   "metadata": {},
   "source": [
    "#### 7.2.1 중복 제거하기 p.277"
   ]
  },
  {
   "cell_type": "code",
   "execution_count": 50,
   "metadata": {},
   "outputs": [
    {
     "name": "stdout",
     "output_type": "stream",
     "text": [
      "['a', 'b', 'a', 'b', 'hello']\n"
     ]
    }
   ],
   "source": [
    "a = ['a','b']\n",
    "print(a*2 + ['hello'])"
   ]
  },
  {
   "cell_type": "code",
   "execution_count": 107,
   "metadata": {},
   "outputs": [
    {
     "name": "stdout",
     "output_type": "stream",
     "text": [
      "    k1  k2\n",
      "0  one   1\n",
      "1  two   1\n",
      "2  one   2\n",
      "3  two   3\n",
      "4  one   3\n",
      "5  two   4\n",
      "6  two   4\n"
     ]
    },
    {
     "data": {
      "text/plain": [
       "0    False\n",
       "1    False\n",
       "2    False\n",
       "3    False\n",
       "4    False\n",
       "5    False\n",
       "6     True\n",
       "dtype: bool"
      ]
     },
     "execution_count": 107,
     "metadata": {},
     "output_type": "execute_result"
    }
   ],
   "source": [
    "# p.277\n",
    "data = pd.DataFrame({'k1':['one','two']*3 + ['two'],\n",
    "                    'k2':[1,1,2,3,3,4,4]})\n",
    "print(data)\n",
    "data.duplicated() # 중복된 데이터 여부 판별"
   ]
  },
  {
   "cell_type": "code",
   "execution_count": 109,
   "metadata": {},
   "outputs": [
    {
     "data": {
      "text/html": [
       "<div>\n",
       "<style scoped>\n",
       "    .dataframe tbody tr th:only-of-type {\n",
       "        vertical-align: middle;\n",
       "    }\n",
       "\n",
       "    .dataframe tbody tr th {\n",
       "        vertical-align: top;\n",
       "    }\n",
       "\n",
       "    .dataframe thead th {\n",
       "        text-align: right;\n",
       "    }\n",
       "</style>\n",
       "<table border=\"1\" class=\"dataframe\">\n",
       "  <thead>\n",
       "    <tr style=\"text-align: right;\">\n",
       "      <th></th>\n",
       "      <th>k1</th>\n",
       "      <th>k2</th>\n",
       "    </tr>\n",
       "  </thead>\n",
       "  <tbody>\n",
       "    <tr>\n",
       "      <th>0</th>\n",
       "      <td>one</td>\n",
       "      <td>1</td>\n",
       "    </tr>\n",
       "    <tr>\n",
       "      <th>1</th>\n",
       "      <td>two</td>\n",
       "      <td>1</td>\n",
       "    </tr>\n",
       "    <tr>\n",
       "      <th>2</th>\n",
       "      <td>one</td>\n",
       "      <td>2</td>\n",
       "    </tr>\n",
       "    <tr>\n",
       "      <th>3</th>\n",
       "      <td>two</td>\n",
       "      <td>3</td>\n",
       "    </tr>\n",
       "    <tr>\n",
       "      <th>4</th>\n",
       "      <td>one</td>\n",
       "      <td>3</td>\n",
       "    </tr>\n",
       "    <tr>\n",
       "      <th>5</th>\n",
       "      <td>two</td>\n",
       "      <td>4</td>\n",
       "    </tr>\n",
       "  </tbody>\n",
       "</table>\n",
       "</div>"
      ],
      "text/plain": [
       "    k1  k2\n",
       "0  one   1\n",
       "1  two   1\n",
       "2  one   2\n",
       "3  two   3\n",
       "4  one   3\n",
       "5  two   4"
      ]
     },
     "execution_count": 109,
     "metadata": {},
     "output_type": "execute_result"
    }
   ],
   "source": [
    " # p.278\n",
    "data.drop_duplicates() # duplicated배열이 False인 DataFrame, 즉 중복데이터 제거한 데이터프레임 반환"
   ]
  },
  {
   "cell_type": "code",
   "execution_count": 61,
   "metadata": {},
   "outputs": [
    {
     "name": "stdout",
     "output_type": "stream",
     "text": [
      "    k1  k2  new  new column  new_column\n",
      "0  one   1    0           0           0\n",
      "1  two   1    1           1           1\n",
      "2  one   2    2           2           2\n",
      "3  two   3    3           3           3\n",
      "4  one   3    4           4           4\n",
      "5  two   4    5           5           5\n",
      "6  two   4    6           6           6\n",
      "\n",
      "    k1  k2  new  new column  new_column\n",
      "0  one   1    0           0           0\n",
      "1  two   1    1           1           1\n",
      "\n",
      "    k1  k2  new  new column  new_column\n",
      "0  one   1    0           0           0\n",
      "2  one   2    2           2           2\n",
      "3  two   3    3           3           3\n",
      "5  two   4    5           5           5\n"
     ]
    }
   ],
   "source": [
    "# p.278\n",
    "data['new_column'] = range(7)\n",
    "print(data)\n",
    "print()\n",
    "print(data.drop_duplicates(['k1'])) # k1 칼럼에 기반하여 중복 제거\n",
    "print()\n",
    "print(data.drop_duplicates(['k2'])) # k2 칼럼에 기반하여 중복 제거"
   ]
  },
  {
   "cell_type": "code",
   "execution_count": 62,
   "metadata": {},
   "outputs": [
    {
     "data": {
      "text/html": [
       "<div>\n",
       "<style scoped>\n",
       "    .dataframe tbody tr th:only-of-type {\n",
       "        vertical-align: middle;\n",
       "    }\n",
       "\n",
       "    .dataframe tbody tr th {\n",
       "        vertical-align: top;\n",
       "    }\n",
       "\n",
       "    .dataframe thead th {\n",
       "        text-align: right;\n",
       "    }\n",
       "</style>\n",
       "<table border=\"1\" class=\"dataframe\">\n",
       "  <thead>\n",
       "    <tr style=\"text-align: right;\">\n",
       "      <th></th>\n",
       "      <th>k1</th>\n",
       "      <th>k2</th>\n",
       "      <th>new</th>\n",
       "      <th>new column</th>\n",
       "      <th>new_column</th>\n",
       "    </tr>\n",
       "  </thead>\n",
       "  <tbody>\n",
       "    <tr>\n",
       "      <th>0</th>\n",
       "      <td>one</td>\n",
       "      <td>1</td>\n",
       "      <td>0</td>\n",
       "      <td>0</td>\n",
       "      <td>0</td>\n",
       "    </tr>\n",
       "    <tr>\n",
       "      <th>1</th>\n",
       "      <td>two</td>\n",
       "      <td>1</td>\n",
       "      <td>1</td>\n",
       "      <td>1</td>\n",
       "      <td>1</td>\n",
       "    </tr>\n",
       "    <tr>\n",
       "      <th>2</th>\n",
       "      <td>one</td>\n",
       "      <td>2</td>\n",
       "      <td>2</td>\n",
       "      <td>2</td>\n",
       "      <td>2</td>\n",
       "    </tr>\n",
       "    <tr>\n",
       "      <th>3</th>\n",
       "      <td>two</td>\n",
       "      <td>3</td>\n",
       "      <td>3</td>\n",
       "      <td>3</td>\n",
       "      <td>3</td>\n",
       "    </tr>\n",
       "    <tr>\n",
       "      <th>4</th>\n",
       "      <td>one</td>\n",
       "      <td>3</td>\n",
       "      <td>4</td>\n",
       "      <td>4</td>\n",
       "      <td>4</td>\n",
       "    </tr>\n",
       "    <tr>\n",
       "      <th>6</th>\n",
       "      <td>two</td>\n",
       "      <td>4</td>\n",
       "      <td>6</td>\n",
       "      <td>6</td>\n",
       "      <td>6</td>\n",
       "    </tr>\n",
       "  </tbody>\n",
       "</table>\n",
       "</div>"
      ],
      "text/plain": [
       "    k1  k2  new  new column  new_column\n",
       "0  one   1    0           0           0\n",
       "1  two   1    1           1           1\n",
       "2  one   2    2           2           2\n",
       "3  two   3    3           3           3\n",
       "4  one   3    4           4           4\n",
       "6  two   4    6           6           6"
      ]
     },
     "execution_count": 62,
     "metadata": {},
     "output_type": "execute_result"
    }
   ],
   "source": [
    "# p.278\n",
    "# 중복된 값 중 마지막 것을 기준으로 반환\n",
    "data.drop_duplicates(['k1','k2'],keep='last')"
   ]
  },
  {
   "cell_type": "markdown",
   "metadata": {},
   "source": [
    "### Chapter 8. 데이터 준비하기: 조인, 병합, 변형 p.307"
   ]
  },
  {
   "cell_type": "markdown",
   "metadata": {},
   "source": [
    "- 계층적 색인"
   ]
  },
  {
   "cell_type": "code",
   "execution_count": 64,
   "metadata": {},
   "outputs": [
    {
     "data": {
      "text/plain": [
       "a  1   -2.402316\n",
       "   2    0.844221\n",
       "   3    0.906479\n",
       "b  1   -0.715036\n",
       "   3   -1.115849\n",
       "c  1   -1.225238\n",
       "   2   -1.255571\n",
       "d  2    0.180583\n",
       "   3   -0.965010\n",
       "dtype: float64"
      ]
     },
     "execution_count": 64,
     "metadata": {},
     "output_type": "execute_result"
    }
   ],
   "source": [
    "'''\n",
    "다중 색인\n",
    "높은 차원의 데이터를 낮은 차원의 형식으로 다룰 수 있게 해줌\n",
    "'''\n",
    "data = pd.Series(np.random.randn(9)\n",
    "                 ,index=[['a','a','a','b','b','c','c','d','d']\n",
    "                        ,[1,2,3,1,3,1,2,2,3]])\n",
    "data                 "
   ]
  },
  {
   "cell_type": "code",
   "execution_count": 65,
   "metadata": {},
   "outputs": [
    {
     "data": {
      "text/plain": [
       "MultiIndex([('a', 1),\n",
       "            ('a', 2),\n",
       "            ('a', 3),\n",
       "            ('b', 1),\n",
       "            ('b', 3),\n",
       "            ('c', 1),\n",
       "            ('c', 2),\n",
       "            ('d', 2),\n",
       "            ('d', 3)],\n",
       "           )"
      ]
     },
     "execution_count": 65,
     "metadata": {},
     "output_type": "execute_result"
    }
   ],
   "source": [
    "data.index"
   ]
  },
  {
   "cell_type": "code",
   "execution_count": 68,
   "metadata": {},
   "outputs": [
    {
     "name": "stdout",
     "output_type": "stream",
     "text": [
      "a  1   -2.402316\n",
      "   2    0.844221\n",
      "   3    0.906479\n",
      "b  1   -0.715036\n",
      "   3   -1.115849\n",
      "c  1   -1.225238\n",
      "   2   -1.255571\n",
      "d  2    0.180583\n",
      "   3   -0.965010\n",
      "dtype: float64\n",
      "\n",
      "1   -0.715036\n",
      "3   -1.115849\n",
      "dtype: float64\n",
      "\n",
      "b  1   -0.715036\n",
      "   3   -1.115849\n",
      "c  1   -1.225238\n",
      "   2   -1.255571\n",
      "dtype: float64\n"
     ]
    },
    {
     "data": {
      "text/plain": [
       "b  1   -0.715036\n",
       "   3   -1.115849\n",
       "d  2    0.180583\n",
       "   3   -0.965010\n",
       "dtype: float64"
      ]
     },
     "execution_count": 68,
     "metadata": {},
     "output_type": "execute_result"
    }
   ],
   "source": [
    "# p.308\n",
    "print(data)\n",
    "print()\n",
    "print(data['b'])\n",
    "print()\n",
    "print(data['b':'c'])\n",
    "data.loc[['b','d']]"
   ]
  },
  {
   "cell_type": "code",
   "execution_count": 70,
   "metadata": {},
   "outputs": [
    {
     "data": {
      "text/plain": [
       "a    0.844221\n",
       "c   -1.255571\n",
       "d    0.180583\n",
       "dtype: float64"
      ]
     },
     "execution_count": 70,
     "metadata": {},
     "output_type": "execute_result"
    }
   ],
   "source": [
    "# p.309\n",
    "data.loc[:, 2] # 하위 계층의 객체 선택"
   ]
  },
  {
   "cell_type": "code",
   "execution_count": 73,
   "metadata": {},
   "outputs": [
    {
     "name": "stdout",
     "output_type": "stream",
     "text": [
      "a  1   -2.402316\n",
      "   2    0.844221\n",
      "   3    0.906479\n",
      "b  1   -0.715036\n",
      "   3   -1.115849\n",
      "c  1   -1.225238\n",
      "   2   -1.255571\n",
      "d  2    0.180583\n",
      "   3   -0.965010\n",
      "dtype: float64\n",
      "\n",
      "          1         2         3\n",
      "a -2.402316  0.844221  0.906479\n",
      "b -0.715036       NaN -1.115849\n",
      "c -1.225238 -1.255571       NaN\n",
      "d       NaN  0.180583 -0.965010\n"
     ]
    },
    {
     "data": {
      "text/html": [
       "<div>\n",
       "<style scoped>\n",
       "    .dataframe tbody tr th:only-of-type {\n",
       "        vertical-align: middle;\n",
       "    }\n",
       "\n",
       "    .dataframe tbody tr th {\n",
       "        vertical-align: top;\n",
       "    }\n",
       "\n",
       "    .dataframe thead th {\n",
       "        text-align: right;\n",
       "    }\n",
       "</style>\n",
       "<table border=\"1\" class=\"dataframe\">\n",
       "  <thead>\n",
       "    <tr style=\"text-align: right;\">\n",
       "      <th></th>\n",
       "      <th>1</th>\n",
       "      <th>2</th>\n",
       "      <th>3</th>\n",
       "    </tr>\n",
       "  </thead>\n",
       "  <tbody>\n",
       "    <tr>\n",
       "      <th>a</th>\n",
       "      <td>-2.402316</td>\n",
       "      <td>0.844221</td>\n",
       "      <td>0.906479</td>\n",
       "    </tr>\n",
       "    <tr>\n",
       "      <th>b</th>\n",
       "      <td>-0.715036</td>\n",
       "      <td>NaN</td>\n",
       "      <td>-1.115849</td>\n",
       "    </tr>\n",
       "    <tr>\n",
       "      <th>c</th>\n",
       "      <td>-1.225238</td>\n",
       "      <td>-1.255571</td>\n",
       "      <td>NaN</td>\n",
       "    </tr>\n",
       "    <tr>\n",
       "      <th>d</th>\n",
       "      <td>NaN</td>\n",
       "      <td>0.180583</td>\n",
       "      <td>-0.965010</td>\n",
       "    </tr>\n",
       "  </tbody>\n",
       "</table>\n",
       "</div>"
      ],
      "text/plain": [
       "          1         2         3\n",
       "a -2.402316  0.844221  0.906479\n",
       "b -0.715036       NaN -1.115849\n",
       "c -1.225238 -1.255571       NaN\n",
       "d       NaN  0.180583 -0.965010"
      ]
     },
     "execution_count": 73,
     "metadata": {},
     "output_type": "execute_result"
    }
   ],
   "source": [
    "# p.309\n",
    "print(data)\n",
    "print()\n",
    "print(data.unstack()) # 계층 색인의 로우를 칼럼으로\n",
    "data.unstack()"
   ]
  },
  {
   "cell_type": "code",
   "execution_count": 74,
   "metadata": {},
   "outputs": [
    {
     "data": {
      "text/plain": [
       "a  1   -2.402316\n",
       "   2    0.844221\n",
       "   3    0.906479\n",
       "b  1   -0.715036\n",
       "   3   -1.115849\n",
       "c  1   -1.225238\n",
       "   2   -1.255571\n",
       "d  2    0.180583\n",
       "   3   -0.965010\n",
       "dtype: float64"
      ]
     },
     "execution_count": 74,
     "metadata": {},
     "output_type": "execute_result"
    }
   ],
   "source": [
    "# p.309\n",
    "data.unstack().stack() # 계층 색인의 칼럼을 로우로"
   ]
  },
  {
   "cell_type": "markdown",
   "metadata": {},
   "source": [
    "**stack vs unstack**\n",
    "\n",
    "![image.png](data:image/png;base64,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)"
   ]
  },
  {
   "cell_type": "markdown",
   "metadata": {},
   "source": [
    "### 데이터 합치기  p.315"
   ]
  },
  {
   "cell_type": "markdown",
   "metadata": {},
   "source": [
    "#### 8.2.1 데이터베이스 스타일로 DataFrame 합치기 p.315\n",
    "\n",
    "```\n",
    "pandas.merge 는 하나 이상의 키를 기준으로 DataFrame 의 로우를 합친다.\n",
    "SQL이나 다른 관계형 데이터베이스의 join 연산과 유사하다.\n",
    " \n",
    "pandas.concat 은 하나의 축을 따라 객체를 이어붙인다.\n",
    " \n",
    "combine_first 인스턴스 메서드는 두 객체를 포개서 한 객체에서 누락된 데이터를 다른 객체에 있는 값으로 채울 수 있도록 한다.\n",
    "```"
   ]
  },
  {
   "cell_type": "code",
   "execution_count": 110,
   "metadata": {},
   "outputs": [
    {
     "name": "stdout",
     "output_type": "stream",
     "text": [
      "  key  data1\n",
      "0   b      0\n",
      "1   b      1\n",
      "2   a      2\n",
      "3   c      3\n",
      "4   a      4\n",
      "5   a      5\n",
      "6   b      6\n",
      "\n",
      "  key  data2\n",
      "0   a      0\n",
      "1   b      1\n",
      "2   d      2\n"
     ]
    },
    {
     "data": {
      "text/html": [
       "<div>\n",
       "<style scoped>\n",
       "    .dataframe tbody tr th:only-of-type {\n",
       "        vertical-align: middle;\n",
       "    }\n",
       "\n",
       "    .dataframe tbody tr th {\n",
       "        vertical-align: top;\n",
       "    }\n",
       "\n",
       "    .dataframe thead th {\n",
       "        text-align: right;\n",
       "    }\n",
       "</style>\n",
       "<table border=\"1\" class=\"dataframe\">\n",
       "  <thead>\n",
       "    <tr style=\"text-align: right;\">\n",
       "      <th></th>\n",
       "      <th>key</th>\n",
       "      <th>data2</th>\n",
       "    </tr>\n",
       "  </thead>\n",
       "  <tbody>\n",
       "    <tr>\n",
       "      <th>0</th>\n",
       "      <td>a</td>\n",
       "      <td>0</td>\n",
       "    </tr>\n",
       "    <tr>\n",
       "      <th>1</th>\n",
       "      <td>b</td>\n",
       "      <td>1</td>\n",
       "    </tr>\n",
       "    <tr>\n",
       "      <th>2</th>\n",
       "      <td>d</td>\n",
       "      <td>2</td>\n",
       "    </tr>\n",
       "  </tbody>\n",
       "</table>\n",
       "</div>"
      ],
      "text/plain": [
       "  key  data2\n",
       "0   a      0\n",
       "1   b      1\n",
       "2   d      2"
      ]
     },
     "execution_count": 110,
     "metadata": {},
     "output_type": "execute_result"
    }
   ],
   "source": [
    "# p.316\n",
    "\n",
    "df1 = pd.DataFrame({'key': ['b','b','a','c','a','a','b']\n",
    "                   ,'data1': range(7)})\n",
    "df2 = pd.DataFrame({'key': ['a','b','d']\n",
    "                   ,'data2': range(3)})\n",
    "print(df1)\n",
    "print()\n",
    "print(df2)\n",
    "df1\n",
    "df2"
   ]
  },
  {
   "cell_type": "code",
   "execution_count": 84,
   "metadata": {},
   "outputs": [
    {
     "data": {
      "text/html": [
       "<div>\n",
       "<style scoped>\n",
       "    .dataframe tbody tr th:only-of-type {\n",
       "        vertical-align: middle;\n",
       "    }\n",
       "\n",
       "    .dataframe tbody tr th {\n",
       "        vertical-align: top;\n",
       "    }\n",
       "\n",
       "    .dataframe thead th {\n",
       "        text-align: right;\n",
       "    }\n",
       "</style>\n",
       "<table border=\"1\" class=\"dataframe\">\n",
       "  <thead>\n",
       "    <tr style=\"text-align: right;\">\n",
       "      <th></th>\n",
       "      <th>key</th>\n",
       "      <th>data1</th>\n",
       "      <th>data2</th>\n",
       "    </tr>\n",
       "  </thead>\n",
       "  <tbody>\n",
       "    <tr>\n",
       "      <th>0</th>\n",
       "      <td>b</td>\n",
       "      <td>0</td>\n",
       "      <td>1</td>\n",
       "    </tr>\n",
       "    <tr>\n",
       "      <th>1</th>\n",
       "      <td>b</td>\n",
       "      <td>1</td>\n",
       "      <td>1</td>\n",
       "    </tr>\n",
       "    <tr>\n",
       "      <th>2</th>\n",
       "      <td>b</td>\n",
       "      <td>6</td>\n",
       "      <td>1</td>\n",
       "    </tr>\n",
       "    <tr>\n",
       "      <th>3</th>\n",
       "      <td>a</td>\n",
       "      <td>2</td>\n",
       "      <td>0</td>\n",
       "    </tr>\n",
       "    <tr>\n",
       "      <th>4</th>\n",
       "      <td>a</td>\n",
       "      <td>4</td>\n",
       "      <td>0</td>\n",
       "    </tr>\n",
       "    <tr>\n",
       "      <th>5</th>\n",
       "      <td>a</td>\n",
       "      <td>5</td>\n",
       "      <td>0</td>\n",
       "    </tr>\n",
       "  </tbody>\n",
       "</table>\n",
       "</div>"
      ],
      "text/plain": [
       "  key  data1  data2\n",
       "0   b      0      1\n",
       "1   b      1      1\n",
       "2   b      6      1\n",
       "3   a      2      0\n",
       "4   a      4      0\n",
       "5   a      5      0"
      ]
     },
     "execution_count": 84,
     "metadata": {},
     "output_type": "execute_result"
    }
   ],
   "source": [
    "'''\n",
    "pandas.merge는 기본적으로\n",
    "- 중복된 칼럼 이름을 키로 사용함\n",
    "- 내부 조인을 수행하여 교집합인 결과를 반환함\n",
    "'''\n",
    "pd.merge(df1, df2)"
   ]
  },
  {
   "cell_type": "code",
   "execution_count": 80,
   "metadata": {},
   "outputs": [
    {
     "data": {
      "text/html": [
       "<div>\n",
       "<style scoped>\n",
       "    .dataframe tbody tr th:only-of-type {\n",
       "        vertical-align: middle;\n",
       "    }\n",
       "\n",
       "    .dataframe tbody tr th {\n",
       "        vertical-align: top;\n",
       "    }\n",
       "\n",
       "    .dataframe thead th {\n",
       "        text-align: right;\n",
       "    }\n",
       "</style>\n",
       "<table border=\"1\" class=\"dataframe\">\n",
       "  <thead>\n",
       "    <tr style=\"text-align: right;\">\n",
       "      <th></th>\n",
       "      <th>key</th>\n",
       "      <th>data1_x</th>\n",
       "      <th>data1_y</th>\n",
       "    </tr>\n",
       "  </thead>\n",
       "  <tbody>\n",
       "    <tr>\n",
       "      <th>0</th>\n",
       "      <td>b</td>\n",
       "      <td>0</td>\n",
       "      <td>1</td>\n",
       "    </tr>\n",
       "    <tr>\n",
       "      <th>1</th>\n",
       "      <td>b</td>\n",
       "      <td>1</td>\n",
       "      <td>1</td>\n",
       "    </tr>\n",
       "    <tr>\n",
       "      <th>2</th>\n",
       "      <td>b</td>\n",
       "      <td>6</td>\n",
       "      <td>1</td>\n",
       "    </tr>\n",
       "    <tr>\n",
       "      <th>3</th>\n",
       "      <td>a</td>\n",
       "      <td>2</td>\n",
       "      <td>0</td>\n",
       "    </tr>\n",
       "    <tr>\n",
       "      <th>4</th>\n",
       "      <td>a</td>\n",
       "      <td>4</td>\n",
       "      <td>0</td>\n",
       "    </tr>\n",
       "    <tr>\n",
       "      <th>5</th>\n",
       "      <td>a</td>\n",
       "      <td>5</td>\n",
       "      <td>0</td>\n",
       "    </tr>\n",
       "  </tbody>\n",
       "</table>\n",
       "</div>"
      ],
      "text/plain": [
       "  key  data1_x  data1_y\n",
       "0   b        0        1\n",
       "1   b        1        1\n",
       "2   b        6        1\n",
       "3   a        2        0\n",
       "4   a        4        0\n",
       "5   a        5        0"
      ]
     },
     "execution_count": 80,
     "metadata": {},
     "output_type": "execute_result"
    }
   ],
   "source": [
    "pd.merge(df1,df2,on = 'key') # 키를 명시적으로 지정함"
   ]
  },
  {
   "cell_type": "code",
   "execution_count": 91,
   "metadata": {},
   "outputs": [
    {
     "name": "stdout",
     "output_type": "stream",
     "text": [
      "  lkey  data1\n",
      "0    b      0\n",
      "1    b      1\n",
      "2    a      2\n",
      "3    c      3\n",
      "4    a      4\n",
      "5    a      5\n",
      "6    b      6\n",
      "\n",
      "  rkey  data2\n",
      "0    a      0\n",
      "1    b      1\n",
      "2    d      2\n",
      "\n",
      "  lkey  data1 rkey  data2\n",
      "0    b      0    b      1\n",
      "1    b      1    b      1\n",
      "2    b      6    b      1\n",
      "3    a      2    a      0\n",
      "4    a      4    a      0\n",
      "5    a      5    a      0\n"
     ]
    }
   ],
   "source": [
    "'''\n",
    "두 객체에 중복된 칼럼 이름이 없다면 따로 지정해주면 됨\n",
    "'''\n",
    "df3 = pd.DataFrame({'lkey':['b','b','a','c','a','a','b']\n",
    "                   ,'data1':range(7)})\n",
    "print(df3)\n",
    "print()\n",
    "df4 = pd.DataFrame({'rkey':['a','b','d']\n",
    "                           ,'data2':range(3)})\n",
    "print(df4)\n",
    "print()\n",
    "# print(pd.merge(df3, df4)) # 중복된 칼럼이 없으면 오류 발생\n",
    "print(pd.merge(df3, df4, left_on='lkey', right_on='rkey'))"
   ]
  },
  {
   "cell_type": "code",
   "execution_count": 96,
   "metadata": {},
   "outputs": [
    {
     "name": "stdout",
     "output_type": "stream",
     "text": [
      "  key  data1  data2\n",
      "0   b      0      1\n",
      "1   b      1      1\n",
      "2   b      6      1\n",
      "3   a      2      0\n",
      "4   a      4      0\n",
      "5   a      5      0\n",
      "\n",
      "  key  data1  data2\n",
      "0   b      0    1.0\n",
      "1   b      1    1.0\n",
      "2   a      2    0.0\n",
      "3   c      3    NaN\n",
      "4   a      4    0.0\n",
      "5   a      5    0.0\n",
      "6   b      6    1.0\n",
      "\n",
      "  key  data1  data2\n",
      "0   a    2.0      0\n",
      "1   a    4.0      0\n",
      "2   a    5.0      0\n",
      "3   b    0.0      1\n",
      "4   b    1.0      1\n",
      "5   b    6.0      1\n",
      "6   d    NaN      2\n",
      "\n",
      "  key  data1  data2\n",
      "0   b    0.0    1.0\n",
      "1   b    1.0    1.0\n",
      "2   b    6.0    1.0\n",
      "3   a    2.0    0.0\n",
      "4   a    4.0    0.0\n",
      "5   a    5.0    0.0\n",
      "6   c    3.0    NaN\n",
      "7   d    NaN    2.0\n"
     ]
    },
    {
     "data": {
      "text/html": [
       "<div>\n",
       "<style scoped>\n",
       "    .dataframe tbody tr th:only-of-type {\n",
       "        vertical-align: middle;\n",
       "    }\n",
       "\n",
       "    .dataframe tbody tr th {\n",
       "        vertical-align: top;\n",
       "    }\n",
       "\n",
       "    .dataframe thead th {\n",
       "        text-align: right;\n",
       "    }\n",
       "</style>\n",
       "<table border=\"1\" class=\"dataframe\">\n",
       "  <thead>\n",
       "    <tr style=\"text-align: right;\">\n",
       "      <th></th>\n",
       "      <th>key</th>\n",
       "      <th>data1</th>\n",
       "      <th>data2</th>\n",
       "    </tr>\n",
       "  </thead>\n",
       "  <tbody>\n",
       "    <tr>\n",
       "      <th>0</th>\n",
       "      <td>b</td>\n",
       "      <td>0.0</td>\n",
       "      <td>1.0</td>\n",
       "    </tr>\n",
       "    <tr>\n",
       "      <th>1</th>\n",
       "      <td>b</td>\n",
       "      <td>1.0</td>\n",
       "      <td>1.0</td>\n",
       "    </tr>\n",
       "    <tr>\n",
       "      <th>2</th>\n",
       "      <td>b</td>\n",
       "      <td>6.0</td>\n",
       "      <td>1.0</td>\n",
       "    </tr>\n",
       "    <tr>\n",
       "      <th>3</th>\n",
       "      <td>a</td>\n",
       "      <td>2.0</td>\n",
       "      <td>0.0</td>\n",
       "    </tr>\n",
       "    <tr>\n",
       "      <th>4</th>\n",
       "      <td>a</td>\n",
       "      <td>4.0</td>\n",
       "      <td>0.0</td>\n",
       "    </tr>\n",
       "    <tr>\n",
       "      <th>5</th>\n",
       "      <td>a</td>\n",
       "      <td>5.0</td>\n",
       "      <td>0.0</td>\n",
       "    </tr>\n",
       "    <tr>\n",
       "      <th>6</th>\n",
       "      <td>c</td>\n",
       "      <td>3.0</td>\n",
       "      <td>NaN</td>\n",
       "    </tr>\n",
       "    <tr>\n",
       "      <th>7</th>\n",
       "      <td>d</td>\n",
       "      <td>NaN</td>\n",
       "      <td>2.0</td>\n",
       "    </tr>\n",
       "  </tbody>\n",
       "</table>\n",
       "</div>"
      ],
      "text/plain": [
       "  key  data1  data2\n",
       "0   b    0.0    1.0\n",
       "1   b    1.0    1.0\n",
       "2   b    6.0    1.0\n",
       "3   a    2.0    0.0\n",
       "4   a    4.0    0.0\n",
       "5   a    5.0    0.0\n",
       "6   c    3.0    NaN\n",
       "7   d    NaN    2.0"
      ]
     },
     "execution_count": 96,
     "metadata": {},
     "output_type": "execute_result"
    }
   ],
   "source": [
    "# p.317\n",
    "'''\n",
    "how 인자를 통해 조인 연산을 다양하게 사용 가능\n",
    "    inner : 양쪽 테이블 모두에 존재하는 키 조합 사용\n",
    "    left : 왼쪽 테이블 모두에 존재하는 키 조합 사용\n",
    "    right : 오른쪽 테이블 모두에 존재하는 키 조합 사용\n",
    "    outer : 양쪽 테이블 모두에 존재하는 키 조합 사용\n",
    "'''\n",
    "\n",
    "print(pd.merge(df1, df2, how='inner')) # 양쪽 테이블 모두에 존재하는 키 조합 사용\n",
    "print()\n",
    "print(pd.merge(df1, df2, how='left')) # 왼쪽 조인, 왼쪽 모든 로우 포함한 결과 반환\n",
    "print()\n",
    "print(pd.merge(df1, df2, how='right')) # 오른쪽 조인, 오른쪽 모든 로우 포함한 결과 반환\n",
    "print()\n",
    "print(pd.merge(df1, df2, how='outer')) # 외부조인, 합집합 결과 반환\n",
    "pd.merge(df1, df2, how='outer')"
   ]
  },
  {
   "cell_type": "markdown",
   "metadata": {},
   "source": [
    "### Chapter 10. 데이터 집계와 그룹 연산\n",
    "\n",
    "```\n",
    "데이터셋을 분류하고 각 그룹에 집계나 변형 같은 함수를 적용하는 것은\n",
    "데이터 분석 과정에서 무척 중요한 일이다.\n",
    " \n",
    "데이터를 불러오고 취합해서 하나의 데이터 집합을 준비하고 나면,\n",
    "그룹 통계를 구하거나 피벗테이블을 구해서 보고서를 만들거나 시각화하게 된다.\n",
    " \n",
    "pandas 는 데이터 집합을 자연스럽게 나누고 요약할 수 있는\n",
    "groupby  라는 유연한 방법을 제공한다.\n",
    "```"
   ]
  },
  {
   "cell_type": "markdown",
   "metadata": {},
   "source": [
    "#### 10.1 GroupBy 메카닉 p.386\n",
    "\n",
    "```\n",
    "p.386 그림 10-1 그룹 연산 예시\n",
    "분리(하나 이상의 키를 기준으로)-적용-결합\n",
    "```"
   ]
  },
  {
   "attachments": {
    "image.png": {
     "image/png": "[encoded data removed]"
    }
   },
   "cell_type": "markdown",
   "metadata": {},
   "source": [
    "![image.png](attachment:image.png)"
   ]
  },
  {
   "cell_type": "code",
   "execution_count": 101,
   "metadata": {},
   "outputs": [
    {
     "data": {
      "text/html": [
       "<div>\n",
       "<style scoped>\n",
       "    .dataframe tbody tr th:only-of-type {\n",
       "        vertical-align: middle;\n",
       "    }\n",
       "\n",
       "    .dataframe tbody tr th {\n",
       "        vertical-align: top;\n",
       "    }\n",
       "\n",
       "    .dataframe thead th {\n",
       "        text-align: right;\n",
       "    }\n",
       "</style>\n",
       "<table border=\"1\" class=\"dataframe\">\n",
       "  <thead>\n",
       "    <tr style=\"text-align: right;\">\n",
       "      <th></th>\n",
       "      <th>key1</th>\n",
       "      <th>key2</th>\n",
       "      <th>data1</th>\n",
       "      <th>data2</th>\n",
       "    </tr>\n",
       "  </thead>\n",
       "  <tbody>\n",
       "    <tr>\n",
       "      <th>0</th>\n",
       "      <td>a</td>\n",
       "      <td>one</td>\n",
       "      <td>0.283009</td>\n",
       "      <td>-2.309809</td>\n",
       "    </tr>\n",
       "    <tr>\n",
       "      <th>1</th>\n",
       "      <td>a</td>\n",
       "      <td>two</td>\n",
       "      <td>1.117978</td>\n",
       "      <td>2.477313</td>\n",
       "    </tr>\n",
       "    <tr>\n",
       "      <th>2</th>\n",
       "      <td>b</td>\n",
       "      <td>one</td>\n",
       "      <td>-1.957772</td>\n",
       "      <td>1.669553</td>\n",
       "    </tr>\n",
       "    <tr>\n",
       "      <th>3</th>\n",
       "      <td>b</td>\n",
       "      <td>two</td>\n",
       "      <td>1.801755</td>\n",
       "      <td>-1.341862</td>\n",
       "    </tr>\n",
       "    <tr>\n",
       "      <th>4</th>\n",
       "      <td>a</td>\n",
       "      <td>one</td>\n",
       "      <td>1.861467</td>\n",
       "      <td>-0.162730</td>\n",
       "    </tr>\n",
       "  </tbody>\n",
       "</table>\n",
       "</div>"
      ],
      "text/plain": [
       "  key1 key2     data1     data2\n",
       "0    a  one  0.283009 -2.309809\n",
       "1    a  two  1.117978  2.477313\n",
       "2    b  one -1.957772  1.669553\n",
       "3    b  two  1.801755 -1.341862\n",
       "4    a  one  1.861467 -0.162730"
      ]
     },
     "execution_count": 101,
     "metadata": {},
     "output_type": "execute_result"
    }
   ],
   "source": [
    "# p.387\n",
    "import pandas as pd\n",
    "df = pd.DataFrame({'key1':['a','a','b','b','a']\n",
    "                  , 'key2' :['one','two','one','two','one']\n",
    "                  , 'data1': np.random.randn(5)\n",
    "                  , 'data2': np.random.randn(5)})\n",
    "df"
   ]
  },
  {
   "cell_type": "code",
   "execution_count": 102,
   "metadata": {},
   "outputs": [
    {
     "name": "stdout",
     "output_type": "stream",
     "text": [
      "<pandas.core.groupby.generic.SeriesGroupBy object at 0x00000208C8F3C610>\n",
      "\n"
     ]
    },
    {
     "data": {
      "text/plain": [
       "key1\n",
       "a    1.087485\n",
       "b   -0.078009\n",
       "Name: data1, dtype: float64"
      ]
     },
     "execution_count": 102,
     "metadata": {},
     "output_type": "execute_result"
    }
   ],
   "source": [
    "'''\n",
    "데이터를 key1으로 묶고 각 그룹에서 data1의 평균 구하기\n",
    "'''\n",
    "grouped = df['data1'].groupby(df['key1'])\n",
    "print(grouped)\n",
    "print()\n",
    "grouped.mean()"
   ]
  },
  {
   "cell_type": "code",
   "execution_count": 103,
   "metadata": {},
   "outputs": [
    {
     "data": {
      "text/plain": [
       "key1  key2\n",
       "a     one     1.072238\n",
       "      two     1.117978\n",
       "b     one    -1.957772\n",
       "      two     1.801755\n",
       "Name: data1, dtype: float64"
      ]
     },
     "execution_count": 103,
     "metadata": {},
     "output_type": "execute_result"
    }
   ],
   "source": [
    "'''\n",
    "여러개의 키로 묶기\n",
    "'''\n",
    "means = df['data1'].groupby([df['key1'], df['key2']]).mean()\n",
    "means"
   ]
  },
  {
   "cell_type": "code",
   "execution_count": 104,
   "metadata": {},
   "outputs": [
    {
     "data": {
      "text/html": [
       "<div>\n",
       "<style scoped>\n",
       "    .dataframe tbody tr th:only-of-type {\n",
       "        vertical-align: middle;\n",
       "    }\n",
       "\n",
       "    .dataframe tbody tr th {\n",
       "        vertical-align: top;\n",
       "    }\n",
       "\n",
       "    .dataframe thead th {\n",
       "        text-align: right;\n",
       "    }\n",
       "</style>\n",
       "<table border=\"1\" class=\"dataframe\">\n",
       "  <thead>\n",
       "    <tr style=\"text-align: right;\">\n",
       "      <th>key2</th>\n",
       "      <th>one</th>\n",
       "      <th>two</th>\n",
       "    </tr>\n",
       "    <tr>\n",
       "      <th>key1</th>\n",
       "      <th></th>\n",
       "      <th></th>\n",
       "    </tr>\n",
       "  </thead>\n",
       "  <tbody>\n",
       "    <tr>\n",
       "      <th>a</th>\n",
       "      <td>1.072238</td>\n",
       "      <td>1.117978</td>\n",
       "    </tr>\n",
       "    <tr>\n",
       "      <th>b</th>\n",
       "      <td>-1.957772</td>\n",
       "      <td>1.801755</td>\n",
       "    </tr>\n",
       "  </tbody>\n",
       "</table>\n",
       "</div>"
      ],
      "text/plain": [
       "key2       one       two\n",
       "key1                    \n",
       "a     1.072238  1.117978\n",
       "b    -1.957772  1.801755"
      ]
     },
     "execution_count": 104,
     "metadata": {},
     "output_type": "execute_result"
    }
   ],
   "source": [
    "means.unstack()"
   ]
  },
  {
   "cell_type": "code",
   "execution_count": 105,
   "metadata": {},
   "outputs": [
    {
     "ename": "AttributeError",
     "evalue": "'Series' object has no attribute 'stack'",
     "output_type": "error",
     "traceback": [
      "\u001b[1;31m---------------------------------------------------------------------------\u001b[0m",
      "\u001b[1;31mAttributeError\u001b[0m                            Traceback (most recent call last)",
      "\u001b[1;32m<ipython-input-105-c88ef9b4a1bf>\u001b[0m in \u001b[0;36m<module>\u001b[1;34m\u001b[0m\n\u001b[1;32m----> 1\u001b[1;33m \u001b[0mmeans\u001b[0m\u001b[1;33m.\u001b[0m\u001b[0mstack\u001b[0m\u001b[1;33m(\u001b[0m\u001b[1;33m)\u001b[0m\u001b[1;33m\u001b[0m\u001b[1;33m\u001b[0m\u001b[0m\n\u001b[0m",
      "\u001b[1;32m~\\anaconda3\\lib\\site-packages\\pandas\\core\\generic.py\u001b[0m in \u001b[0;36m__getattr__\u001b[1;34m(self, name)\u001b[0m\n\u001b[0;32m   5463\u001b[0m             \u001b[1;32mif\u001b[0m \u001b[0mself\u001b[0m\u001b[1;33m.\u001b[0m\u001b[0m_info_axis\u001b[0m\u001b[1;33m.\u001b[0m\u001b[0m_can_hold_identifiers_and_holds_name\u001b[0m\u001b[1;33m(\u001b[0m\u001b[0mname\u001b[0m\u001b[1;33m)\u001b[0m\u001b[1;33m:\u001b[0m\u001b[1;33m\u001b[0m\u001b[1;33m\u001b[0m\u001b[0m\n\u001b[0;32m   5464\u001b[0m                 \u001b[1;32mreturn\u001b[0m \u001b[0mself\u001b[0m\u001b[1;33m[\u001b[0m\u001b[0mname\u001b[0m\u001b[1;33m]\u001b[0m\u001b[1;33m\u001b[0m\u001b[1;33m\u001b[0m\u001b[0m\n\u001b[1;32m-> 5465\u001b[1;33m             \u001b[1;32mreturn\u001b[0m \u001b[0mobject\u001b[0m\u001b[1;33m.\u001b[0m\u001b[0m__getattribute__\u001b[0m\u001b[1;33m(\u001b[0m\u001b[0mself\u001b[0m\u001b[1;33m,\u001b[0m \u001b[0mname\u001b[0m\u001b[1;33m)\u001b[0m\u001b[1;33m\u001b[0m\u001b[1;33m\u001b[0m\u001b[0m\n\u001b[0m\u001b[0;32m   5466\u001b[0m \u001b[1;33m\u001b[0m\u001b[0m\n\u001b[0;32m   5467\u001b[0m     \u001b[1;32mdef\u001b[0m \u001b[0m__setattr__\u001b[0m\u001b[1;33m(\u001b[0m\u001b[0mself\u001b[0m\u001b[1;33m,\u001b[0m \u001b[0mname\u001b[0m\u001b[1;33m:\u001b[0m \u001b[0mstr\u001b[0m\u001b[1;33m,\u001b[0m \u001b[0mvalue\u001b[0m\u001b[1;33m)\u001b[0m \u001b[1;33m->\u001b[0m \u001b[1;32mNone\u001b[0m\u001b[1;33m:\u001b[0m\u001b[1;33m\u001b[0m\u001b[1;33m\u001b[0m\u001b[0m\n",
      "\u001b[1;31mAttributeError\u001b[0m: 'Series' object has no attribute 'stack'"
     ]
    }
   ],
   "source": [
    "means.stack() # 계층 색인의 로우를 칼럼으로"
   ]
  }
 ],
 "metadata": {
  "kernelspec": {
   "display_name": "Python 3",
   "language": "python",
   "name": "python3"
  },
  "language_info": {
   "codemirror_mode": {
    "name": "ipython",
    "version": 3
   },
   "file_extension": ".py",
   "mimetype": "text/x-python",
   "name": "python",
   "nbconvert_exporter": "python",
   "pygments_lexer": "ipython3",
   "version": "3.8.5"
  }
 },
 "nbformat": 4,
 "nbformat_minor": 4
}
